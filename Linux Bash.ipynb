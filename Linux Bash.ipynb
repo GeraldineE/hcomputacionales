{
 "cells": [
  {
   "cell_type": "markdown",
   "metadata": {},
   "source": [
    "# Programación en Bash  \n",
    "\n",
    "Multiples actividades en nuestro sistema operativo pueden ser constituidas por elementos repetitivos o por largas secuencias de acciones, y además ser estas actividades de uso frecuente, por lo que resulta conveniente una forma de poder hacer esto con la menor interacción posible. Esto se puede lograr usando los interpretes de comando de las consolas linux.  \n",
    "\n",
    "## Consola linux  \n",
    "\n",
    "Antes que nada es necesario tener claro que [bash](https://goo.gl/LdnMhI) no es el único interprete de comandos linux que encontraremos y por lo mismo es de cuidado indicar que interprete se usará. Probablemente para los _scripts_ más sencillos no veamos ninguna diferencia pero en otros más elaborados lo notemos.  \n",
    "\n",
    "Como un ejemplo, en la distribución linux Debian (y derivados como Ubuntu) por defecto el interprete _shell (sh)_ es [dash](https://en.wikipedia.org/wiki/Almquist_shell), que con respecto a bash brinda un interprete ligero y rápido para la ejecución de los _scripts_ de inicialización del sistema a costo de poseer un menor número de caracteristica (como la existencia de vectores).  \n",
    "\n",
    "Así, el binario asociado a la interpretación de comandos linux mediante `/bin/sh` redirige a dash, mientras que si deseamos ejecutar con bash se debe indicar explicitamente su uso (`bash` o `/bin/bash/`).  "
   ]
  },
  {
   "cell_type": "code",
   "execution_count": 1,
   "metadata": {
    "collapsed": false
   },
   "outputs": [
    {
     "name": "stdout",
     "output_type": "stream",
     "text": [
      "-rwxr-xr-x 1 root 1037528 jun 24 10:44 /bin/bash\r\n",
      "-rwxr-xr-x 1 root  154072 feb 17 15:25 /bin/dash\r\n",
      "lrwxrwxrwx 1 root       4 jun 24 10:44 /bin/rbash -> bash\r\n",
      "lrwxrwxrwx 1 root       4 jul 10 11:33 /bin/sh -> dash\r\n",
      "lrwxrwxrwx 1 root       7 jul 10 11:33 /bin/static-sh -> busybox\r\n"
     ]
    }
   ],
   "source": [
    "!ls -o /bin/*sh"
   ]
  },
  {
   "cell_type": "markdown",
   "metadata": {},
   "source": [
    "## Scripts  \n",
    "\n",
    "Nuestros _scripts_ en bash como en cualquier otro lenguaje poseen estructuras definidas claramente. En bash, encontramos:  \n",
    "\n",
    "+ Cabecera: Sirve para indicar el interprete a utilizar y la codificación.  \n",
    "+ Definición de variables globales: Asignamos valores a variables que serán de acceso en todo el _script_.  \n",
    "+ Ayuda: Define la función de ayuda del _script_. Útil para la indicación de uso.  \n",
    "+ Funciones: Permite un diseño modular de nuestro _script_.  \n",
    "+ Cuerpo principal.  \n",
    "\n",
    "Debemos recordar que antes de ejecutar el _script_ debemos asignar los permisos adecuados, ejemplo: `chmod 755 script.sh`.  \n",
    "\n",
    "### Cabecera  \n",
    "\n",
    "Nuestra primera linea de cabecera corresponde a la indicación del interprete de comandos a usar, el cual nos interesa que sea bash. En este caso la linea debe lucir como sigue:  \n",
    "\n",
    "    #!/bin/bash\n",
    "    \n",
    "Esta linea puede usarse por ejemplo, para indicar que un _script_ debe ejecutarse con python sin necesidad de ingresar a la consola de python.  \n",
    "\n",
    "Una vez se definio el interprete, ya es posible ejecutar nuestro _script_ como `./script.sh`.\n",
    "\n",
    "La segunda linea obedece a la codificación, lo cual nos permitirá hacer uso de codificación UTF-8 para soporte de caracteres latinos, los cuales por defecto en la codificación ASCII no son posibles (es la versión de 7 bits y no el extendido de 8 bits).  \n",
    "\n",
    "    # -*- ENCODING: UTF-8 -*-"
   ]
  },
  {
   "cell_type": "markdown",
   "metadata": {},
   "source": [
    "### Variables  \n",
    "\n",
    "La asignación de variables en bash se hace de forma directa sin requerir de la declaración de tipo de variable. Las variables en bash soportan números, caracteres y cadenas de caracteres, y se deben asignar sin dejar espacios alrededor del signo igual. Las variables pueden ser de caracter local antecediendo la instrucción `local`.  \n",
    "\n",
    "Para obtener el valor almacenado en una variable se requiere el uso del signo `$` antes de su nombre.  "
   ]
  },
  {
   "cell_type": "code",
   "execution_count": 2,
   "metadata": {
    "collapsed": false
   },
   "outputs": [
    {
     "name": "stdout",
     "output_type": "stream",
     "text": [
      "5\n"
     ]
    }
   ],
   "source": [
    "%%bash\n",
    "variable=5\n",
    "echo $variable"
   ]
  },
  {
   "cell_type": "markdown",
   "metadata": {},
   "source": [
    "Si el signo `$` es omitido, se interpreta el nombre de la variable como un comando."
   ]
  },
  {
   "cell_type": "code",
   "execution_count": 3,
   "metadata": {
    "collapsed": false
   },
   "outputs": [
    {
     "name": "stderr",
     "output_type": "stream",
     "text": [
      "bash: line 2: variable: command not found\n"
     ]
    }
   ],
   "source": [
    "%%bash\n",
    "variable=5\n",
    "variable"
   ]
  },
  {
   "cell_type": "markdown",
   "metadata": {},
   "source": [
    "La obtención del valor no sirve solo para su impresión o manipulación por otras expresiones sino tambien para la ejecución de la instrucción guardada como cadena de caracteres.  "
   ]
  },
  {
   "cell_type": "code",
   "execution_count": 4,
   "metadata": {
    "collapsed": false
   },
   "outputs": [
    {
     "name": "stdout",
     "output_type": "stream",
     "text": [
      "-rw-rw-r-- 1 cosmoscalibur 13K ago  7 18:35 jupyter.png\n"
     ]
    }
   ],
   "source": [
    "%%bash\n",
    "comando=\"ls -oh *png\"\n",
    "$comando"
   ]
  },
  {
   "cell_type": "markdown",
   "metadata": {},
   "source": [
    "Existen variables de entorno ya predefinidas asociadas a distintas caracteristicas o información de nuestro sistema. Algunas de ellas son:  "
   ]
  },
  {
   "cell_type": "code",
   "execution_count": 5,
   "metadata": {
    "collapsed": false
   },
   "outputs": [
    {
     "name": "stdout",
     "output_type": "stream",
     "text": [
      "cosmoscalibur\n",
      "EdAsus\n",
      "/home/cosmoscalibur\n"
     ]
    }
   ],
   "source": [
    "%%bash\n",
    "echo $USER\n",
    "echo $HOSTNAME\n",
    "echo $HOME"
   ]
  },
  {
   "cell_type": "markdown",
   "metadata": {},
   "source": [
    "Para la lectura de variables recurrimos a la instrucción `read` seguido de la variable deseada.  "
   ]
  },
  {
   "cell_type": "markdown",
   "metadata": {},
   "source": [
    "Tambien es posible usar vectores mediante la siguiente descripción:"
   ]
  },
  {
   "cell_type": "code",
   "execution_count": 6,
   "metadata": {
    "collapsed": false
   },
   "outputs": [
    {
     "name": "stdout",
     "output_type": "stream",
     "text": [
      "4\n",
      "9\n",
      "4 2 8 9\n",
      "4\n",
      "4 2 8 9\n",
      "8 9\n"
     ]
    }
   ],
   "source": [
    "%%bash\n",
    "vector=( 4 2 8 9 )\n",
    "echo ${vector[0]}\n",
    "echo ${vector[3]}\n",
    "echo ${vector[@]}\n",
    "echo ${#vector[@]}\n",
    "echo ${vector[*]}\n",
    "echo ${vector[@]:2}"
   ]
  },
  {
   "cell_type": "markdown",
   "metadata": {},
   "source": [
    "### Funciones  \n",
    "\n",
    "Las funciones poseen una sintaxis tipo C, donde indicamos que se trata de una función con la instrucción `function` seguida del nombre de función y la agrupación de parentesis, y el contenido de la función entre llaves.  "
   ]
  },
  {
   "cell_type": "code",
   "execution_count": 7,
   "metadata": {
    "collapsed": false
   },
   "outputs": [
    {
     "name": "stdout",
     "output_type": "stream",
     "text": [
      "Hola Edward\n"
     ]
    }
   ],
   "source": [
    "%%bash\n",
    "nombre=\"Edward\"\n",
    "function imprimir_saludo(){\n",
    "echo \"Hola $nombre\"\n",
    "}\n",
    "imprimir_saludo"
   ]
  },
  {
   "cell_type": "markdown",
   "metadata": {},
   "source": [
    "El paso de variables a las funciones se realiza con ayuda de las variables globales.  \n",
    "Es conveniente que las funciones de **ayuda** se creen al inicio tras la indicación de las variables de inicio. La idea de las funciones de ayuda son funciones que se ejecutan bajo condiciones como directamente un termino clave para mostrar la ayuda o cuando el ingreso de los argumentos es erroneo.  "
   ]
  },
  {
   "cell_type": "code",
   "execution_count": 8,
   "metadata": {
    "collapsed": false
   },
   "outputs": [
    {
     "name": "stdout",
     "output_type": "stream",
     "text": [
      "Hola bash Edward\n"
     ]
    }
   ],
   "source": [
    "%%bash\n",
    "function imprimir_saludo(){\n",
    "echo \"Hola $0 $1\"\n",
    "}\n",
    "imprimir_saludo Edward"
   ]
  },
  {
   "cell_type": "markdown",
   "metadata": {},
   "source": [
    "El paso de variables a funciones y en general _scripts_ corresponden al orden de parametros, con la secuencia `$` seguido del número en el orden de la lista, iniciando en `$0` para el nombre de la función o _script_.  "
   ]
  },
  {
   "cell_type": "markdown",
   "metadata": {},
   "source": [
    "### Cuerpo principal  \n",
    "\n",
    "Esta sección como el nombre lo dice es la parte que logra la esencia del _script_ y donde se hace necesario introducir las estructuras de control.  "
   ]
  },
  {
   "cell_type": "markdown",
   "metadata": {},
   "source": [
    "## Operadores  \n",
    "\n",
    "| Operador | Simbolo |\n",
    "|---|---|\n",
    "| Igualdad | `=`|\n",
    "| Asignación | `=` |\n",
    "| Suma | `+` |\n",
    "| Resta | `-` |\n",
    "| Multiplicación | `*` |\n",
    "| División | `/` |\n",
    "| Modulo | `%` |\n",
    "| Menor que | `-lt` |\n",
    "|Mayor que | `-gt` |\n",
    "| Menor igual | `-le`|\n",
    "|Mayor igual | `-ge`|\n",
    "| Igual | `-eq` |\n",
    "| Diferente | `ne` |\n",
    "\n",
    "Ademas de estos simbolos, para las operaciones aritmeticas se hace necesario indicar la expresión `let` o las indicaciones propias de bash para evaluacion de expresiones (no solo aritmeticas).  "
   ]
  },
  {
   "cell_type": "code",
   "execution_count": 9,
   "metadata": {
    "collapsed": false
   },
   "outputs": [
    {
     "name": "stdout",
     "output_type": "stream",
     "text": [
      "C es 2\n",
      "D es 3\n",
      "E es 4\n"
     ]
    }
   ],
   "source": [
    "%%bash\n",
    "let C=1+1\n",
    "echo \"C es $C\"\n",
    "D=$[2+1]\n",
    "echo \"D es $D\"\n",
    "E=$((1+3))\n",
    "echo \"E es $E\""
   ]
  },
  {
   "cell_type": "markdown",
   "metadata": {},
   "source": [
    "Si requieren operaciones más complejas que operaciones con enteros, se debe requerir a una aplicación externa. Se podría hacer llamado a python si lo desea, o a la calculadora por consola.  "
   ]
  },
  {
   "cell_type": "code",
   "execution_count": 10,
   "metadata": {
    "collapsed": false
   },
   "outputs": [
    {
     "name": "stdout",
     "output_type": "stream",
     "text": [
      "Con bash\n",
      "A es 0\n",
      "con bc\n",
      ".50000000000000000000\n",
      "con python\n",
      "0.5\n"
     ]
    }
   ],
   "source": [
    "%%bash\n",
    "echo \"Con bash\"\n",
    "A=$[1/2]\n",
    "echo \"A es $A\"\n",
    "echo \"con bc\"\n",
    "echo 1/2 | bc -l\n",
    "echo \"con python\"\n",
    "printf \"print 1./2\" | python"
   ]
  },
  {
   "cell_type": "markdown",
   "metadata": {},
   "source": [
    "## Estructuras de control  \n",
    "\n",
    "### Condicionales  \n",
    "\n",
    "La estructura condicional tiene el esquema\n",
    "\n",
    "    if [condicion]; then\n",
    "        sentencia\n",
    "    elif [condicion]; then\n",
    "        sentencia\n",
    "    else\n",
    "        sentencia\n",
    "    fi\n",
    "    \n",
    "Los corchetes pueden ser simples o dobles según el efecto de evaluación de la condición. Con corchetes simples se requiere indicar la variable entre comillas mientras que con corchetes dobles se puede omitir las comillas.  "
   ]
  },
  {
   "cell_type": "code",
   "execution_count": 11,
   "metadata": {
    "collapsed": false
   },
   "outputs": [
    {
     "name": "stdout",
     "output_type": "stream",
     "text": [
      "expression evaluated as false\n"
     ]
    }
   ],
   "source": [
    "%%bash\n",
    "T1=\"foo\"\n",
    "T2=\"bar\"\n",
    "if [ \"$T1\" = \"$T2\" ]; then\n",
    "    echo expression evaluated as true\n",
    "else\n",
    "    echo expression evaluated as false\n",
    "fi"
   ]
  },
  {
   "cell_type": "markdown",
   "metadata": {},
   "source": [
    "### Ciclos  "
   ]
  },
  {
   "cell_type": "code",
   "execution_count": 12,
   "metadata": {
    "collapsed": false
   },
   "outputs": [
    {
     "name": "stdout",
     "output_type": "stream",
     "text": [
      "item: Jupyter\n",
      "item: Notebook\n",
      "item: Basico.ipynb\n",
      "item: Jupyter+Notebook+Basico.pdf\n",
      "item: Jupyter\n",
      "item: Notebook\n",
      "item: Intermedio.ipynb\n",
      "item: Jupyter+Notebook+Intermedio.pdf\n",
      "item: jupyter.png\n",
      "item: LICENSE\n",
      "item: Linux\n",
      "item: Bash.ipynb\n",
      "item: Linux\n",
      "item: Basico.ipynb\n",
      "item: Linux+Basico.pdf\n",
      "item: presentacion_herramientas.md\n",
      "item: presentacion_herramientas.pdf\n",
      "item: README.md\n",
      "item: Taller_1.ipynb\n",
      "item: Taller_1.pdf\n"
     ]
    }
   ],
   "source": [
    "%%bash\n",
    "for i in $( ls ); do\n",
    "    echo item: $i\n",
    "done"
   ]
  },
  {
   "cell_type": "code",
   "execution_count": 13,
   "metadata": {
    "collapsed": false
   },
   "outputs": [
    {
     "name": "stdout",
     "output_type": "stream",
     "text": [
      "1\n",
      "2\n",
      "3\n",
      "4\n",
      "5\n",
      "6\n",
      "7\n",
      "8\n",
      "9\n",
      "10\n"
     ]
    }
   ],
   "source": [
    "%%bash\n",
    "for i in `seq 1 10`; do\n",
    "    echo $i\n",
    "done"
   ]
  },
  {
   "cell_type": "code",
   "execution_count": 14,
   "metadata": {
    "collapsed": false
   },
   "outputs": [
    {
     "name": "stdout",
     "output_type": "stream",
     "text": [
      "0\n",
      "1\n",
      "2\n",
      "3\n",
      "4\n",
      "5\n",
      "6\n",
      "7\n",
      "8\n",
      "9\n",
      "10\n"
     ]
    }
   ],
   "source": [
    "%%bash\n",
    "for ((I=0; I<=10; I++)); do\n",
    "    printf \"$I\\n\"\n",
    "done"
   ]
  },
  {
   "cell_type": "code",
   "execution_count": 15,
   "metadata": {
    "collapsed": false
   },
   "outputs": [
    {
     "name": "stdout",
     "output_type": "stream",
     "text": [
      "The counter is 0\n",
      "The counter is 1\n",
      "The counter is 2\n",
      "The counter is 3\n",
      "The counter is 4\n",
      "The counter is 5\n",
      "The counter is 6\n",
      "The counter is 7\n",
      "The counter is 8\n",
      "The counter is 9\n"
     ]
    }
   ],
   "source": [
    "%%bash\n",
    "COUNTER=0\n",
    "while [  $COUNTER -lt 10 ]; do\n",
    "    echo The counter is $COUNTER\n",
    "    let COUNTER=COUNTER+1 \n",
    "done"
   ]
  },
  {
   "cell_type": "code",
   "execution_count": 16,
   "metadata": {
    "collapsed": false
   },
   "outputs": [
    {
     "name": "stdout",
     "output_type": "stream",
     "text": [
      "COUNTER 20\n",
      "COUNTER 19\n",
      "COUNTER 18\n",
      "COUNTER 17\n",
      "COUNTER 16\n",
      "COUNTER 15\n",
      "COUNTER 14\n",
      "COUNTER 13\n",
      "COUNTER 12\n",
      "COUNTER 11\n",
      "COUNTER 10\n"
     ]
    }
   ],
   "source": [
    "%%bash\n",
    "COUNTER=20\n",
    "until [  $COUNTER -lt 10 ]; do\n",
    "    echo COUNTER $COUNTER\n",
    "    let COUNTER-=1\n",
    "done"
   ]
  },
  {
   "cell_type": "markdown",
   "metadata": {},
   "source": [
    "## Referencias\n",
    "\n",
    "1. [BASH Programming - Introduction HOW-TO](http://tldp.org/HOWTO/Bash-Prog-Intro-HOWTO.html).  \n",
    "1. [Advanced Bash-Scripting Guide](http://tldp.org/LDP/abs/html/index.html).  \n",
    "1. [Bash linux-es](http://www.linux-es.org/node/70).  \n",
    "1. [Teoría de bash](http://blog.desdelinux.net/teoria-de-bash/)."
   ]
  }
 ],
 "metadata": {
  "kernelspec": {
   "display_name": "Python 3",
   "language": "python",
   "name": "python3"
  },
  "language_info": {
   "codemirror_mode": {
    "name": "ipython",
    "version": 3
   },
   "file_extension": ".py",
   "mimetype": "text/x-python",
   "name": "python",
   "nbconvert_exporter": "python",
   "pygments_lexer": "ipython3",
   "version": "3.5.2"
  }
 },
 "nbformat": 4,
 "nbformat_minor": 0
}
