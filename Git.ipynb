{
 "cells": [
  {
   "cell_type": "markdown",
   "metadata": {},
   "source": [
    "Git es un sistema de manejo de versiones distribuido creado por Linus Torvalds.  \n",
    "\n",
    "Los sistemas de manejo de versiones permiten tener un control detallado sobre el historial de cambios de un archivo o conjunto de archivos creando instantaneas de estos conjuntos cada que se presenta un cambio. Estos sistemas de control de versiones pueden ser centralizados (ejemplo subversion) o distribuidos (ejemplo git), acorde a si existe un repositorio principal donde se maneja el historial y desde el cual todos los demas repositorios extraen las versiones requeridas, o si todo el historial se distribuye en cada repositorio.  \n",
    "\n",
    "Para el desarrollo de esta sesión se requiere la creación de cuenta en [github](https://github.com/) o [bitbucket](https://bitbucket.org/).  "
   ]
  },
  {
   "cell_type": "markdown",
   "metadata": {},
   "source": [
    "# Instalación  \n",
    "\n",
    "Para la [instalación de git](https://git-scm.com/downloads) use el siguiente procedimiento.\n",
    "\n",
    "## Windows  \n",
    "\n",
    "Si usa sistema operativo windows puede descargar los binarios del cliente de [_git for windows_](https://git-scm.com/download/win) y durante la instalación usar la configuración recomendada.  \n",
    "\n",
    "## Ubuntu Linux  \n",
    "\n",
    "En su sistema linux, muy probablemente encontrará el cliente de comandos para instalar desde el repositorio de su distribución.  \n",
    "\n",
    "    sudo apt install git\n",
    "    \n",
    "Si desea realizar la autenticación por medio de SSH requiere instalar los paquetes adicionales a SSH, sin embargo se recomienda la autenticación por medio de HTTP para reducir el número de pasos requeridos, y cuando se desea trabajar en equipos de uso no habitual o que siendo de uso frecuente podría ser usado por un tercero. Igualmente, al usar autenticación por HTTP es posible conectarse a pesar de los bloqueos que por seguridad establecen las politicas de muchas entidades.  \n",
    "\n",
    "## Mac  \n",
    "\n",
    "En mac, puede usar igualmente a linux la instalación por binarios disponibles en la página oficial, [_git_](https://git-scm.com/download/mac).  \n",
    "\n",
    "## Alternativas\n",
    "\n",
    "Puede usar un cliente multiplataforma y gráfico de fácil instalación como [gitkraken](https://www.gitkraken.com/features) o [github desktop](https://desktop.github.com/) (este último solo para windows o mac), sin embargo para fines de este curso se exigirá el manejo directo del cliente de comandos de git.  "
   ]
  },
  {
   "cell_type": "markdown",
   "metadata": {},
   "source": [
    "## Uso  \n",
    "\n",
    "Una vez instalado nuestro cliente `git` podemos consultar sus opciones y argumentos.  "
   ]
  },
  {
   "cell_type": "code",
   "execution_count": 1,
   "metadata": {
    "collapsed": false
   },
   "outputs": [
    {
     "name": "stdout",
     "output_type": "stream",
     "text": [
      "usage: git [--version] [--help] [-C <path>] [-c name=value]\n",
      "           [--exec-path[=<path>]] [--html-path] [--man-path] [--info-path]\n",
      "           [-p | --paginate | --no-pager] [--no-replace-objects] [--bare]\n",
      "           [--git-dir=<path>] [--work-tree=<path>] [--namespace=<name>]\n",
      "           <command> [<args>]\n",
      "\n",
      "These are common Git commands used in various situations:\n",
      "\n",
      "start a working area (see also: git help tutorial)\n",
      "   clone      Clone a repository into a new directory\n",
      "   init       Create an empty Git repository or reinitialize an existing one\n",
      "\n",
      "work on the current change (see also: git help everyday)\n",
      "   add        Add file contents to the index\n",
      "   mv         Move or rename a file, a directory, or a symlink\n",
      "   reset      Reset current HEAD to the specified state\n",
      "   rm         Remove files from the working tree and from the index\n",
      "\n",
      "examine the history and state (see also: git help revisions)\n",
      "   bisect     Use binary search to find the commit that introduced a bug\n",
      "   grep       Print lines matching a pattern\n",
      "   log        Show commit logs\n",
      "   show       Show various types of objects\n",
      "   status     Show the working tree status\n",
      "\n",
      "grow, mark and tweak your common history\n",
      "   branch     List, create, or delete branches\n",
      "   checkout   Switch branches or restore working tree files\n",
      "   commit     Record changes to the repository\n",
      "   diff       Show changes between commits, commit and working tree, etc\n",
      "   merge      Join two or more development histories together\n",
      "   rebase     Forward-port local commits to the updated upstream head\n",
      "   tag        Create, list, delete or verify a tag object signed with GPG\n",
      "\n",
      "collaborate (see also: git help workflows)\n",
      "   fetch      Download objects and refs from another repository\n",
      "   pull       Fetch from and integrate with another repository or a local branch\n",
      "   push       Update remote refs along with associated objects\n",
      "\n",
      "'git help -a' and 'git help -g' list available subcommands and some\n",
      "concept guides. See 'git help <command>' or 'git help <concept>'\n",
      "to read about a specific subcommand or concept.\n"
     ]
    }
   ],
   "source": [
    "%%bash\n",
    "git --help"
   ]
  },
  {
   "cell_type": "markdown",
   "metadata": {},
   "source": [
    "Una vez creada la cuenta github, debe crear un repositorio git en ella y copiar la dirección de clonado, la cual se usa con el fin de obtener una copia del repositorio localmente.  "
   ]
  },
  {
   "cell_type": "code",
   "execution_count": 2,
   "metadata": {
    "collapsed": false
   },
   "outputs": [
    {
     "name": "stderr",
     "output_type": "stream",
     "text": [
      "Cloning into 'herramientas'...\n"
     ]
    }
   ],
   "source": [
    "%%bash\n",
    "git clone https://github.com/cosmoscalibur/herramientas_computacionales.git herramientas"
   ]
  },
  {
   "cell_type": "markdown",
   "metadata": {},
   "source": [
    "De esta forma crearemos una copia del repositorio git `herramientas_computacionales` en el directorio `./herramientas`. Si no se indica el directorio, se crea un directorio nuevo en la posición actual.  \n",
    "\n",
    "Tras el clonado, tenemos a disposición todo el directorio del repositorio, incluido el directorio `.git` que almacena la información del historial y repositorios (para este momento, heredada del repositorio clonado).  "
   ]
  },
  {
   "cell_type": "code",
   "execution_count": 11,
   "metadata": {
    "collapsed": false
   },
   "outputs": [
    {
     "name": "stdout",
     "output_type": "stream",
     "text": [
      "total 1,2M\n",
      "drwxrwxr-x 3 cosmoscalibur 4,0K ago 21 15:53 .\n",
      "drwxrwxr-x 5 cosmoscalibur 4,0K ago 21 16:07 ..\n",
      "drwxrwxr-x 8 cosmoscalibur 4,0K ago 21 16:02 .git\n",
      "-rw-rw-r-- 1 cosmoscalibur   49 ago 20 23:25 .gitignore\n",
      "-rw-rw-r-- 1 cosmoscalibur  23K ago 20 23:25 Jupyter Notebook Basico.ipynb\n",
      "-rw-rw-r-- 1 cosmoscalibur 139K ago 20 23:25 Jupyter+Notebook+Basico.pdf\n",
      "-rw-rw-r-- 1 cosmoscalibur 5,6K ago 20 23:25 Jupyter Notebook Intermedio.ipynb\n",
      "-rw-rw-r-- 1 cosmoscalibur  92K ago 20 23:25 Jupyter+Notebook+Intermedio.pdf\n",
      "-rw-rw-r-- 1 cosmoscalibur  13K ago 20 23:25 jupyter.png\n",
      "-rw-rw-r-- 1 cosmoscalibur 182K ago 20 23:25 LaTeX_basico.pdf\n",
      "-rw-rw-r-- 1 cosmoscalibur  18K ago 20 23:25 LaTeX_basico.tex\n",
      "-rw-rw-r-- 1 cosmoscalibur 1,1K ago 20 23:25 LICENSE\n",
      "-rw-rw-r-- 1 cosmoscalibur  17K ago 20 23:25 Linux Bash.ipynb\n",
      "-rw-rw-r-- 1 cosmoscalibur  83K ago 20 23:25 Linux+Bash.pdf\n",
      "-rw-rw-r-- 1 cosmoscalibur  36K ago 20 23:25 Linux Basico.ipynb\n",
      "-rw-rw-r-- 1 cosmoscalibur  93K ago 20 23:25 Linux+Basico.pdf\n",
      "-rw-rw-r-- 1 cosmoscalibur 119K ago 20 23:25 minimo_taller1.pdf\n",
      "-rw-rw-r-- 1 cosmoscalibur  12K ago 20 23:25 presentacion_herramientas.md\n",
      "-rw-rw-r-- 1 cosmoscalibur 137K ago 20 23:25 presentacion_herramientas.pdf\n",
      "-rw-rw-r-- 1 cosmoscalibur 1005 ago 20 23:25 README.md\n",
      "-rw-rw-r-- 1 cosmoscalibur 7,0K ago 20 23:25 Taller_1.ipynb\n",
      "-rw-rw-r-- 1 cosmoscalibur 112K ago 20 23:25 Taller_1.pdf\n"
     ]
    }
   ],
   "source": [
    "%%bash\n",
    "cd herramientas\n",
    "ls -oha"
   ]
  },
  {
   "cell_type": "markdown",
   "metadata": {},
   "source": [
    "Se evidencia que tras el clonado, tenemos configurados los repositorios remotos por defecto.  "
   ]
  },
  {
   "cell_type": "code",
   "execution_count": 8,
   "metadata": {
    "collapsed": false
   },
   "outputs": [
    {
     "name": "stdout",
     "output_type": "stream",
     "text": [
      "origin\thttps://github.com/cosmoscalibur/herramientas_computacionales.git (fetch)\n",
      "origin\thttps://github.com/cosmoscalibur/herramientas_computacionales.git (push)\n"
     ]
    }
   ],
   "source": [
    "%%bash\n",
    "cd herramientas\n",
    "git remote -v"
   ]
  },
  {
   "cell_type": "markdown",
   "metadata": {},
   "source": [
    "En caso de ser un repositorio nuevo o desear reinicializar (aceptar nuevas plantillas o mover el directorio), debemos crear el directorio `.git` y agregar los elementos que teniamos en nuestro directorio. Siempre que se agreguen (o se realiza cualquier actualización de los archivos y directorios, se sugiere realizar un `commit` para la indicación de la acción en nuestro historial).  "
   ]
  },
  {
   "cell_type": "code",
   "execution_count": 9,
   "metadata": {
    "collapsed": false
   },
   "outputs": [
    {
     "name": "stdout",
     "output_type": "stream",
     "text": [
      "Initialized empty Git repository in /home/cosmoscalibur/Dropbox/UdeM/Herramientas Computacionales/Clases/herramientas/.git/\n",
      "[master (root-commit) 33e540e] Agregados elementos iniciales.\n",
      " 19 files changed, 3164 insertions(+)\n",
      " create mode 100644 .gitignore\n",
      " create mode 100644 Jupyter Notebook Basico.ipynb\n",
      " create mode 100644 Jupyter Notebook Intermedio.ipynb\n",
      " create mode 100644 Jupyter+Notebook+Basico.pdf\n",
      " create mode 100644 Jupyter+Notebook+Intermedio.pdf\n",
      " create mode 100644 LICENSE\n",
      " create mode 100644 LaTeX_basico.pdf\n",
      " create mode 100644 LaTeX_basico.tex\n",
      " create mode 100644 Linux Bash.ipynb\n",
      " create mode 100644 Linux Basico.ipynb\n",
      " create mode 100644 Linux+Bash.pdf\n",
      " create mode 100644 Linux+Basico.pdf\n",
      " create mode 100644 README.md\n",
      " create mode 100644 Taller_1.ipynb\n",
      " create mode 100644 Taller_1.pdf\n",
      " create mode 100644 jupyter.png\n",
      " create mode 100644 minimo_taller1.pdf\n",
      " create mode 100644 presentacion_herramientas.md\n",
      " create mode 100644 presentacion_herramientas.pdf\n"
     ]
    }
   ],
   "source": [
    "%%bash\n",
    "cd herramientas\n",
    "rm -rf .git # Se elimina por fines de ilustración\n",
    "git init"
   ]
  },
  {
   "cell_type": "markdown",
   "metadata": {},
   "source": [
    "Una vez se inicializa o se clona, podemos agregar nuestro reposotorio remoto, que previamente fue creado en github o bitbucket. Si solo se desea un uso local o si es justo el repositorio clonado no será necesario.  "
   ]
  },
  {
   "cell_type": "code",
   "execution_count": 10,
   "metadata": {
    "collapsed": false
   },
   "outputs": [
    {
     "name": "stdout",
     "output_type": "stream",
     "text": [
      "pruebas\thttps://github.com/cosmoscalibur/pruebas.git (fetch)\n",
      "pruebas\thttps://github.com/cosmoscalibur/pruebas.git (push)\n"
     ]
    }
   ],
   "source": [
    "%%bash\n",
    "cd herramientas\n",
    "git remote add pruebas https://github.com/cosmoscalibur/pruebas.git\n",
    "git remote -v"
   ]
  },
  {
   "cell_type": "markdown",
   "metadata": {},
   "source": [
    "Tambien es posible eliminar el acceso al servidor remoto, con `git remote rm`.  \n",
    "\n",
    "A continuación, y para evitar posibles conflictos de los archivos, es recomendable iniciar con un `fetch` para obtener los objetos y referencias del repositorio remoto (esto si creamos el repositorio con los archivos de licencia y `README.md` que nos invita a crear el servicio git.  \n",
    "\n",
    "    git fetch pruebas\n",
    "\n",
    "El paso anterior se evita si solo usamos el servicio para la creación del repositorio remoto vacio en lugar de poblarlo con los asistentes de archivo de licencia y archivo de descripción. Si en el paso anterior los archivos del repositorio remoto y el local poseen los mismos nombres pero son diferentes, pueden existir conflictos que deban resolverse de forma manual.  \n",
    "\n",
    "Ahora agregamos al registro los archivos de nuestro repositorio local."
   ]
  },
  {
   "cell_type": "code",
   "execution_count": null,
   "metadata": {
    "collapsed": true
   },
   "outputs": [],
   "source": [
    "%%bash\n",
    "git add . # Con la indicación \".\" agrega todo.\n",
    "git commit -m \"Agregados elementos iniciales.\""
   ]
  },
  {
   "cell_type": "code",
   "execution_count": 5,
   "metadata": {
    "collapsed": false
   },
   "outputs": [
    {
     "name": "stdout",
     "output_type": "stream",
     "text": [
      "total 1,2M\n",
      "drwxrwxr-x 3 cosmoscalibur 4,0K ago 20 23:25 .\n",
      "drwxrwxr-x 5 cosmoscalibur 4,0K ago 20 23:26 ..\n",
      "drwxrwxr-x 8 cosmoscalibur 4,0K ago 20 23:26 .git\n",
      "-rw-rw-r-- 1 cosmoscalibur   49 ago 20 23:25 .gitignore\n",
      "-rw-rw-r-- 1 cosmoscalibur  23K ago 20 23:25 Jupyter Notebook Basico.ipynb\n",
      "-rw-rw-r-- 1 cosmoscalibur 139K ago 20 23:25 Jupyter+Notebook+Basico.pdf\n",
      "-rw-rw-r-- 1 cosmoscalibur 5,6K ago 20 23:25 Jupyter Notebook Intermedio.ipynb\n",
      "-rw-rw-r-- 1 cosmoscalibur  92K ago 20 23:25 Jupyter+Notebook+Intermedio.pdf\n",
      "-rw-rw-r-- 1 cosmoscalibur  13K ago 20 23:25 jupyter.png\n",
      "-rw-rw-r-- 1 cosmoscalibur 182K ago 20 23:25 LaTeX_basico.pdf\n",
      "-rw-rw-r-- 1 cosmoscalibur  18K ago 20 23:25 LaTeX_basico.tex\n",
      "-rw-rw-r-- 1 cosmoscalibur 1,1K ago 20 23:25 LICENSE\n",
      "-rw-rw-r-- 1 cosmoscalibur  17K ago 20 23:25 Linux Bash.ipynb\n",
      "-rw-rw-r-- 1 cosmoscalibur  83K ago 20 23:25 Linux+Bash.pdf\n",
      "-rw-rw-r-- 1 cosmoscalibur  36K ago 20 23:25 Linux Basico.ipynb\n",
      "-rw-rw-r-- 1 cosmoscalibur  93K ago 20 23:25 Linux+Basico.pdf\n",
      "-rw-rw-r-- 1 cosmoscalibur 119K ago 20 23:25 minimo_taller1.pdf\n",
      "-rw-rw-r-- 1 cosmoscalibur  12K ago 20 23:25 presentacion_herramientas.md\n",
      "-rw-rw-r-- 1 cosmoscalibur 137K ago 20 23:25 presentacion_herramientas.pdf\n",
      "-rw-rw-r-- 1 cosmoscalibur 1005 ago 20 23:25 README.md\n",
      "-rw-rw-r-- 1 cosmoscalibur 7,0K ago 20 23:25 Taller_1.ipynb\n",
      "-rw-rw-r-- 1 cosmoscalibur 112K ago 20 23:25 Taller_1.pdf\n"
     ]
    }
   ],
   "source": [
    "%%bash\n",
    "cd herramientas\n",
    "git fetch\n",
    "ls -aoh"
   ]
  },
  {
   "cell_type": "markdown",
   "metadata": {},
   "source": [
    "Ahora se desea inicializar nuestro repositorio local (en este caso, al ya partir de un repositorio clonado borra el historial de modificaciones). En un repositorio nuevo es justo la creación del directorio `.git` en el cual se encuentra toda la información requerida para la gestión de nuestro repositorio.  "
   ]
  },
  {
   "cell_type": "code",
   "execution_count": 6,
   "metadata": {
    "collapsed": false
   },
   "outputs": [
    {
     "name": "stdout",
     "output_type": "stream",
     "text": [
      "Reinitialized existing Git repository in /home/cosmoscalibur/Dropbox/UdeM/Herramientas Computacionales/Clases/herramientas/.git/\n"
     ]
    }
   ],
   "source": [
    "%%bash\n",
    "cd herramientas\n",
    "git init"
   ]
  },
  {
   "cell_type": "markdown",
   "metadata": {},
   "source": [
    "Ahora es necesario agregar los objetos a nuestro repositorio, debido a que tras su inicialización no hay trazabilidad de ellos (como se verifica con `status`).  "
   ]
  },
  {
   "cell_type": "code",
   "execution_count": 7,
   "metadata": {
    "collapsed": false
   },
   "outputs": [
    {
     "name": "stdout",
     "output_type": "stream",
     "text": [
      "On branch master\n",
      "Your branch is up-to-date with 'origin/master'.\n",
      "nothing to commit, working directory clean\n"
     ]
    }
   ],
   "source": [
    "%%bash\n",
    "cd herramientas\n",
    "git status"
   ]
  }
 ],
 "metadata": {
  "kernelspec": {
   "display_name": "Python 3",
   "language": "python",
   "name": "python3"
  },
  "language_info": {
   "codemirror_mode": {
    "name": "ipython",
    "version": 3
   },
   "file_extension": ".py",
   "mimetype": "text/x-python",
   "name": "python",
   "nbconvert_exporter": "python",
   "pygments_lexer": "ipython3",
   "version": "3.5.2"
  }
 },
 "nbformat": 4,
 "nbformat_minor": 1
}
