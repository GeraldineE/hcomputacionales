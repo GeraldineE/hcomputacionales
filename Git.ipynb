{
 "cells": [
  {
   "cell_type": "markdown",
   "metadata": {},
   "source": [
    "Git es un sistema de manejo de versiones distribuido creado por Linus Torvalds.  \n",
    "\n",
    "Los sistemas de manejo de versiones permiten tener un control detallado sobre el historial de cambios de un archivo o conjunto de archivos creando instantaneas de estos conjuntos cada que se presenta un cambio. Estos sistemas de control de versiones pueden ser centralizados (ejemplo subversion) o distribuidos (ejemplo git), acorde a si existe un repositorio principal donde se maneja el historial y desde el cual todos los demas repositorios extraen las versiones requeridas, o si todo el historial se distribuye en cada repositorio.  \n",
    "\n",
    "Para el desarrollo de esta sesión se requiere la creación de cuenta en [github](https://github.com/) o [bitbucket](https://bitbucket.org/).  "
   ]
  },
  {
   "cell_type": "markdown",
   "metadata": {},
   "source": [
    "# Instalación  \n",
    "\n",
    "Para la [instalación de git](https://git-scm.com/downloads) use el siguiente procedimiento.\n",
    "\n",
    "## Windows  \n",
    "\n",
    "Si usa sistema operativo windows puede descargar los binarios del cliente de [_git for windows_](https://git-scm.com/download/win) y durante la instalación usar la configuración recomendada.  \n",
    "\n",
    "## Ubuntu Linux  \n",
    "\n",
    "En su sistema linux, muy probablemente encontrará el cliente de comandos para instalar desde el repositorio de su distribución.  \n",
    "\n",
    "    sudo apt install git\n",
    "    \n",
    "Si desea realizar la autenticación por medio de SSH requiere instalar los paquetes adicionales a SSH, sin embargo se recomienda la autenticación por medio de HTTP para reducir el número de pasos requeridos, y cuando se desea trabajar en equipos de uso no habitual o que siendo de uso frecuente podría ser usado por un tercero. Igualmente, al usar autenticación por HTTP es posible conectarse a pesar de los bloqueos que por seguridad establecen las politicas de muchas entidades.  \n",
    "\n",
    "## Mac  \n",
    "\n",
    "En mac, puede usar igualmente a linux la instalación por binarios disponibles en la página oficial, [_git_](https://git-scm.com/download/mac).  \n",
    "\n",
    "## Alternativas\n",
    "\n",
    "Puede usar un cliente multiplataforma y gráfico de fácil instalación como [gitkraken](https://www.gitkraken.com/features) o [github desktop](https://desktop.github.com/) (este último solo para windows o mac), sin embargo para fines de este curso se exigirá el manejo directo del cliente de comandos de git.  "
   ]
  },
  {
   "cell_type": "markdown",
   "metadata": {},
   "source": [
    "## Uso  \n",
    "\n",
    "Una vez instalado nuestro cliente `git` podemos consultar sus opciones y argumentos.  "
   ]
  },
  {
   "cell_type": "code",
   "execution_count": 1,
   "metadata": {
    "collapsed": false
   },
   "outputs": [
    {
     "name": "stdout",
     "output_type": "stream",
     "text": [
      "usage: git [--version] [--help] [-C <path>] [-c name=value]\n",
      "           [--exec-path[=<path>]] [--html-path] [--man-path] [--info-path]\n",
      "           [-p | --paginate | --no-pager] [--no-replace-objects] [--bare]\n",
      "           [--git-dir=<path>] [--work-tree=<path>] [--namespace=<name>]\n",
      "           <command> [<args>]\n",
      "\n",
      "These are common Git commands used in various situations:\n",
      "\n",
      "start a working area (see also: git help tutorial)\n",
      "   clone      Clone a repository into a new directory\n",
      "   init       Create an empty Git repository or reinitialize an existing one\n",
      "\n",
      "work on the current change (see also: git help everyday)\n",
      "   add        Add file contents to the index\n",
      "   mv         Move or rename a file, a directory, or a symlink\n",
      "   reset      Reset current HEAD to the specified state\n",
      "   rm         Remove files from the working tree and from the index\n",
      "\n",
      "examine the history and state (see also: git help revisions)\n",
      "   bisect     Use binary search to find the commit that introduced a bug\n",
      "   grep       Print lines matching a pattern\n",
      "   log        Show commit logs\n",
      "   show       Show various types of objects\n",
      "   status     Show the working tree status\n",
      "\n",
      "grow, mark and tweak your common history\n",
      "   branch     List, create, or delete branches\n",
      "   checkout   Switch branches or restore working tree files\n",
      "   commit     Record changes to the repository\n",
      "   diff       Show changes between commits, commit and working tree, etc\n",
      "   merge      Join two or more development histories together\n",
      "   rebase     Forward-port local commits to the updated upstream head\n",
      "   tag        Create, list, delete or verify a tag object signed with GPG\n",
      "\n",
      "collaborate (see also: git help workflows)\n",
      "   fetch      Download objects and refs from another repository\n",
      "   pull       Fetch from and integrate with another repository or a local branch\n",
      "   push       Update remote refs along with associated objects\n",
      "\n",
      "'git help -a' and 'git help -g' list available subcommands and some\n",
      "concept guides. See 'git help <command>' or 'git help <concept>'\n",
      "to read about a specific subcommand or concept.\n"
     ]
    }
   ],
   "source": [
    "%%bash\n",
    "git --help"
   ]
  },
  {
   "cell_type": "markdown",
   "metadata": {},
   "source": [
    "## Configuración  \n",
    "\n",
    "Para una adecuada identificación de nuestros aportes en los repositorios, es necesario configurar nuestro nombre y correo en git.  \n",
    "\n",
    "    git config --global user.name \"YOUR NAME\"\n",
    "    git config --global user.email \"YOUR EMAIL ADDRESS\""
   ]
  },
  {
   "cell_type": "markdown",
   "metadata": {},
   "source": [
    "## Creación de repositorios\n",
    "\n",
    "Una vez creada la cuenta github, debe crear un repositorio git en ella y copiar la dirección de clonado, la cual se usa con el fin de obtener una copia del repositorio localmente.  "
   ]
  },
  {
   "cell_type": "code",
   "execution_count": 2,
   "metadata": {
    "collapsed": false
   },
   "outputs": [
    {
     "name": "stderr",
     "output_type": "stream",
     "text": [
      "Cloning into 'herramientas'...\n"
     ]
    }
   ],
   "source": [
    "%%bash\n",
    "git clone https://github.com/cosmoscalibur/herramientas_computacionales.git herramientas"
   ]
  },
  {
   "cell_type": "markdown",
   "metadata": {},
   "source": [
    "De esta forma crearemos una copia del repositorio git `herramientas_computacionales` en el directorio `./herramientas`. Si no se indica el directorio, se crea un directorio nuevo en la posición actual.  \n",
    "\n",
    "Tras el clonado, tenemos a disposición todo el directorio del repositorio, incluido el directorio `.git` que almacena la información del historial y repositorios (para este momento, heredada del repositorio clonado).  "
   ]
  },
  {
   "cell_type": "code",
   "execution_count": 11,
   "metadata": {
    "collapsed": false
   },
   "outputs": [
    {
     "name": "stdout",
     "output_type": "stream",
     "text": [
      "total 1,2M\n",
      "drwxrwxr-x 3 cosmoscalibur 4,0K ago 21 15:53 .\n",
      "drwxrwxr-x 5 cosmoscalibur 4,0K ago 21 16:07 ..\n",
      "drwxrwxr-x 8 cosmoscalibur 4,0K ago 21 16:02 .git\n",
      "-rw-rw-r-- 1 cosmoscalibur   49 ago 20 23:25 .gitignore\n",
      "-rw-rw-r-- 1 cosmoscalibur  23K ago 20 23:25 Jupyter Notebook Basico.ipynb\n",
      "-rw-rw-r-- 1 cosmoscalibur 139K ago 20 23:25 Jupyter+Notebook+Basico.pdf\n",
      "-rw-rw-r-- 1 cosmoscalibur 5,6K ago 20 23:25 Jupyter Notebook Intermedio.ipynb\n",
      "-rw-rw-r-- 1 cosmoscalibur  92K ago 20 23:25 Jupyter+Notebook+Intermedio.pdf\n",
      "-rw-rw-r-- 1 cosmoscalibur  13K ago 20 23:25 jupyter.png\n",
      "-rw-rw-r-- 1 cosmoscalibur 182K ago 20 23:25 LaTeX_basico.pdf\n",
      "-rw-rw-r-- 1 cosmoscalibur  18K ago 20 23:25 LaTeX_basico.tex\n",
      "-rw-rw-r-- 1 cosmoscalibur 1,1K ago 20 23:25 LICENSE\n",
      "-rw-rw-r-- 1 cosmoscalibur  17K ago 20 23:25 Linux Bash.ipynb\n",
      "-rw-rw-r-- 1 cosmoscalibur  83K ago 20 23:25 Linux+Bash.pdf\n",
      "-rw-rw-r-- 1 cosmoscalibur  36K ago 20 23:25 Linux Basico.ipynb\n",
      "-rw-rw-r-- 1 cosmoscalibur  93K ago 20 23:25 Linux+Basico.pdf\n",
      "-rw-rw-r-- 1 cosmoscalibur 119K ago 20 23:25 minimo_taller1.pdf\n",
      "-rw-rw-r-- 1 cosmoscalibur  12K ago 20 23:25 presentacion_herramientas.md\n",
      "-rw-rw-r-- 1 cosmoscalibur 137K ago 20 23:25 presentacion_herramientas.pdf\n",
      "-rw-rw-r-- 1 cosmoscalibur 1005 ago 20 23:25 README.md\n",
      "-rw-rw-r-- 1 cosmoscalibur 7,0K ago 20 23:25 Taller_1.ipynb\n",
      "-rw-rw-r-- 1 cosmoscalibur 112K ago 20 23:25 Taller_1.pdf\n"
     ]
    }
   ],
   "source": [
    "%%bash\n",
    "cd herramientas\n",
    "ls -oha"
   ]
  },
  {
   "cell_type": "markdown",
   "metadata": {},
   "source": [
    "Se evidencia que tras el clonado, tenemos configurados los repositorios remotos por defecto.  "
   ]
  },
  {
   "cell_type": "code",
   "execution_count": 8,
   "metadata": {
    "collapsed": false
   },
   "outputs": [
    {
     "name": "stdout",
     "output_type": "stream",
     "text": [
      "origin\thttps://github.com/cosmoscalibur/herramientas_computacionales.git (fetch)\n",
      "origin\thttps://github.com/cosmoscalibur/herramientas_computacionales.git (push)\n"
     ]
    }
   ],
   "source": [
    "%%bash\n",
    "cd herramientas\n",
    "git remote -v"
   ]
  },
  {
   "cell_type": "markdown",
   "metadata": {},
   "source": [
    "En caso de ser un repositorio nuevo o desear reinicializar (aceptar nuevas plantillas o mover el directorio), debemos crear el directorio `.git` y agregar los elementos que teniamos en nuestro directorio. Siempre que se agreguen (o se realiza cualquier actualización de los archivos y directorios, se sugiere realizar un `commit` para la indicación de la acción en nuestro historial).  "
   ]
  },
  {
   "cell_type": "code",
   "execution_count": 9,
   "metadata": {
    "collapsed": false
   },
   "outputs": [
    {
     "name": "stdout",
     "output_type": "stream",
     "text": [
      "Initialized empty Git repository in /home/cosmoscalibur/Dropbox/UdeM/Herramientas Computacionales/Clases/herramientas/.git/\n",
      "[master (root-commit) 33e540e] Agregados elementos iniciales.\n",
      " 19 files changed, 3164 insertions(+)\n",
      " create mode 100644 .gitignore\n",
      " create mode 100644 Jupyter Notebook Basico.ipynb\n",
      " create mode 100644 Jupyter Notebook Intermedio.ipynb\n",
      " create mode 100644 Jupyter+Notebook+Basico.pdf\n",
      " create mode 100644 Jupyter+Notebook+Intermedio.pdf\n",
      " create mode 100644 LICENSE\n",
      " create mode 100644 LaTeX_basico.pdf\n",
      " create mode 100644 LaTeX_basico.tex\n",
      " create mode 100644 Linux Bash.ipynb\n",
      " create mode 100644 Linux Basico.ipynb\n",
      " create mode 100644 Linux+Bash.pdf\n",
      " create mode 100644 Linux+Basico.pdf\n",
      " create mode 100644 README.md\n",
      " create mode 100644 Taller_1.ipynb\n",
      " create mode 100644 Taller_1.pdf\n",
      " create mode 100644 jupyter.png\n",
      " create mode 100644 minimo_taller1.pdf\n",
      " create mode 100644 presentacion_herramientas.md\n",
      " create mode 100644 presentacion_herramientas.pdf\n"
     ]
    }
   ],
   "source": [
    "%%bash\n",
    "cd herramientas\n",
    "rm -rf .git # Se elimina por fines de ilustración\n",
    "git init"
   ]
  },
  {
   "cell_type": "markdown",
   "metadata": {},
   "source": [
    "## Repositorios remotos\n",
    "\n",
    "Una vez se inicializa o se clona, podemos agregar nuestro reposotorio remoto, que previamente fue creado en github o bitbucket. Si solo se desea un uso local o si es justo el repositorio clonado no será necesario.  "
   ]
  },
  {
   "cell_type": "code",
   "execution_count": 10,
   "metadata": {
    "collapsed": false
   },
   "outputs": [
    {
     "name": "stdout",
     "output_type": "stream",
     "text": [
      "pruebas\thttps://github.com/cosmoscalibur/pruebas.git (fetch)\n",
      "pruebas\thttps://github.com/cosmoscalibur/pruebas.git (push)\n"
     ]
    }
   ],
   "source": [
    "%%bash\n",
    "cd herramientas\n",
    "git remote add pruebas https://github.com/cosmoscalibur/pruebas.git\n",
    "git remote -v"
   ]
  },
  {
   "cell_type": "markdown",
   "metadata": {},
   "source": [
    "Tambien es posible eliminar el acceso al servidor remoto, con `git remote rm`.  \n",
    "\n",
    "## Objetos y referencias\n",
    "\n",
    "A continuación, y para evitar posibles conflictos de los archivos, es recomendable iniciar con un `fetch` para obtener los objetos y referencias del repositorio remoto (esto si creamos el repositorio con los archivos de licencia y `README.md` que nos invita a crear el servicio git.  \n",
    "\n",
    "    git fetch pruebas\n",
    "\n",
    "El paso anterior se evita si solo usamos el servicio para la creación del repositorio remoto vacio en lugar de poblarlo con los asistentes de archivo de licencia y archivo de descripción. Si en el paso anterior los archivos del repositorio remoto y el local poseen los mismos nombres pero son diferentes, pueden existir conflictos que deban resolverse de forma manual.  \n",
    "\n",
    "Aunque en este caso es claro que nuestros archivos no se encuentran agregados al repositorio, consultaremos por el estado de los archivos frente a su registro en el repositorio.  "
   ]
  },
  {
   "cell_type": "code",
   "execution_count": 13,
   "metadata": {
    "collapsed": false
   },
   "outputs": [
    {
     "name": "stdout",
     "output_type": "stream",
     "text": [
      "On branch master\n",
      "nothing to commit, working directory clean\n"
     ]
    }
   ],
   "source": [
    "%%bash\n",
    "cd herramientas\n",
    "git status"
   ]
  },
  {
   "cell_type": "markdown",
   "metadata": {},
   "source": [
    "Ahora agregamos al registro los archivos de nuestro repositorio local."
   ]
  },
  {
   "cell_type": "code",
   "execution_count": 12,
   "metadata": {
    "collapsed": false
   },
   "outputs": [
    {
     "name": "stdout",
     "output_type": "stream",
     "text": [
      "[master 2f875d7] Agregados elementos iniciales.\n",
      " 3 files changed, 454 insertions(+)\n",
      " create mode 100644 Git.ipynb\n",
      " delete mode 100644 extra.png\n",
      " create mode 160000 herramientas\n"
     ]
    }
   ],
   "source": [
    "%%bash\n",
    "cd herramientas\n",
    "git add . # Con la indicación \".\" agrega todo.\n",
    "git commit -m \"Agregados elementos iniciales.\""
   ]
  },
  {
   "cell_type": "markdown",
   "metadata": {},
   "source": [
    "Es posible indicar directamente a git la eliminación de archivos mediante\n",
    "\n",
    "    git rm archivo\n",
    "    \n",
    "o tambien al eliminar el archivo de manera directa, se incluye en git\n",
    "\n",
    "    git add -A\n",
    "    \n",
    "con el fin de actualizar el arbol de archivos y rastrear incluso los archivos eliminados. Sin embargo, es recomendable que la adición y remoción de archivos sea lo más especifica posible con el fin de tener un registro descriptivo que ayude a la adecuada solución de problemas o la descripción de cambios de una versión a otro de los códigos. Tengase en cuenta que en el caso de directorios, debe indicarse el argumento recursivo para el borrado.  \n",
    "\n",
    "Si se desea eliminar un archivo del repositorio pero no del disco, debe eliminarse de la _cache_ del repositorio.  \n",
    "\n",
    "    git rm --cached archivo\n",
    "\n",
    "Posterior a esto, realizamos el _commit_ asociado.  "
   ]
  },
  {
   "cell_type": "markdown",
   "metadata": {},
   "source": [
    "## Actualizar de/desde repositorios remotos  \n",
    "\n",
    "Ahora deseamos actualizar nuestro repositorio remoto con nuestro repositorio local, para lo cual debemos hacer un _push_ con el nombre del repositorio remoto y el nombre del _branch_ que por defecto si solo hay uno es _master_. Es posible configurar el _push_ para que su acción sea la de enviar todos los _branchs_ del repositorio pero es preferible un control más fino con el fin de reducir el trafico de datos en la red.  "
   ]
  },
  {
   "cell_type": "code",
   "execution_count": 16,
   "metadata": {
    "collapsed": false
   },
   "outputs": [
    {
     "name": "stderr",
     "output_type": "stream",
     "text": [
      "Everything up-to-date\n"
     ]
    }
   ],
   "source": [
    "%%bash\n",
    "cd herramientas\n",
    "git push pruebas master"
   ]
  },
  {
   "cell_type": "markdown",
   "metadata": {},
   "source": [
    "Durante la ejecución del _push_ se nos solicitará el usuario y contraseña de nuestra cuenta en el servicio git. Al usar el protocolo https por defecto tendremos 3600 segundos tras cada autenticación, o si lo preferimos podemos usar ssh y crear la llave de autenticación con el fin de tener acceso permanente en nuestro equipo privado sin requerir de la autenticación continua.  \n",
    "\n",
    "Para la actualización de nuestro repositorio local con el repositorio remoto reaizamos una acción _pull_, de forma similar a la anterior acción.  "
   ]
  },
  {
   "cell_type": "code",
   "execution_count": 18,
   "metadata": {
    "collapsed": false
   },
   "outputs": [
    {
     "name": "stdout",
     "output_type": "stream",
     "text": [
      "Already up-to-date.\n"
     ]
    },
    {
     "name": "stderr",
     "output_type": "stream",
     "text": [
      "From https://github.com/cosmoscalibur/pruebas\n",
      " * branch            master     -> FETCH_HEAD\n"
     ]
    }
   ],
   "source": [
    "%%bash\n",
    "cd herramientas\n",
    "git pull pruebas master"
   ]
  },
  {
   "cell_type": "markdown",
   "metadata": {},
   "source": [
    "## Otras acciones  \n",
    "\n",
    "Se recomienda la lectura de otras acciones de git importantes, las cuales son: `branch` y `merge`.  \n",
    "Igualmente existen acciones de interes en caso de usar los servicios git como la acción del `fork` que hace uso de la solicitud de _pull_ (acciones no incluidas en git pero que pueden ser usadas con clientes basados en las API de los servicios git).  "
   ]
  },
  {
   "cell_type": "markdown",
   "metadata": {},
   "source": [
    "# Referencias\n",
    "\n",
    "1. [Git Downloads](https://git-scm.com/downloads). Git. Consultado el 19 de agosto de 2016.  \n",
    "1. [BootCamp](https://help.github.com/categories/bootcamp/). Github. Consultado el 20 de agosto de 2016.  \n",
    "1. [Git Doc](https://git-scm.com/doc). Git. Consultado el 20 de agosto de 2016.  \n",
    "1. [Git Tutorials](https://www.atlassian.com/git/tutorials/). Atlassian. Consultado el 20 de agosto de 2016.  \n",
    "1. [Version control with git](http://swcarpentry.github.io/git-novice/). Software Carpentry. Consultado el 20 de agosto de 2016.  \n",
    "1. [Managing remotes](https://help.github.com/categories/managing-remotes/). Github. Consultado el 21 de agosto de 2016.  "
   ]
  }
 ],
 "metadata": {
  "kernelspec": {
   "display_name": "Python 3",
   "language": "python",
   "name": "python3"
  },
  "language_info": {
   "codemirror_mode": {
    "name": "ipython",
    "version": 3
   },
   "file_extension": ".py",
   "mimetype": "text/x-python",
   "name": "python",
   "nbconvert_exporter": "python",
   "pygments_lexer": "ipython3",
   "version": "3.5.2"
  }
 },
 "nbformat": 4,
 "nbformat_minor": 1
}
