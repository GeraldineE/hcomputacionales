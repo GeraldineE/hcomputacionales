{
 "cells": [
  {
   "cell_type": "markdown",
   "metadata": {},
   "source": [
    "# Linux  \n",
    "\n",
    "Podemos clasificar las utilidades por consola de linux acorde a su función, y analizarlas de forma sistematica. Aprovecharemos las capacidades de ejecución de notebooks de bash para ilustrar los comandos, pero debe tenerse en cuenta que la linea inicial de cada bloque `%%bash` no esta asociada con su ejecución en una consola linux al igual que el uso de `!` al inicio de linea. Ambos casos son la forma de indicarle al notebook que debe ejecutar en modo bash en la consola linux.  \n",
    "\n",
    "## Comentarios y escritura en consola  \n",
    "\n",
    "Podemos imprimir mensajes en la consola (e incluso a archivos) con ayuda de `echo` y `printf`, teniendo mayor control este último.  \n",
    "\n",
    "La indicación de comentarios en bash (texto que no posee efecto en ejecución) se logra indicando el simbolo \\# a partir de la parte de la linea que se desee interpretar como un comentario.  "
   ]
  },
  {
   "cell_type": "code",
   "execution_count": 1,
   "metadata": {
    "collapsed": false
   },
   "outputs": [
    {
     "name": "stdout",
     "output_type": "stream",
     "text": [
      "Esto no es un comentario\n"
     ]
    }
   ],
   "source": [
    "%%bash\n",
    "# Esto es un comentario y por tanto no ejecuta nada\n",
    "echo \"Esto no es un comentario\" # pero esto si es un comentario"
   ]
  },
  {
   "cell_type": "markdown",
   "metadata": {},
   "source": [
    "## Ayuda  \n",
    "\n",
    "Si desconocemos las opciones y descripción de una instrucción podemos usar el argumento `--help` que la mayoria de instrucciones soportan o la instrucción `man` seguida de la instrucción que deseamos.  "
   ]
  },
  {
   "cell_type": "code",
   "execution_count": 2,
   "metadata": {
    "collapsed": false
   },
   "outputs": [
    {
     "name": "stdout",
     "output_type": "stream",
     "text": [
      "apt 1.2.12 (amd64)\n",
      "Usage: apt [options] command\n",
      "\n",
      "apt is a commandline package manager and provides commands for\n",
      "searching and managing as well as querying information about packages.\n",
      "It provides the same functionality as the specialized APT tools,\n",
      "like apt-get and apt-cache, but enables options more suitable for\n",
      "interactive use by default.\n",
      "\n",
      "Most used commands:\n",
      "  list - list packages based on package names\n",
      "  search - search in package descriptions\n",
      "  show - show package details\n",
      "  install - install packages\n",
      "  remove - remove packages\n",
      "  autoremove - Remove automatically all unused packages\n",
      "  update - update list of available packages\n",
      "  upgrade - upgrade the system by installing/upgrading packages\n",
      "  full-upgrade - upgrade the system by removing/installing/upgrading packages\n",
      "  edit-sources - edit the source information file\n",
      "\n",
      "See apt(8) for more information about the available commands.\n",
      "Configuration options and syntax is detailed in apt.conf(5).\n",
      "Information about how to configure sources can be found in sources.list(5).\n",
      "Package and version choices can be expressed via apt_preferences(5).\n",
      "Security details are available in apt-secure(8).\n",
      "                                        This APT has Super Cow Powers.\n"
     ]
    }
   ],
   "source": [
    "%%bash\n",
    "apt --help"
   ]
  },
  {
   "cell_type": "code",
   "execution_count": 3,
   "metadata": {
    "collapsed": true
   },
   "outputs": [],
   "source": [
    "man apt"
   ]
  },
  {
   "cell_type": "markdown",
   "metadata": {},
   "source": [
    "`man` genera una nueva instancia en la visualización de la consola y muestra información más detallada que `--help` normalmente.  "
   ]
  },
  {
   "cell_type": "markdown",
   "metadata": {},
   "source": [
    "## Instalación  \n",
    "\n",
    "Partiendo de una distribución Debian/Ubuntu tenemos las siguientes utilidades: `apt` y `dpkg`.  \n",
    "\n",
    "La instrucción `apt` (cuya descripción y opciones se muestra en la celda superior) soporta los argumentos `-y` para confirmación de instalación, `-q` para proceso silencioso y `-f` para forzado, entre otros.  \n",
    "\n",
    "Algunas funciones de gestión de paquetes aún no se encuentran en `apt` por lo que aún debe usarse su predecesor `apt-get` y en combinación con `apt-cache`.  "
   ]
  },
  {
   "cell_type": "code",
   "execution_count": 4,
   "metadata": {
    "collapsed": false
   },
   "outputs": [
    {
     "name": "stdout",
     "output_type": "stream",
     "text": [
      "Sorting... Done\n",
      "Full Text Search... Done\n",
      "\u001b[32mpython-ipython-genutils\u001b[0m/xenial,xenial,xenial,xenial 0.1.0-1 all\n",
      "  IPython vestigial utilities for Python 2\n",
      "\n",
      "\u001b[32mpython-traitlets\u001b[0m/xenial,xenial,xenial,xenial 4.0.0-1 all\n",
      "  Lightweight Traits-like package for Python 2\n",
      "\n",
      "\u001b[32mpython-traitlets-doc\u001b[0m/xenial,xenial,xenial,xenial 4.0.0-1 all\n",
      "  Lightweight Traits-like package for Python\n",
      "\n",
      "\u001b[32mpython3-ipython-genutils\u001b[0m/xenial,xenial,xenial,xenial 0.1.0-1 all\n",
      "  IPython vestigial utilities for Python 3\n",
      "\n",
      "\u001b[32mpython3-traitlets\u001b[0m/xenial,xenial,xenial,xenial 4.0.0-1 all\n",
      "  Lightweight Traits-like package for Python 3\n",
      "\n"
     ]
    }
   ],
   "source": [
    "!apt search jupyter"
   ]
  },
  {
   "cell_type": "code",
   "execution_count": 5,
   "metadata": {
    "collapsed": false
   },
   "outputs": [
    {
     "name": "stdout",
     "output_type": "stream",
     "text": [
      "Package: ipython\r\n",
      "Version: 2.4.1-1\r\n",
      "Priority: optional\r\n",
      "Section: universe/python\r\n",
      "Origin: Ubuntu\r\n",
      "Maintainer: Ubuntu Developers <ubuntu-devel-discuss@lists.ubuntu.com>\r\n",
      "Original-Maintainer: Debian Python Modules Team <python-modules-team@lists.alioth.debian.org>\r\n",
      "Bugs: https://bugs.launchpad.net/ubuntu/+filebug\r\n",
      "Installed-Size: 3.379 kB\r\n",
      "Depends: python-decorator, python-pexpect, python-simplegeneric, python (>= 2.7), python (<< 2.8)\r\n",
      "Suggests: ipython-doc, ipython-notebook, ipython-qtconsole, python-matplotlib, python-numpy, python-profiler, python-zmq (>= 2.1.11)\r\n",
      "Homepage: http://ipython.org/\r\n",
      "Download-Size: 610 kB\r\n",
      "APT-Sources: http://co.archive.ubuntu.com/ubuntu xenial/universe amd64 Packages\r\n",
      "Description: enhanced interactive Python shell\r\n",
      " IPython can be used as a replacement for the standard Python shell,\r\n",
      " or it can be used as a complete working environment for scientific\r\n",
      " computing (like Matlab or Mathematica) when paired with the standard\r\n",
      " Python scientific and numerical tools. It supports dynamic object\r\n",
      " introspections, numbered input/output prompts, a macro system,\r\n",
      " session logging, session restoring, complete system shell access,\r\n",
      " verbose and colored traceback reports, auto-parentheses, auto-quoting,\r\n",
      " and is embeddable in other Python programs.\r\n",
      " .\r\n",
      " This package contains the basic terminal shell. For the qt console\r\n",
      " install ipython-qtconsole and for the html notebook install\r\n",
      " ipython-notebook.\r\n",
      "\r\n"
     ]
    }
   ],
   "source": [
    "!apt show ipython"
   ]
  },
  {
   "cell_type": "markdown",
   "metadata": {},
   "source": [
    "Si el paquede `.deb` ya lo tenemos descargado, podemos usar la instrucción `dpkg` como `dpkg -i NOMBREPAQUETE.deb`.\n",
    "\n",
    "Todas estas funciones, si requieren afectar el sistema, requieren de permisos de administrador. Para ello accedemos como `sudo -i` y a continuación la contraseña, o `su NOMBREADMIN` y luego la contraseña del usuario administrador.  \n",
    "\n",
    "Si se requiere de un proceso de compilación, dependerá de los directorios afectados la necesidad de ser administrador, y se procede normalmente como:  \n",
    "\n",
    "    ./configure\n",
    "    make\n",
    "    make install\n",
    "\n",
    "Sin embargo, se recomienda leer el archivo `README` o `INSTALL` que encontrará normalmente para detallar las opciones especificas del `make`.  \n",
    "\n",
    "## Archivos  \n",
    "\n",
    "Para la gestión de archivos y directorios podemos encontrar las siguientes utilidades.  \n",
    "\n",
    "Podemos consultar el directorio actual por medio de la instrucción `pwd` y hacer cambio de directorio con la instrucción `cd`. La ruta de un directorio o archivo puede indicarse de forma absoluta (indicación desde el raíz) o de forma relativa (desde el directorio actual). Cuando indicamos la ruta absoluta, la ruta siempre debe iniciar por `/`, mientras que la ruta relativa inicia directamente con el nombre de archivo o directorio que se encuentra en el directorio actual o con `.` para hacer redundancia en el directorio actual o `..` para salirse un directorio. Tambien puede indicarse el directorio _home_ del usuario actual como `~`, y para la instrucción `cd` en particular, la omisión de la ruta lleva a este directorio.  "
   ]
  },
  {
   "cell_type": "code",
   "execution_count": 6,
   "metadata": {
    "collapsed": false
   },
   "outputs": [
    {
     "name": "stdout",
     "output_type": "stream",
     "text": [
      "/home/cosmoscalibur/Dropbox/UdeM/Herramientas Computacionales/Clases\n",
      "/home/cosmoscalibur/Dropbox/UdeM/Herramientas Computacionales\n"
     ]
    }
   ],
   "source": [
    "%%bash\n",
    "pwd # Muestra directorio actual\n",
    "cd .. # Se sale un directorio\n",
    "pwd # Muestra directorio actual (superior al anterior en este caso)"
   ]
  },
  {
   "cell_type": "markdown",
   "metadata": {},
   "source": [
    "Podemos hacer consulta de los archivos y directorios existentes por medio de la utilidad `ls`, la cual posee argumentos que permiten controlar el nivel de información que obtenemos sobre estos.  "
   ]
  },
  {
   "cell_type": "code",
   "execution_count": 7,
   "metadata": {
    "collapsed": false
   },
   "outputs": [
    {
     "name": "stdout",
     "output_type": "stream",
     "text": [
      "listar archivos\n",
      "comandoslinux.jpg\n",
      "directorio_prueba\n",
      "ejecutar_prueba.sh\n",
      "Jupyter Notebook Basico.ipynb\n",
      "Jupyter+Notebook+Basico.pdf\n",
      "Jupyter Notebook Intermedio.ipynb\n",
      "Jupyter+Notebook+Intermedio.pdf\n",
      "jupyter.png\n",
      "Linux Basico.ipynb\n",
      "presentacion_herramientas.md\n",
      "presentacion_herramientas.pdf\n",
      "prueba2.txt\n",
      "listar archivos, incluyendo archivos ocultos\n",
      ".\n",
      "..\n",
      "comandoslinux.jpg\n",
      "directorio_prueba\n",
      "ejecutar_prueba.sh\n",
      ".ipynb_checkpoints\n",
      "Jupyter Notebook Basico.ipynb\n",
      "Jupyter+Notebook+Basico.pdf\n",
      "Jupyter Notebook Intermedio.ipynb\n",
      "Jupyter+Notebook+Intermedio.pdf\n",
      "jupyter.png\n",
      "Linux Basico.ipynb\n",
      "presentacion_herramientas.md\n",
      "presentacion_herramientas.pdf\n",
      "prueba2.txt\n",
      "listar archivos, incluyendo archivos ocultos e indicando propiedades\n",
      "total 776\n",
      "drwxrwxr-x 4 cosmoscalibur cosmoscalibur   4096 ago  7 22:19 .\n",
      "drwxrwxr-x 5 cosmoscalibur cosmoscalibur   4096 ago  2 21:18 ..\n",
      "-rw-rw-r-- 1 cosmoscalibur cosmoscalibur 228685 nov 13  2007 comandoslinux.jpg\n",
      "drwxrwxr-x 2 cosmoscalibur cosmoscalibur   4096 ago  7 22:18 directorio_prueba\n",
      "-rwxr-xr-x 1 cosmoscalibur cosmoscalibur     10 ago  7 21:56 ejecutar_prueba.sh\n",
      "drwxr-xr-x 2 cosmoscalibur cosmoscalibur   4096 ago  7 19:45 .ipynb_checkpoints\n",
      "-rw-rw-r-- 1 cosmoscalibur cosmoscalibur  23401 ago  7 19:20 Jupyter Notebook Basico.ipynb\n",
      "-rw-rw-r-- 1 cosmoscalibur cosmoscalibur 142209 ago  7 19:21 Jupyter+Notebook+Basico.pdf\n",
      "-rw-rw-r-- 1 cosmoscalibur cosmoscalibur   5686 ago  7 19:27 Jupyter Notebook Intermedio.ipynb\n",
      "-rw-rw-r-- 1 cosmoscalibur cosmoscalibur  94082 ago  7 19:27 Jupyter+Notebook+Intermedio.pdf\n",
      "-rw-rw-r-- 1 cosmoscalibur cosmoscalibur  12760 ago  7 18:35 jupyter.png\n",
      "-rw-rw-r-- 1 cosmoscalibur cosmoscalibur  35593 ago  7 22:19 Linux Basico.ipynb\n",
      "-rw-rw-r-- 1 cosmoscalibur cosmoscalibur  11375 ago  2 21:24 presentacion_herramientas.md\n",
      "-rw-rw-r-- 1 cosmoscalibur cosmoscalibur 139557 ago  2 21:24 presentacion_herramientas.pdf\n",
      "-rw-rw-r-- 1 cosmoscalibur cosmoscalibur    292 ago  7 22:18 prueba2.txt\n",
      "listar archivos, incluyendo archivos ocultos e indicando propiedades con indicación de peso con prefijos\n",
      "total 776K\n",
      "drwxrwxr-x 4 cosmoscalibur cosmoscalibur 4,0K ago  7 22:19 .\n",
      "drwxrwxr-x 5 cosmoscalibur cosmoscalibur 4,0K ago  2 21:18 ..\n",
      "-rw-rw-r-- 1 cosmoscalibur cosmoscalibur 224K nov 13  2007 comandoslinux.jpg\n",
      "drwxrwxr-x 2 cosmoscalibur cosmoscalibur 4,0K ago  7 22:18 directorio_prueba\n",
      "-rwxr-xr-x 1 cosmoscalibur cosmoscalibur   10 ago  7 21:56 ejecutar_prueba.sh\n",
      "drwxr-xr-x 2 cosmoscalibur cosmoscalibur 4,0K ago  7 19:45 .ipynb_checkpoints\n",
      "-rw-rw-r-- 1 cosmoscalibur cosmoscalibur  23K ago  7 19:20 Jupyter Notebook Basico.ipynb\n",
      "-rw-rw-r-- 1 cosmoscalibur cosmoscalibur 139K ago  7 19:21 Jupyter+Notebook+Basico.pdf\n",
      "-rw-rw-r-- 1 cosmoscalibur cosmoscalibur 5,6K ago  7 19:27 Jupyter Notebook Intermedio.ipynb\n",
      "-rw-rw-r-- 1 cosmoscalibur cosmoscalibur  92K ago  7 19:27 Jupyter+Notebook+Intermedio.pdf\n",
      "-rw-rw-r-- 1 cosmoscalibur cosmoscalibur  13K ago  7 18:35 jupyter.png\n",
      "-rw-rw-r-- 1 cosmoscalibur cosmoscalibur  35K ago  7 22:19 Linux Basico.ipynb\n",
      "-rw-rw-r-- 1 cosmoscalibur cosmoscalibur  12K ago  2 21:24 presentacion_herramientas.md\n",
      "-rw-rw-r-- 1 cosmoscalibur cosmoscalibur 137K ago  2 21:24 presentacion_herramientas.pdf\n",
      "-rw-rw-r-- 1 cosmoscalibur cosmoscalibur  292 ago  7 22:18 prueba2.txt\n"
     ]
    }
   ],
   "source": [
    "%%bash\n",
    "echo \"listar archivos\"\n",
    "ls\n",
    "echo \"listar archivos, incluyendo archivos ocultos\"\n",
    "ls -a\n",
    "echo \"listar archivos, incluyendo archivos ocultos e indicando propiedades\"\n",
    "ls -al\n",
    "echo \"listar archivos, incluyendo archivos ocultos e indicando propiedades con indicación de peso con prefijos\"\n",
    "ls -alh"
   ]
  },
  {
   "cell_type": "markdown",
   "metadata": {},
   "source": [
    "Las primeras columnas de los listados con propiedades se corresponden a los permisos de los archivos. La primera columna corresponde a si es un directorio `d` o un archivo regular `-`. Las siguientes columnas en grupos de 3 asocian a los permisos del usuario propietario, usuarios del grupo y resto de usuarios, siendo la primera columna del grupo para indicar lectura `r`, la segunda escritura `w` y la última ejecución `x`. La carencia de dichas propiedades se designa con `-`.\n",
    "\n",
    "Para crear archivos o actualizar la huella de tiempo se puede usar la instrucción `touch` seguida del nombre del archivo. Si se usa para la creación de un archivo, este será por defecto un archivo de texto plano.  \n",
    "\n",
    "El contenido de un archivo de texto plano se puede poblar con ayuda de los simbolos `>` y `>>` que se encargar de direccionar las salidas de la consola hacia el archivo deseado. Si desea sobreescribir los archivos use la primera opción, pero si los desea continuar use la segunda opción.  "
   ]
  },
  {
   "cell_type": "code",
   "execution_count": 8,
   "metadata": {
    "collapsed": false
   },
   "outputs": [
    {
     "name": "stdout",
     "output_type": "stream",
     "text": [
      "-rw-rw-r-- 1 cosmoscalibur cosmoscalibur 292 ago  7 22:18 prueba2.txt\n",
      "-rw-rw-r-- 1 cosmoscalibur cosmoscalibur   0 ago  7 22:20 prueba.txt\n",
      "-rw-rw-r-- 1 cosmoscalibur cosmoscalibur 292 ago  7 22:18 prueba2.txt\n",
      "-rw-rw-r-- 1 cosmoscalibur cosmoscalibur 292 ago  7 22:20 prueba.txt\n"
     ]
    }
   ],
   "source": [
    "%%bash\n",
    "touch prueba.txt\n",
    "ls -lh *txt\n",
    "ls > prueba.txt # Se redirige la salida de ls al archivo prueba.txt, el cual se sobre escribe\n",
    "ls -lh *txt"
   ]
  },
  {
   "cell_type": "markdown",
   "metadata": {},
   "source": [
    "Para la lectura de los archivos es posible usar distintas utilidades según se requiera una forma interactiva o estatica, o un conjunto de lineas especificas. Así, tenemos utilidades como `head`, `tail`, `more` y `less`.  "
   ]
  },
  {
   "cell_type": "code",
   "execution_count": 9,
   "metadata": {
    "collapsed": false
   },
   "outputs": [
    {
     "name": "stdout",
     "output_type": "stream",
     "text": [
      "comandoslinux.jpg\r\n",
      "directorio_prueba\r\n",
      "ejecutar_prueba.sh\r\n",
      "Jupyter Notebook Basico.ipynb\r\n",
      "Jupyter+Notebook+Basico.pdf\r\n",
      "Jupyter Notebook Intermedio.ipynb\r\n",
      "Jupyter+Notebook+Intermedio.pdf\r\n",
      "jupyter.png\r\n",
      "Linux Basico.ipynb\r\n",
      "presentacion_herramientas.md\r\n",
      "presentacion_herramientas.pdf\r\n",
      "prueba2.txt\r\n",
      "prueba.txt\r\n"
     ]
    }
   ],
   "source": [
    "!more prueba.txt"
   ]
  },
  {
   "cell_type": "code",
   "execution_count": 10,
   "metadata": {
    "collapsed": false
   },
   "outputs": [
    {
     "name": "stdout",
     "output_type": "stream",
     "text": [
      "Primeras dos lineas\n",
      "comandoslinux.jpg\n",
      "directorio_prueba\n",
      "ultimas dos lineas\n",
      "prueba2.txt\n",
      "prueba.txt\n"
     ]
    }
   ],
   "source": [
    "%%bash\n",
    "echo \"Primeras dos lineas\"\n",
    "head -n 2 prueba.txt\n",
    "echo \"ultimas dos lineas\"\n",
    "tail -n 2 prueba.txt"
   ]
  },
  {
   "cell_type": "markdown",
   "metadata": {},
   "source": [
    "Si deseamos realizar una copia del archivo, usamos la instrucción `cp`. Para cambiar su ubicación o renombrar se usa la instrucción `mv` (renombrar es lo mismo que cambiar la locación del archivo).  "
   ]
  },
  {
   "cell_type": "code",
   "execution_count": 11,
   "metadata": {
    "collapsed": false
   },
   "outputs": [
    {
     "name": "stdout",
     "output_type": "stream",
     "text": [
      "prueba2.txt\n",
      "prueba3.txt\n"
     ]
    }
   ],
   "source": [
    "%%bash\n",
    "cp prueba.txt prueba2.txt # Se hace una copia de prueba.txt en prueba2.txt\n",
    "mv prueba.txt prueba3.txt # Se cambia el nombre de prueba.txt a prueba3.txt\n",
    "ls prueba*.txt # Se valida la existencia de los archivos con patron 'prueba' al inicio y extensión '.txt'."
   ]
  },
  {
   "cell_type": "markdown",
   "metadata": {},
   "source": [
    "Si deseamos eliminar de manera permanente el archivo `prueba3.txt`, usamos la instrucción `rm`. Tanto para copiar como para borrar de debe usar el argumento `-R` si se desea la acción sobre directorios.  "
   ]
  },
  {
   "cell_type": "code",
   "execution_count": 12,
   "metadata": {
    "collapsed": false
   },
   "outputs": [
    {
     "name": "stdout",
     "output_type": "stream",
     "text": [
      "prueba2.txt\n"
     ]
    }
   ],
   "source": [
    "%%bash\n",
    "rm prueba3.txt\n",
    "ls prueba*.txt"
   ]
  },
  {
   "cell_type": "markdown",
   "metadata": {},
   "source": [
    "Para crar un directorio se usa la instrucción `mkdir`.  "
   ]
  },
  {
   "cell_type": "code",
   "execution_count": 13,
   "metadata": {
    "collapsed": false
   },
   "outputs": [
    {
     "name": "stdout",
     "output_type": "stream",
     "text": [
      "directorio_prueba/\n"
     ]
    }
   ],
   "source": [
    "%%bash\n",
    "mkdir -p directorio_prueba # El argumento '-p' es para no generar error si ya existe el directorio y lo conserva\n",
    "ls -d */ # De esta manera se listan solo directorios"
   ]
  },
  {
   "cell_type": "markdown",
   "metadata": {},
   "source": [
    "Se desea crear un enlace simbolico del archivo prueba2.txt en el directorio nuevo, esto con el fin de tener un _acceso rapido_ desde dicha ubicacion. Para este fin se usa la instrucción `ln`.  "
   ]
  },
  {
   "cell_type": "code",
   "execution_count": 14,
   "metadata": {
    "collapsed": false
   },
   "outputs": [
    {
     "name": "stdout",
     "output_type": "stream",
     "text": [
      "total 0\n",
      "lrwxrwxrwx 1 cosmoscalibur 11 ago  7 22:20 prueba.txt -> prueba2.txt\n"
     ]
    }
   ],
   "source": [
    "%%bash\n",
    "ln -fs prueba2.txt directorio_prueba/prueba.txt # El argumento 'f' remueve el enlace si ya existe.\n",
    "# El argumento 's' es para indicar un enlace simbolico.\n",
    "ls -oh directorio_prueba/"
   ]
  },
  {
   "cell_type": "markdown",
   "metadata": {},
   "source": [
    "Es posible tambien concatenar archivos de texto plano, por medio de `cat`. El resultado de la concatenación se redirige a la salida estandar de la consola.  "
   ]
  },
  {
   "cell_type": "code",
   "execution_count": 15,
   "metadata": {
    "collapsed": false
   },
   "outputs": [
    {
     "name": "stdout",
     "output_type": "stream",
     "text": [
      "comandoslinux.jpg\r\n",
      "directorio_prueba\r\n",
      "ejecutar_prueba.sh\r\n",
      "Jupyter Notebook Basico.ipynb\r\n",
      "Jupyter+Notebook+Basico.pdf\r\n",
      "Jupyter Notebook Intermedio.ipynb\r\n",
      "Jupyter+Notebook+Intermedio.pdf\r\n",
      "jupyter.png\r\n",
      "Linux Basico.ipynb\r\n",
      "presentacion_herramientas.md\r\n",
      "presentacion_herramientas.pdf\r\n",
      "prueba2.txt\r\n",
      "prueba.txt\r\n",
      "comandoslinux.jpg\r\n",
      "directorio_prueba\r\n",
      "ejecutar_prueba.sh\r\n",
      "Jupyter Notebook Basico.ipynb\r\n",
      "Jupyter+Notebook+Basico.pdf\r\n",
      "Jupyter Notebook Intermedio.ipynb\r\n",
      "Jupyter+Notebook+Intermedio.pdf\r\n",
      "jupyter.png\r\n",
      "Linux Basico.ipynb\r\n",
      "presentacion_herramientas.md\r\n",
      "presentacion_herramientas.pdf\r\n",
      "prueba2.txt\r\n",
      "prueba.txt\r\n"
     ]
    }
   ],
   "source": [
    "!cat prueba2.txt prueba2.txt"
   ]
  },
  {
   "cell_type": "markdown",
   "metadata": {},
   "source": [
    "## Búsqueda  \n",
    "\n",
    "Podemos hacer busqueda en archivos y en directorios de texto o archivos respectivamente. Para ello podemos usar las instrucciones `grep`, `find` y `locate`.  "
   ]
  },
  {
   "cell_type": "code",
   "execution_count": 16,
   "metadata": {
    "collapsed": false
   },
   "outputs": [
    {
     "name": "stdout",
     "output_type": "stream",
     "text": [
      "Buscar texto en un archivo\n",
      "Jupyter Notebook Basico.ipynb\n",
      "Jupyter+Notebook+Basico.pdf\n",
      "Jupyter Notebook Intermedio.ipynb\n",
      "Jupyter+Notebook+Intermedio.pdf\n",
      "Buscar texto en salida de consola\n",
      "drwxrwxr-x 2 cosmoscalibur cosmoscalibur   4096 ago  7 22:20 directorio_prueba\n",
      "-rwxr-xr-x 1 cosmoscalibur cosmoscalibur     10 ago  7 21:56 ejecutar_prueba.sh\n",
      "-rw-rw-r-- 1 cosmoscalibur cosmoscalibur    292 ago  7 22:20 prueba2.txt\n",
      "Buscar archivo en un directorio\n",
      "./Jupyter Notebook Basico.ipynb\n",
      "./Jupyter Notebook Intermedio.ipynb\n",
      "./.ipynb_checkpoints/Jupyter Notebook Intermedio-checkpoint.ipynb\n",
      "./.ipynb_checkpoints/Jupyter Notebook Basico-checkpoint.ipynb\n",
      "./Jupyter+Notebook+Intermedio.pdf\n",
      "./Jupyter+Notebook+Basico.pdf\n",
      "./jupyter.png\n"
     ]
    }
   ],
   "source": [
    "%%bash\n",
    "echo \"Buscar texto en un archivo\"\n",
    "grep Jupyter prueba2.txt\n",
    "echo \"Buscar texto en salida de consola\"\n",
    "ls -l | grep prueba\n",
    "echo \"Buscar archivo en un directorio\"\n",
    "find . -iname \"Jupyter*\""
   ]
  },
  {
   "cell_type": "markdown",
   "metadata": {},
   "source": [
    "## Gestión de procesos  \n",
    "\n",
    "Podemos gestionar los procesos del sistema con las utilidades `ps`, `top` y `kill`. Las dos primeras permiten realizar observación de los procesos en ejecución en el sistema y ciertos argumentos para definir el detalle de la información de estos. Mediante `kill` y el identificador del proceso podemos elminar este.  "
   ]
  },
  {
   "cell_type": "code",
   "execution_count": 17,
   "metadata": {
    "collapsed": false
   },
   "outputs": [
    {
     "name": "stdout",
     "output_type": "stream",
     "text": [
      "  PID TTY          TIME CMD\n",
      " 4326 ?        00:00:00 systemd\n",
      " 4328 ?        00:00:00 (sd-pam)\n",
      " 4336 ?        00:00:00 gnome-keyring-d\n",
      " 4338 ?        00:00:00 upstart\n",
      " 4419 ?        00:00:00 upstart-udev-br\n",
      " 4420 ?        00:00:01 dbus-daemon\n",
      " 4466 ?        00:00:00 upstart-dbus-br\n",
      " 4467 ?        00:00:01 upstart-dbus-br\n",
      " 4471 ?        00:00:00 upstart-file-br\n",
      " 4483 ?        00:00:00 gpg-agent\n",
      " 4500 ?        00:00:00 lxsession\n",
      " 4506 ?        00:00:00 gvfsd\n",
      " 4511 ?        00:00:00 gvfsd-fuse\n",
      " 4533 ?        00:00:07 openbox\n",
      " 4537 ?        00:00:17 lxpanel\n",
      " 4539 ?        00:00:00 pcmanfm\n",
      " 4540 ?        00:00:04 xfce4-power-man\n",
      " 4542 ?        00:00:00 xfconfd\n",
      " 4557 ?        00:00:10 nm-applet\n",
      " 4559 ?        00:00:00 update-notifier\n",
      " 4570 ?        00:00:00 dunst\n",
      " 4579 ?        00:02:54 pulseaudio\n",
      " 4595 ?        00:00:00 ssh-agent\n",
      " 4613 ?        00:00:00 gvfs-udisks2-vo\n",
      " 4623 ?        00:00:00 menu-cached\n",
      " 4634 ?        00:00:00 gvfs-mtp-volume\n",
      " 4642 ?        00:00:00 gvfs-gphoto2-vo\n",
      " 4647 ?        00:00:00 gvfs-afc-volume\n",
      " 4656 ?        00:00:00 gvfs-goa-volume\n",
      " 4710 ?        00:00:00 gvfsd-trash\n",
      " 4719 ?        00:00:02 indicator-appli\n",
      " 4720 ?        00:01:14 dropbox\n",
      " 4891 ?        00:22:04 chrome\n",
      " 4896 ?        00:00:00 cat\n",
      " 4897 ?        00:00:00 cat\n",
      " 4924 ?        00:00:00 chrome\n",
      " 4932 ?        00:00:00 nacl_helper\n",
      " 4940 ?        00:04:59 thunderbird\n",
      " 4950 ?        00:00:00 chrome\n",
      " 5016 ?        00:27:10 chrome\n",
      " 5025 ?        00:00:00 chrome\n",
      " 5090 ?        00:00:00 gconfd-2\n",
      " 5139 ?        00:01:08 chrome\n",
      " 5141 ?        00:00:00 chrome\n",
      " 5143 ?        00:00:01 chrome\n",
      " 5145 ?        00:00:00 chrome\n",
      " 5148 ?        00:01:35 chrome\n",
      " 5246 ?        00:00:26 chrome\n",
      " 5993 ?        00:02:17 chrome\n",
      " 6526 ?        00:00:00 gvfsd-http\n",
      " 7687 ?        00:00:46 chrome\n",
      " 7709 ?        01:25:19 chrome\n",
      "11619 ?        00:02:35 chrome\n",
      "11658 ?        00:00:02 x-terminal-emul\n",
      "11659 ?        00:00:00 gnome-pty-helpe\n",
      "11660 pts/0    00:00:00 bash\n",
      "11693 pts/0    00:00:12 jupyter-noteboo\n",
      "11815 ?        00:15:42 chrome\n",
      "15535 ?        00:00:18 chrome\n",
      "16963 pts/2    00:00:00 bash\n",
      "18855 ?        00:00:17 chrome\n",
      "19160 pts/3    00:00:00 bash\n",
      "19869 ?        00:00:12 chrome\n",
      "20444 ?        00:00:00 chrome\n",
      "21280 ?        00:00:00 python3\n",
      "21358 ?        00:00:00 bash\n",
      "21359 ?        00:00:00 ps\n"
     ]
    }
   ],
   "source": [
    "%%bash\n",
    "ps -u $USER"
   ]
  },
  {
   "cell_type": "markdown",
   "metadata": {},
   "source": [
    "## Permisos  \n",
    "\n",
    "Los permisos permiten no solo el acceso a los archivos por parte de los usuarios, sino la posibilidad de restringir el tipo de operaciones sobre los archivos.  \n",
    "\n",
    "|Permiso|Valor|Letra|\n",
    "|---|---|---|\n",
    "|Lectura|4|r|\n",
    "|Escritura|2|w|\n",
    "|Ejecución|1|x|\n",
    "\n",
    "Los permisos se pueden habilitar mediante `+` seguido de la letra asociada al permiso y el nombre del archivo, o mediante la indicación de la suma de valores de los permisos y en orden acorde a usuario propietario, usuarios del grupo y resto de usuarios.  "
   ]
  },
  {
   "cell_type": "code",
   "execution_count": 26,
   "metadata": {
    "collapsed": false
   },
   "outputs": [
    {
     "name": "stdout",
     "output_type": "stream",
     "text": [
      "Propiedades del archivo\n",
      "-rw-rw-r-- 1 cosmoscalibur 10 ago  7 22:24 ejecutar_prueba.sh\n",
      "Se ejecuta el archivo\n",
      "Se puede obviar el error por parte del propietario mediante sh (bash/dash/zsh/..)\n",
      "hola\n",
      "Se cambian permisos y ejecuta nuevamente\n",
      "hola\n"
     ]
    },
    {
     "name": "stderr",
     "output_type": "stream",
     "text": [
      "bash: line 6: ./ejecutar_prueba.sh: Permission denied\n"
     ]
    }
   ],
   "source": [
    "%%bash\n",
    "rm -f ejecutar_prueba.sh\n",
    "echo \"echo hola\" > ejecutar_prueba.sh # Creamos un archivo para ejecución\n",
    "echo \"Propiedades del archivo\"\n",
    "ls -oh *sh # Validamos permisos de ejecución. Por defecto los permisos son solo lectura.\n",
    "echo \"Se ejecuta el archivo\"\n",
    "./ejecutar_prueba.sh # Ejecutamos y se genera error de permisos.\n",
    "echo \"Se puede obviar el error por parte del propietario mediante sh (bash/dash/zsh/..)\"\n",
    "bash ejecutar_prueba.sh\n",
    "echo \"Se cambian permisos y ejecuta nuevamente\"\n",
    "chmod 755 ejecutar_prueba.sh # Se otorga permiso de ejecución\n",
    "./ejecutar_prueba.sh # Al ejecutar nuevamente se genera la salida esperada"
   ]
  },
  {
   "cell_type": "markdown",
   "metadata": {},
   "source": [
    "## Internet  \n",
    "\n",
    "`ping` seguido de la url valida el estado de recepción y envio de paquetes al sitio indicado de manera continua hasta que se realice interrupción de la consola.  \n",
    "`dig` realiza detección de la IP del sitio.  "
   ]
  },
  {
   "cell_type": "code",
   "execution_count": 19,
   "metadata": {
    "collapsed": false
   },
   "outputs": [
    {
     "name": "stdout",
     "output_type": "stream",
     "text": [
      "\n",
      "; <<>> DiG 9.10.3-P4-Ubuntu <<>> www.google.com\n",
      ";; global options: +cmd\n",
      ";; Got answer:\n",
      ";; ->>HEADER<<- opcode: QUERY, status: NOERROR, id: 51776\n",
      ";; flags: qr rd ra; QUERY: 1, ANSWER: 12, AUTHORITY: 0, ADDITIONAL: 1\n",
      "\n",
      ";; OPT PSEUDOSECTION:\n",
      "; EDNS: version: 0, flags:; udp: 512\n",
      ";; QUESTION SECTION:\n",
      ";www.google.com.\t\t\tIN\tA\n",
      "\n",
      ";; ANSWER SECTION:\n",
      "www.google.com.\t\t237\tIN\tA\t190.248.1.32\n",
      "www.google.com.\t\t237\tIN\tA\t190.248.1.59\n",
      "www.google.com.\t\t237\tIN\tA\t190.248.1.45\n",
      "www.google.com.\t\t237\tIN\tA\t190.248.1.18\n",
      "www.google.com.\t\t237\tIN\tA\t190.248.1.39\n",
      "www.google.com.\t\t237\tIN\tA\t190.248.1.38\n",
      "www.google.com.\t\t237\tIN\tA\t190.248.1.31\n",
      "www.google.com.\t\t237\tIN\tA\t190.248.1.53\n",
      "www.google.com.\t\t237\tIN\tA\t190.248.1.24\n",
      "www.google.com.\t\t237\tIN\tA\t190.248.1.46\n",
      "www.google.com.\t\t237\tIN\tA\t190.248.1.52\n",
      "www.google.com.\t\t237\tIN\tA\t190.248.1.25\n",
      "\n",
      ";; Query time: 72 msec\n",
      ";; SERVER: 8.8.8.8#53(8.8.8.8)\n",
      ";; WHEN: Sun Aug 07 22:20:44 COT 2016\n",
      ";; MSG SIZE  rcvd: 235\n",
      "\n"
     ]
    }
   ],
   "source": [
    "%%bash\n",
    "dig www.google.com"
   ]
  },
  {
   "cell_type": "markdown",
   "metadata": {},
   "source": [
    "Tambien es posible realizar descargas por medio de la consola con la instrucción `wget`.  "
   ]
  },
  {
   "cell_type": "code",
   "execution_count": 20,
   "metadata": {
    "collapsed": false
   },
   "outputs": [
    {
     "name": "stdout",
     "output_type": "stream",
     "text": [
      "--2016-08-07 22:20:44--  https://tanaceto.files.wordpress.com/2007/11/fwunixref_es.jpg\n",
      "Resolving tanaceto.files.wordpress.com (tanaceto.files.wordpress.com)... 192.0.72.18, 192.0.72.19\n",
      "Connecting to tanaceto.files.wordpress.com (tanaceto.files.wordpress.com)|192.0.72.18|:443... connected.\n",
      "HTTP request sent, awaiting response... 200 OK\n",
      "Length: 228685 (223K) [image/jpeg]\n",
      "Saving to: ‘comandoslinux.jpg’\n",
      "\n",
      "comandoslinux.jpg   100%[===================>] 223,33K   497KB/s    in 0,4s    \n",
      "\n",
      "2016-08-07 22:20:45 (497 KB/s) - ‘comandoslinux.jpg’ saved [228685/228685]\n",
      "\n"
     ]
    }
   ],
   "source": [
    "!wget -O comandoslinux.jpg https://tanaceto.files.wordpress.com/2007/11/fwunixref_es.jpg"
   ]
  },
  {
   "cell_type": "code",
   "execution_count": 21,
   "metadata": {
    "collapsed": false
   },
   "outputs": [
    {
     "name": "stdout",
     "output_type": "stream",
     "text": [
      "comandoslinux.jpg\r\n"
     ]
    }
   ],
   "source": [
    "!ls *jpg"
   ]
  },
  {
   "cell_type": "markdown",
   "metadata": {},
   "source": [
    "## Compresión  \n",
    "\n",
    "Consulte con las opciones de ayuda de la consola, el uso de las instrucciones `tar`, `gzip`, `file-roller` (ubuntu), `zip`, `unzip`, `7z` (los ultimos tres debe instalarlos).  \n",
    "\n",
    "## Otros  \n",
    "\n",
    "Existen muchas utilidades linux esenciales, las cuales puede explorar por su cuenta. Algunas de ellas para su consulta son:  \n",
    "\n",
    "+ du  \n",
    "+ df  \n",
    "+ uname  \n",
    "+ wc  \n",
    "+ whereis  \n",
    "+ date  \n",
    "+ call  \n",
    "+ source  \n",
    "+ bc  \n",
    "\n",
    "## Variables de entorno y archivos de configuración  \n",
    "\n",
    "Encontrará de utilidad para gestiones administrativas y rutinas bash, algunas variables de entorno. Estas se expresan sus valores usando \\$ al inicio del nombre. Algunas variables de entorno comunes son:  "
   ]
  },
  {
   "cell_type": "code",
   "execution_count": 22,
   "metadata": {
    "collapsed": false
   },
   "outputs": [
    {
     "name": "stdout",
     "output_type": "stream",
     "text": [
      "/home/cosmoscalibur\n",
      "/home/cosmoscalibur/.local/share/umake/android/android-sdk/tools:/home/cosmoscalibur/.local/share/umake/android/android-sdk/platform-tools:/home/cosmoscalibur/.local/share/umake/bin:/home/cosmoscalibur/.local/share/umake/android/android-sdk/tools:/home/cosmoscalibur/.local/share/umake/android/android-sdk/platform-tools:/home/cosmoscalibur/.local/share/umake/bin:/usr/local/sbin:/usr/local/bin:/usr/sbin:/usr/bin:/sbin:/bin:/usr/games:/usr/local/games:/snap/bin\n",
      "cosmoscalibur\n"
     ]
    }
   ],
   "source": [
    "%%bash\n",
    "echo $HOME # Directorio Home del usuario actual\n",
    "echo $PATH # Ruta de los ejecutables\n",
    "echo $USER # Nombre de usuario del usuario actual"
   ]
  },
  {
   "cell_type": "markdown",
   "metadata": {},
   "source": [
    "Algunos archivos de configuración importantes son:  \n",
    "\n",
    "+ ~/.bashrc  \n",
    "+ ~/.profile  \n",
    "+ ~/.bash_aliases"
   ]
  }
 ],
 "metadata": {
  "kernelspec": {
   "display_name": "Python 3",
   "language": "python",
   "name": "python3"
  },
  "language_info": {
   "codemirror_mode": {
    "name": "ipython",
    "version": 3
   },
   "file_extension": ".py",
   "mimetype": "text/x-python",
   "name": "python",
   "nbconvert_exporter": "python",
   "pygments_lexer": "ipython3",
   "version": "3.5.2"
  }
 },
 "nbformat": 4,
 "nbformat_minor": 0
}
