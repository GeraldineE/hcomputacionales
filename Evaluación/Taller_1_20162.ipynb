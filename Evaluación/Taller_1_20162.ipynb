{
 "cells": [
  {
   "cell_type": "markdown",
   "metadata": {},
   "source": [
    "# Taller 1: Condiciones  \n",
    "\n",
    "La presentación de este taller cumple la evaluación del progreso en los siguientes elementos del curso:  \n",
    "\n",
    "+ Linux.  \n",
    "    + Uso básico de comandos en consola.  \n",
    "    + _Scripting_ en bash.  \n",
    "+ Jupyter Notebooks.  \n",
    "    + Uso de celdas markdown y de código.  \n",
    "    + Visualización dinamica con IPython API.  \n",
    "+ LaTeX.  \n",
    "    + Escritura de ecuaciones en LaTeX.  \n",
    "    + Edición en LaTeX puro.  \n",
    "    \n",
    "Para la entrega de este documento se requiere entregar en formato zip al correo del docente, el documento principal `Taller_1.ipynb`, donde usted desarrolla las actividades documentando y ejecutando su código, y todo archivo adicional que se genere acorde a las solicitudes del taller. El archivo comprimido debe tener la secuencia de nombre dada por su documento de identidad, apellido y `T1`, ejemplo `1111111111ApellidoT1.zip`.  \n",
    "\n",
    "El plazo de la entrega es 20 de agosto a la medianoche.   \n",
    "\n",
    "Puede usar cualquier _magic_ que requiera (de única linea o de múltiple linea). El único `import` que puede usar en este notebook es:  "
   ]
  },
  {
   "cell_type": "code",
   "execution_count": null,
   "metadata": {
    "collapsed": false
   },
   "outputs": [],
   "source": [
    "from __future__ import print_function, division # Compatibilidad python 2 y 3\n",
    "try: # En caso de tener instalado numpy puede importarlo.\n",
    "    from numpy import array\n",
    "except:\n",
    "    print(\"Si desea usar numpy, por favor instale.\")\n",
    "from IPython.display import display, Latex, Markdown # Visualización de salida de código"
   ]
  },
  {
   "cell_type": "markdown",
   "metadata": {},
   "source": [
    "## Punto 1 (0,8 unidades)  \n",
    "\n",
    "Realice una función python en la celda siguiente, que dados dos polinomios de grado arbitrario (es libre de representarlos como desee) devuelva su suma renderizada como ecuación en el notebook.  "
   ]
  },
  {
   "cell_type": "code",
   "execution_count": null,
   "metadata": {
    "collapsed": true
   },
   "outputs": [],
   "source": []
  },
  {
   "cell_type": "markdown",
   "metadata": {},
   "source": [
    "En la celda a continuación evalue los casos de prueba:  \n",
    "\n",
    "+ $(x^2+1) + 5,$  \n",
    "+ $(3{,}2x^3 + x^2 + 5x) + (2x^2 - 0{,}1).$  "
   ]
  },
  {
   "cell_type": "code",
   "execution_count": null,
   "metadata": {
    "collapsed": true
   },
   "outputs": [],
   "source": []
  },
  {
   "cell_type": "markdown",
   "metadata": {},
   "source": [
    "## Punto 2  (0,5 unidades)\n",
    "\n",
    "Realice una tabla markdown que muestre las equivalencias de constantes y funciones matematicas renderizadas adecuadamente con el comando LaTeX que los genera. La primera columna debe ser centrada y la segunda alineada a la derecha.  \n",
    "\n",
    "+ Constante pi.  \n",
    "+ Proporción aurea.  \n",
    "+ Función gamma.  \n",
    "+ Función exponencial.  \n",
    "+ Una expresión fraccionaria.  \n",
    "\n",
    "Cree una celda debajo de esta del tipo adecuado para solucionar.  "
   ]
  },
  {
   "cell_type": "markdown",
   "metadata": {},
   "source": [
    "## Punto 3  (1,2 unidades)\n",
    "\n",
    "Cree la celda requerida para este punto inmediatamente a continuación. Debe crear desde la celda un archivo para ejecución con los permisos adecuados para ser ejecutado por el propietario y por los usuarios que no pertenezcan al mismo grupo del propietario. El comportamiento del _script_ se describe a continuación:  \n",
    "\n",
    "+ Debe recibir como argumento una url de una imagen png. No se requiere validar formato.  \n",
    "+ Debe crear un directorio `punto3` en el directorio de descargas del usuario actual, sin afectar el directorio en caso de existir.  \n",
    "+ Si el directorio ya existe, valida la presencia de archivos `.png`, y solo en caso de existir procede a eliminar cualquier archivo presente (asi no sea de imagen).  \n",
    "+ Debe descargar la imagen al directorio `punto3` con el nombre `descarga.png`.  \n",
    "+ Mover el directorio `punto3` al directorio de este notebook.  \n",
    "+ Extraiga la imagen del directorio `punto3` al directorio del notebook con el nombre `extra.png`.  \n",
    "+ Elimine el directorio `punto3`.  \n",
    "\n",
    "En la misma celda ejecute el _script_ que creo.  "
   ]
  },
  {
   "cell_type": "markdown",
   "metadata": {},
   "source": [
    "## Punto 4  (1,5 unidad)\n",
    "\n",
    "Para este punto, el valor del punto corresponderá a la unidad dividida entre el número de celdas que recurra para la solución. Debe crear un archivo simple de LaTeX en este directorio con las siguientes especificaciones, desde el notebook.  \n",
    "\n",
    "+ Tamaño de letra 14.  \n",
    "+ Tamaño de documento carta.  \n",
    "+ Versión borrador.  \n",
    "+ Su nombre como autor y titulo del documento `latex_taller`.  \n",
    "+ Generación de la portada por comando LaTeX.  \n",
    "+ Genere una redacción simple ilustrando las siguientes acciones en LaTeX.  \n",
    "    + Titulo de primer y segundo nivel.  \n",
    "    + Incluir la imagen `extra.png`.  \n",
    "    + Incluir la tabla del punto 2.  \n",
    "    + Incluir en ambiente de ecuación la suma del segundo polinomio del punto 1, con coma decimal sin usar la coma de forma explicita.   \n",
    "    + Incluir la bibliografía usada para este notebook sin citación pero debe visualizarse.  \n",
    "    + El documento debe tener fecha automatica en formato acorde al español.  \n",
    "    \n",
    "Compile el archivo a pdf, y cree un enlace del notebook al pdf (a partir de la misma celda).  "
   ]
  },
  {
   "cell_type": "markdown",
   "metadata": {},
   "source": [
    "## Punto 5 (0,4 unidades)  \n",
    "\n",
    "Enlace toda referencia que haya utilizado. Como minimo, debe enlazar los resumenes de clase. Realice esto creando una celda inmediatamente abajo de esta.  "
   ]
  },
  {
   "cell_type": "markdown",
   "metadata": {},
   "source": [
    "## Punto 6 (0,6 unidades)  \n",
    "\n",
    "En una celda desarrolle:\n",
    "\n",
    "+ Instale el compresor zip e indique la instrucción para instalarlo (aún si ya lo tenía instalado) en una celda markdown.  \n",
    "+ Comprima todos los archivos asociados a este taller en un zip con la secuencia de nombre indicada al inicio.  \n",
    "+ Muestre solo las propiedades del archivo zip que genero sin usar el comodin para la instrucción de listar ni la secuencia de nombre (use una celda de código).  "
   ]
  }
 ],
 "metadata": {
  "kernelspec": {
   "display_name": "Python 3",
   "language": "python",
   "name": "python3"
  },
  "language_info": {
   "codemirror_mode": {
    "name": "ipython",
    "version": 3
   },
   "file_extension": ".py",
   "mimetype": "text/x-python",
   "name": "python",
   "nbconvert_exporter": "python",
   "pygments_lexer": "ipython3",
   "version": "3.5.2"
  }
 },
 "nbformat": 4,
 "nbformat_minor": 0
}
