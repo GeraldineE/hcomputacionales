{
 "cells": [
  {
   "cell_type": "markdown",
   "metadata": {},
   "source": [
    "El algebra computacional o computo simbolico permite la manipulación y representación de expresiones y objetos matematicos de forma exacta y proceder de forma programatica en soluciones analiticas de los problemas y no limitado solo a los casos numericos como sucede en el computo tradicional. Dentro de los objetos matematicos a representar y manipular incluso se definen los numeros, permitiendo trabajar sin la presencia del redondeo de punto flotante.  \n",
    "\n",
    "En este curso se explora el uso de _Sympy_, un paquete python se computo simbolico que ha tomado mucha fuerza en los últimos años y con un interesante sistema en línea que emula las caracteristicas de [Wolfram Alpha](http://www.wolframalpha.com/), denominado [Sympy Gamma](http://gamma.sympy.org/) (tambien existe [Sympy Live](http://live.sympy.org/) para probar sin instalar). Tambien se recomienda su exploración a nivel personal del paquete [Maxima](http://maxima.sourceforge.net/) (con interface gráfica recomendada de [WxMaxima](http://andrejv.github.io/wxmaxima/)).  "
   ]
  },
  {
   "cell_type": "markdown",
   "metadata": {},
   "source": [
    "# Motivación  \n",
    "\n",
    "Para entender su necesidad, se ilustran algunos ejemplos básicos como motivación, sin contar que esto extiende su potencial a la contribución en el desarrollo de procesos analiticos bastante extensos donde su desarrollo manual podría llevar facilmente a errores. Hoy, incluso, existen sistemas de computo simbolico que asisten demostraciones matematicas sin intervencion humana más que la inclusión formal del teorema.  \n",
    "\n",
    "La siguiente ejemplificación es suponiendo un sistema de calculo cuya representación solo permita manipular números a 5 cifras significativas (para hacer más notable el efecto numerico).  \n",
    "\n",
    "\\begin{equation}\n",
    "\\begin{array}{|c|c|c|}\n",
    "\\hline\n",
    "\\text{Expresión a evaluar} & \\text{Resultado Simbolico} & \\text{Resultado Numerico}\\\\\n",
    "\\hline\n",
    "\\pi & \\pi & 3.1416\\\\\n",
    "\\frac{1}{3} & \\frac{1}{3} & 0.33333\\\\\n",
    "\\frac{1}{3} + \\frac{1}{3} + \\frac{1}{3} & 1 & 0.99999\\\\\n",
    "\\sin(\\pi) & 0 & -7.3464 \\cdot 10^{-6}\\\\\n",
    "\\frac{2xa+ax^2}{a} & 2x + x^2 & \\text{No se reconoce 'a' ni 'x'.}\\\\ \n",
    "\\hline\n",
    "\\end{array}\n",
    "\\end{equation}\n",
    "\n",
    "Lo anterior muestra que sin duda, incluso a partir de operaciones simples el error numerico evita la identidad de las expresiones con sus valores exactos. Esto se debe a que los numeros en si mismos son representados de manera aproximada en una maquina, y por ende no se corresponden de manera directa a los conjuntos numericos matematicos. Como ejemplo, en la representación de maquina los numeros enteros y reales son conjuntos finitos mientras que los matematicos son conjuntos infinitos. En el caso particular de los reales, en un intervalo cerrado cualquiera en el conjunto matematico existen infinitos reales nuevamente, sin embargo en la representación de maquina el conjunto es finito.  \n",
    "\n",
    "El último ejemplo tambien ilustra que de manera numerica toda variable siempre requiere tener un valor almacenado previo, lo cual imposibilita la manipulación algebraica de variables.  "
   ]
  },
  {
   "cell_type": "markdown",
   "metadata": {},
   "source": [
    "# Representación de datos  \n",
    "\n",
    "## Números  \n",
    "\n",
    "## Variables  \n",
    "\n",
    "## Expresiones  \n",
    "\n",
    "Las expresiones matematicas son comúnmente representadas con estructuras de datos de arbolos, donde los operadores, funciones, variables y números se ubican en sus nodos, y el parentezco de los nodos es dado por la definición de los operadores y funciones. Particularmente se usan arboles binarios dado que los operadores pueden ser clasificados en binarios o unarios, siendo así innecesario tener nodos que permitan más de dos hijos.  \n",
    "\n",
    "Los elementos númericos o variables siempre serán _hojas_ del árbol (elementos terminales, o sea, nodos sin hijos). Un operador o función siempre será un nodo padre de uno o dos nodos (acorde a si es binario o unario). La forma del árbol equivalente se obtiene al usar esta información con la información de la jerarquía de operadores (los elementos de agrupación por ejemplo no se representan en el árbol sino que nos indican como se forma este en el orden adecuado), partiendo de los valores númericos y variables como nodos terminales y uniendolos entre sí con el nodo padre del operador que les corresponde por jerarquía.  \n",
    "\n",
    "\\!\\[Arboles de ejemplo]()\n",
    "\n",
    "Sin importar la representación seleccionada, siempre aparece un problema. Una misma expresión matemática así como puede ser representada de forma escrita de múltiples formas equivalentes, tambien existen múltiples árboles equivalentes para una misma expresión matemática (incluso para una misma forma escrita). Esto dificulta el proceso de determinación de la identidad entre expresiones matematicas de manera automatica (y por ende, una dificultad para las factorizaciones y otros procedimientos).  \n",
    "\n",
    "\\!\\[ejemplo de árboles equivalentes]()"
   ]
  },
  {
   "cell_type": "markdown",
   "metadata": {},
   "source": [
    "# Algoritmos básicos de algebra computacional\n",
    "\n",
    "## Aritmetica de precisión arbitraria  \n",
    "\n",
    "## Primalidad y factorización de enteros  \n",
    "\n",
    "## Algebra lineal sobre anillos polinomicos  \n",
    "\n",
    "## Computo Máximo Común Divisor y factorización de polinomios  "
   ]
  },
  {
   "cell_type": "markdown",
   "metadata": {},
   "source": [
    "# Sympy  \n",
    "\n",
    "## Instalación  \n",
    "\n",
    "Para mayor información sobre el proceso de instalación, se recomienda leer la [documentación oficial](http://docs.sympy.org/dev/install.html).  \n",
    "\n",
    "Usando `pip`:\n",
    "\n",
    "    pip install sympy\n",
    "    \n",
    "Usando `conda` (si instalo miniconda, ya que anaconda lo tiene incluido):\n",
    "\n",
    "    conda install sympy\n",
    "    \n",
    "## Uso  "
   ]
  },
  {
   "cell_type": "code",
   "execution_count": 53,
   "metadata": {
    "collapsed": false
   },
   "outputs": [],
   "source": [
    "from __future__ import division\n",
    "from sympy import *\n",
    "x, y, z, t = symbols('x y z t')\n",
    "k, m, n = symbols('k m n', integer=True)\n",
    "f, g, h = symbols('f g h', cls=Function)\n",
    "init_printing(use_latex=True)"
   ]
  },
  {
   "cell_type": "code",
   "execution_count": 54,
   "metadata": {
    "collapsed": false
   },
   "outputs": [
    {
     "data": {
      "image/png": "[encoded data removed]",
      "text/latex": [
       "$$\\frac{22}{3}$$"
      ],
      "text/plain": [
       "22/3"
      ]
     },
     "execution_count": 54,
     "metadata": {},
     "output_type": "execute_result"
    }
   ],
   "source": [
    "Rational(242, 33)"
   ]
  },
  {
   "cell_type": "code",
   "execution_count": 34,
   "metadata": {
    "collapsed": false
   },
   "outputs": [
    {
     "data": {
      "text/latex": [
       "$$7.33333333333333$$"
      ],
      "text/plain": [
       "7.33333333333333"
      ]
     },
     "execution_count": 34,
     "metadata": {},
     "output_type": "execute_result"
    }
   ],
   "source": [
    "Rational(242, 33).evalf()"
   ]
  },
  {
   "cell_type": "code",
   "execution_count": 35,
   "metadata": {
    "collapsed": false
   },
   "outputs": [
    {
     "data": {
      "text/latex": [
       "$$3$$"
      ],
      "text/plain": [
       "3"
      ]
     },
     "execution_count": 35,
     "metadata": {},
     "output_type": "execute_result"
    }
   ],
   "source": [
    "sqrt(9)"
   ]
  },
  {
   "cell_type": "code",
   "execution_count": 36,
   "metadata": {
    "collapsed": false
   },
   "outputs": [
    {
     "data": {
      "text/latex": [
       "$$2 \\sqrt{2}$$"
      ],
      "text/plain": [
       "2⋅√2"
      ]
     },
     "execution_count": 36,
     "metadata": {},
     "output_type": "execute_result"
    }
   ],
   "source": [
    "sqrt(8)"
   ]
  },
  {
   "cell_type": "code",
   "execution_count": 28,
   "metadata": {
    "collapsed": false
   },
   "outputs": [
    {
     "data": {
      "text/latex": [
       "$$\\frac{1}{x - 2}$$"
      ],
      "text/plain": [
       "  1  \n",
       "─────\n",
       "x - 2"
      ]
     },
     "execution_count": 28,
     "metadata": {},
     "output_type": "execute_result"
    }
   ],
   "source": [
    "(x+ 2) / ((x-2)*(x+2))"
   ]
  },
  {
   "cell_type": "code",
   "execution_count": 37,
   "metadata": {
    "collapsed": false
   },
   "outputs": [
    {
     "data": {
      "text/latex": [
       "$$\\frac{1}{x - 2}$$"
      ],
      "text/plain": [
       "  1  \n",
       "─────\n",
       "x - 2"
      ]
     },
     "execution_count": 37,
     "metadata": {},
     "output_type": "execute_result"
    }
   ],
   "source": [
    "(x+k)/((x+k)*(x-2))"
   ]
  },
  {
   "cell_type": "code",
   "execution_count": 42,
   "metadata": {
    "collapsed": false
   },
   "outputs": [
    {
     "data": {
      "text/latex": [
       "$$x \\left(x + 2 y - 1\\right)$$"
      ],
      "text/plain": [
       "x⋅(x + 2⋅y - 1)"
      ]
     },
     "execution_count": 42,
     "metadata": {},
     "output_type": "execute_result"
    }
   ],
   "source": [
    "expr = x + 2*y - 1\n",
    "xexpr = x*expr\n",
    "xexpr"
   ]
  },
  {
   "cell_type": "code",
   "execution_count": 45,
   "metadata": {
    "collapsed": false
   },
   "outputs": [
    {
     "data": {
      "text/latex": [
       "$$x^{2} + 2 x y - x$$"
      ],
      "text/plain": [
       " 2            \n",
       "x  + 2⋅x⋅y - x"
      ]
     },
     "execution_count": 45,
     "metadata": {},
     "output_type": "execute_result"
    }
   ],
   "source": [
    "xexpexpr=expand(xexpr)\n",
    "xexpexpr"
   ]
  },
  {
   "cell_type": "code",
   "execution_count": 46,
   "metadata": {
    "collapsed": false
   },
   "outputs": [
    {
     "data": {
      "text/latex": [
       "$$x \\left(x + 2 y - 1\\right)$$"
      ],
      "text/plain": [
       "x⋅(x + 2⋅y - 1)"
      ]
     },
     "execution_count": 46,
     "metadata": {},
     "output_type": "execute_result"
    }
   ],
   "source": [
    "factor(xexpexpr)"
   ]
  },
  {
   "cell_type": "code",
   "execution_count": 56,
   "metadata": {
    "collapsed": false
   },
   "outputs": [
    {
     "data": {
      "image/png": "[encoded data removed]",
      "text/latex": [
       "$$e^{x} \\sin{\\left (x \\right )} + e^{x} \\cos{\\left (x \\right )}$$"
      ],
      "text/plain": [
       " x           x       \n",
       "ℯ ⋅sin(x) + ℯ ⋅cos(x)"
      ]
     },
     "execution_count": 56,
     "metadata": {},
     "output_type": "execute_result"
    }
   ],
   "source": [
    "dse = diff(sin(x)*exp(x), x)\n",
    "dse"
   ]
  },
  {
   "cell_type": "code",
   "execution_count": 49,
   "metadata": {
    "collapsed": false
   },
   "outputs": [
    {
     "data": {
      "text/latex": [
       "$$f{\\left (x \\right )} \\frac{d}{d x} g{\\left (x \\right )} + g{\\left (x \\right )} \\frac{d}{d x} f{\\left (x \\right )}$$"
      ],
      "text/plain": [
       "     d               d       \n",
       "f(x)⋅──(g(x)) + g(x)⋅──(f(x))\n",
       "     dx              dx      "
      ]
     },
     "execution_count": 49,
     "metadata": {},
     "output_type": "execute_result"
    }
   ],
   "source": [
    "dfg = diff(f(x)*g(x), x)\n",
    "dfg"
   ]
  },
  {
   "cell_type": "code",
   "execution_count": 57,
   "metadata": {
    "collapsed": false
   },
   "outputs": [
    {
     "data": {
      "image/png": "[encoded data removed]",
      "text/latex": [
       "$$e^{x} \\sin{\\left (x \\right )}$$"
      ],
      "text/plain": [
       " x       \n",
       "ℯ ⋅sin(x)"
      ]
     },
     "execution_count": 57,
     "metadata": {},
     "output_type": "execute_result"
    }
   ],
   "source": [
    "integrate(dse)"
   ]
  },
  {
   "cell_type": "code",
   "execution_count": 59,
   "metadata": {
    "collapsed": false
   },
   "outputs": [
    {
     "data": {
      "image/png": "[encoded data removed]",
      "text/latex": [
       "$$e \\sin{\\left (1 \\right )}$$"
      ],
      "text/plain": [
       "ℯ⋅sin(1)"
      ]
     },
     "execution_count": 59,
     "metadata": {},
     "output_type": "execute_result"
    }
   ],
   "source": [
    "integrate(dse, (x, -oo, 1))"
   ]
  },
  {
   "cell_type": "code",
   "execution_count": 60,
   "metadata": {
    "collapsed": false
   },
   "outputs": [
    {
     "data": {
      "image/png": "[encoded data removed]",
      "text/latex": [
       "$$1$$"
      ],
      "text/plain": [
       "1"
      ]
     },
     "execution_count": 60,
     "metadata": {},
     "output_type": "execute_result"
    }
   ],
   "source": [
    "limit(sin(x)/x, x, 0)"
   ]
  },
  {
   "cell_type": "code",
   "execution_count": 61,
   "metadata": {
    "collapsed": false
   },
   "outputs": [
    {
     "data": {
      "image/png": "[encoded data removed]",
      "text/latex": [
       "$$\\left [ - \\sqrt{2}, \\quad \\sqrt{2}\\right ]$$"
      ],
      "text/plain": [
       "[-√2, √2]"
      ]
     },
     "execution_count": 61,
     "metadata": {},
     "output_type": "execute_result"
    }
   ],
   "source": [
    "solve(x**2 - 2, x)"
   ]
  },
  {
   "cell_type": "code",
   "execution_count": 62,
   "metadata": {
    "collapsed": false
   },
   "outputs": [
    {
     "data": {
      "image/png": "[encoded data removed]",
      "text/latex": [
       "$$\\left [ - \\sqrt{2} \\sqrt{\\frac{1}{k}}, \\quad \\sqrt{2} \\sqrt{\\frac{1}{k}}\\right ]$$"
      ],
      "text/plain": [
       "⎡        ___         ___⎤\n",
       "⎢       ╱ 1         ╱ 1 ⎥\n",
       "⎢-√2⋅  ╱  ─ , √2⋅  ╱  ─ ⎥\n",
       "⎣    ╲╱   k      ╲╱   k ⎦"
      ]
     },
     "execution_count": 62,
     "metadata": {},
     "output_type": "execute_result"
    }
   ],
   "source": [
    "solve(k*x**2 - 2, x)"
   ]
  },
  {
   "cell_type": "code",
   "execution_count": 63,
   "metadata": {
    "collapsed": false
   },
   "outputs": [
    {
     "data": {
      "image/png": "[encoded data removed]",
      "text/latex": [
       "$$y{\\left (t \\right )} = C_{2} e^{- t} + \\left(C_{1} + \\frac{t}{2}\\right) e^{t}$$"
      ],
      "text/plain": [
       "           -t   ⎛     t⎞  t\n",
       "y(t) = C₂⋅ℯ   + ⎜C₁ + ─⎟⋅ℯ \n",
       "                ⎝     2⎠   "
      ]
     },
     "execution_count": 63,
     "metadata": {},
     "output_type": "execute_result"
    }
   ],
   "source": [
    "dsolve(Eq(y(t).diff(t, t) - y(t), exp(t)), y(t))"
   ]
  },
  {
   "cell_type": "code",
   "execution_count": 64,
   "metadata": {
    "collapsed": false
   },
   "outputs": [
    {
     "data": {
      "image/png": "[encoded data removed]",
      "text/latex": [
       "$$\\left \\{ \\frac{3}{2} + \\frac{\\sqrt{17}}{2} : 1, \\quad - \\frac{\\sqrt{17}}{2} + \\frac{3}{2} : 1\\right \\}$$"
      ],
      "text/plain": [
       "⎧3   √17       √17   3   ⎫\n",
       "⎨─ + ───: 1, - ─── + ─: 1⎬\n",
       "⎩2    2         2    2   ⎭"
      ]
     },
     "execution_count": 64,
     "metadata": {},
     "output_type": "execute_result"
    }
   ],
   "source": [
    "Matrix([[1, 2], [2, 2]]).eigenvals()"
   ]
  },
  {
   "cell_type": "code",
   "execution_count": 73,
   "metadata": {
    "collapsed": false
   },
   "outputs": [
    {
     "data": {
      "text/plain": [
       "'\\\\int_{0}^{\\\\pi} \\\\cos^{2}{\\\\left (x \\\\right )}\\\\, dx'"
      ]
     },
     "execution_count": 73,
     "metadata": {},
     "output_type": "execute_result"
    }
   ],
   "source": [
    "la = latex(Integral(cos(x)**2, (x, 0, pi)))\n",
    "la"
   ]
  },
  {
   "cell_type": "code",
   "execution_count": 74,
   "metadata": {
    "collapsed": false
   },
   "outputs": [
    {
     "data": {
      "text/latex": [
       "$\\int_{0}^{\\pi} \\cos^{2}{\\left (x \\right )}\\, dx$"
      ],
      "text/plain": [
       "<IPython.core.display.Latex object>"
      ]
     },
     "execution_count": 74,
     "metadata": {},
     "output_type": "execute_result"
    }
   ],
   "source": [
    "from IPython.display import Latex\n",
    "Latex('$'+la+'$')"
   ]
  },
  {
   "cell_type": "markdown",
   "metadata": {},
   "source": [
    "# Referencias  \n",
    "\n",
    "1. [Symbolic Computation](https://en.wikipedia.org/wiki/Symbolic_computation). Wikipedia. Consultado el 25 de agosto.  \n",
    "1. [The History of the Calculus and the Development of Computer Algebra Systems](http://www.math.wpi.edu/IQP/BVCalcHist/calctoc.html). Dan Ginsburg, Brian Groose, Josh Taylor y Prof. Bogdan Vernescu. Consultado el 25 de agosto. Capitulo 5.  \n",
    "1. [COMPUTER ALGEBRA AND ITS APPLICATIONS](http://www.umiacs.umd.edu/~helalfy/pub/mscthesis01.pdf). Hazem Mohamed El-Alfy (Tesis de Maestría). 1997.  \n",
    "1. [COMPUTER ALGEBRA, Algorithms, Systems and Applications](http://www-troja.fjfi.cvut.cz/~liska/ca/all.html). Richard Liska, Ladislav Drska, Jiri Limpouch, Milan Sinor, Michael Wester, Franz Winkler. 2 de junio de 1997.  \n",
    "1. [SymPy: Symbolic computing in Python](https://peerj.com/preprints/2083/). PeerJ, 22 de junio de 2016.  \n",
    "1. [Maxima Documentation](http://maxima.sourceforge.net/documentation.html).  \n",
    "1. [Arbitrary-precision arithmetic](https://en.wikipedia.org/wiki/Arbitrary-precision_arithmetic). Wikipedia, consultado el 27 de agosto de 2016.  \n",
    "1. [Computer-assisted proof](https://en.wikipedia.org/wiki/Computer-assisted_proof). Wikipedia, consultado el 29 de agosto de 2016.  \n",
    "1. [Sympy's Documentation](http://docs.sympy.org/dev/index.html). Sympy, consultado el 29 de agosto de 2016.  "
   ]
  }
 ],
 "metadata": {
  "celltoolbar": "Raw Cell Format",
  "kernelspec": {
   "display_name": "Python 3",
   "language": "python",
   "name": "python3"
  },
  "language_info": {
   "codemirror_mode": {
    "name": "ipython",
    "version": 3
   },
   "file_extension": ".py",
   "mimetype": "text/x-python",
   "name": "python",
   "nbconvert_exporter": "python",
   "pygments_lexer": "ipython3",
   "version": "3.5.2"
  }
 },
 "nbformat": 4,
 "nbformat_minor": 1
}
