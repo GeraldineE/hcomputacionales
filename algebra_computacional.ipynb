{
 "cells": [
  {
   "cell_type": "markdown",
   "metadata": {},
   "source": [
    "El algebra computacional o computo simbolico permite la manipulación y representación de expresiones y objetos matematicos de forma exacta y proceder de forma programatica en soluciones analiticas de los problemas y no limitado solo a los casos numericos como sucede en el computo tradicional. Dentro de los objetos matematicos a representar y manipular incluso se definen los numeros, permitiendo trabajar sin la presencia del redondeo de punto flotante.  \n",
    "\n",
    "En este curso se explora el uso de _Sympy_, un paquete python se computo simbolico que ha tomado mucha fuerza en los últimos años y con un interesante sistema en línea que emula las caracteristicas de [Wolfram Alpha](http://www.wolframalpha.com/), denominado [Sympy Gamma](http://gamma.sympy.org/) (tambien existe [Sympy Live](http://live.sympy.org/) para probar sin instalar). Tambien se recomienda su exploración a nivel personal del paquete [Maxima](http://maxima.sourceforge.net/) (con interface gráfica recomendada de [WxMaxima](http://andrejv.github.io/wxmaxima/)).  "
   ]
  },
  {
   "cell_type": "markdown",
   "metadata": {},
   "source": [
    "# Motivación  \n",
    "\n",
    "Para entender su necesidad, se ilustran algunos ejemplos básicos como motivación, sin contar que esto extiende su potencial a la contribución en el desarrollo de procesos analiticos bastante extensos donde su desarrollo manual podría llevar facilmente a errores. Hoy, incluso, existen sistemas de computo simbolico que asisten demostraciones matematicas sin intervencion humana más que la inclusión formal del teorema.  \n",
    "\n",
    "La siguiente ejemplificación es suponiendo un sistema de calculo cuya representación solo permita manipular números a 5 cifras significativas (para hacer más notable el efecto numerico).  \n",
    "\n",
    "\\begin{equation}\n",
    "\\begin{array}{|c|c|c|}\n",
    "\\hline\n",
    "\\text{Expresión a evaluar} & \\text{Resultado Simbolico} & \\text{Resultado Numerico}\\\\\n",
    "\\hline\n",
    "\\pi & \\pi & 3.1416\\\\\n",
    "\\frac{1}{3} & \\frac{1}{3} & 0.33333\\\\\n",
    "\\frac{1}{3} + \\frac{1}{3} + \\frac{1}{3} & 1 & 0.99999\\\\\n",
    "\\sin(\\pi) & 0 & -7.3464 \\cdot 10^{-6}\\\\\n",
    "\\frac{2xa+ax^2}{a} & 2x + x^2 & \\text{No se reconoce 'a' ni 'x'.}\\\\ \n",
    "\\hline\n",
    "\\end{array}\n",
    "\\end{equation}\n",
    "\n",
    "Lo anterior muestra que sin duda, incluso a partir de operaciones simples el error numerico evita la identidad de las expresiones con sus valores exactos. Esto se debe a que los numeros en si mismos son representados de manera aproximada en una maquina, y por ende no se corresponden de manera directa a los conjuntos numericos matematicos. Como ejemplo, en la representación de maquina los numeros enteros y reales son conjuntos finitos mientras que los matematicos son conjuntos infinitos. En el caso particular de los reales, en un intervalo cerrado cualquiera en el conjunto matematico existen infinitos reales nuevamente, sin embargo en la representación de maquina el conjunto es finito.  \n",
    "\n",
    "El último ejemplo tambien ilustra que de manera numerica toda variable siempre requiere tener un valor almacenado previo, lo cual imposibilita la manipulación algebraica de variables.  "
   ]
  },
  {
   "cell_type": "markdown",
   "metadata": {},
   "source": [
    "# Representación de datos  \n",
    "\n",
    "## Números  \n",
    "\n",
    "## Variables  \n",
    "\n",
    "## Expresiones  "
   ]
  },
  {
   "cell_type": "markdown",
   "metadata": {},
   "source": [
    "# Algoritmos básicos de algebra computacional\n",
    "\n",
    "## Aritmetica de precisión arbitraria  \n",
    "\n",
    "## Primalidad y factorización de enteros  \n",
    "\n",
    "## Algebra lineal sobre anillos polinomicos  \n",
    "\n",
    "## Computo Máximo Común Divisor y factorización de polinomios  "
   ]
  },
  {
   "cell_type": "markdown",
   "metadata": {},
   "source": [
    "# Sympy  \n",
    "\n",
    "## Instalación  \n",
    "\n",
    "Para mayor información sobre el proceso de instalación, se recomienda leer la [documentación oficial](http://docs.sympy.org/dev/install.html).  \n",
    "\n",
    "Usando `pip`:\n",
    "\n",
    "    pip install sympy\n",
    "    \n",
    "Usando `conda` (si instalo miniconda, ya que anaconda lo tiene incluido):\n",
    "\n",
    "    conda install sympy\n",
    "    \n",
    "## Uso  "
   ]
  },
  {
   "cell_type": "code",
   "execution_count": null,
   "metadata": {
    "collapsed": true
   },
   "outputs": [],
   "source": [
    "from __future__ import division\n",
    "from sympy import *\n",
    "x, y, z, t = symbols('x y z t')\n",
    "k, m, n = symbols('k m n', integer=True)\n",
    "f, g, h = symbols('f g h', cls=Function)"
   ]
  },
  {
   "cell_type": "markdown",
   "metadata": {},
   "source": [
    "# Referencias  \n",
    "\n",
    "1. [Symbolic Computation](https://en.wikipedia.org/wiki/Symbolic_computation). Wikipedia. Consultado el 25 de agosto.  \n",
    "1. [The History of the Calculus and the Development of Computer Algebra Systems](http://www.math.wpi.edu/IQP/BVCalcHist/calctoc.html). Dan Ginsburg, Brian Groose, Josh Taylor y Prof. Bogdan Vernescu. Consultado el 25 de agosto. Capitulo 5.  \n",
    "1. [COMPUTER ALGEBRA AND ITS APPLICATIONS](http://www.umiacs.umd.edu/~helalfy/pub/mscthesis01.pdf). Hazem Mohamed El-Alfy (Tesis de Maestría). 1997.  \n",
    "1. [COMPUTER ALGEBRA, Algorithms, Systems and Applications](http://www-troja.fjfi.cvut.cz/~liska/ca/all.html). Richard Liska, Ladislav Drska, Jiri Limpouch, Milan Sinor, Michael Wester, Franz Winkler. 2 de junio de 1997.  \n",
    "1. [SymPy: Symbolic computing in Python](https://peerj.com/preprints/2083/). PeerJ, 22 de junio de 2016.  \n",
    "1. [Maxima Documentation](http://maxima.sourceforge.net/documentation.html).  \n",
    "1. [Arbitrary-precision arithmetic](https://en.wikipedia.org/wiki/Arbitrary-precision_arithmetic). Wikipedia, consultado el 27 de agosto de 2016.  \n",
    "1. [Computer-assisted proof](https://en.wikipedia.org/wiki/Computer-assisted_proof). Wikipedia, consultado el 29 de agosto de 2016.  \n",
    "1. [Sympy's Documentation](http://docs.sympy.org/dev/index.html). Sympy, consultado el 29 de agosto de 2016.  "
   ]
  }
 ],
 "metadata": {
  "celltoolbar": "Raw Cell Format",
  "kernelspec": {
   "display_name": "Python 3",
   "language": "python",
   "name": "python3"
  },
  "language_info": {
   "codemirror_mode": {
    "name": "ipython",
    "version": 3
   },
   "file_extension": ".py",
   "mimetype": "text/x-python",
   "name": "python",
   "nbconvert_exporter": "python",
   "pygments_lexer": "ipython3",
   "version": "3.5.2"
  }
 },
 "nbformat": 4,
 "nbformat_minor": 1
}
