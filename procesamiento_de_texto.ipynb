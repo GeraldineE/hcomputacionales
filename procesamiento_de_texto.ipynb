{
 "cells": [
  {
   "cell_type": "markdown",
   "metadata": {},
   "source": [
    "El procesamiento de texto refiere a la creación y manipulación de texto en formato electronico de manera automatizada, entendiendo el texto no solo como el conjunto de caracteres alfanuméricos sino como el conjunto de cualquier caracter codificado.  \n",
    "\n",
    "Linux viene acompañado por defecto con un extenso grupo de [utilidades](http://tldp.org/LDP/abs/html/textproc.html) para el procesamiento de texto (debido a la fuerte dependencia de archivos de texto para su configuración). Lenguajes como python vienen con [modulos de procesamiento de texto básicos](https://docs.python.org/3/library/text.html) incluidos en su núcleo.  \n",
    "\n",
    "Acciones comprendidas como procesamiento de texto son:  \n",
    "\n",
    "+ Búsqueda de texto.  \n",
    "+ Reemplazo de texto.  \n",
    "+ Filtrado de texto.  \n",
    "+ Generación de texto.  \n",
    "+ Formateo de texto.  \n",
    "\n",
    "Nos enfocaremos en lo básico de las utilidades de linux, y se invita al estudiante a realizar la exploración del modulo de python.  "
   ]
  },
  {
   "cell_type": "markdown",
   "metadata": {},
   "source": [
    "# Codificación de caracteres\n",
    "\n",
    "## ASCII\n",
    "\n",
    "Corresponde a la codificación estandar definida para la representación de caracteres, basada en el uso de 7 bits inicialmente y luego presentada en versión extendida a 8 bits (ISO 8859, ampliamente extendido el 8859-1) para la inclusión de caracteres adicionales de lenguas diferentes al inglés.  \n",
    "\n",
    "A continuación se presenta una imagen con la codificación asociada al ISO 8859-1.  \n",
    "\n",
    "![Código ASCII Extendido](http://www.haghish.com/statistics/stata-blog/stata-programming/images/ascii.png \"Código ASCII Extendido\")\n",
    "\n",
    "## UTF8\n",
    "\n",
    "Posee compatibilidad con el código ASCII y usa representación de hasta cuatro códigos de 8 bits (ASCII extendido es un código de 8 bits). Esta ampliación permite el soporte de una gran diversidad de caracteres sin la necesidad de una indicación particular para su soporta, sin embargo esto requiere un mayor consumo de memoria en algunos lenguajes o presentar problemas de compatibilidad con codificaciones especificas anteriores. Actualmente su uso se ha generalizado superando por mucho a la codificación ASCII.  "
   ]
  },
  {
   "cell_type": "markdown",
   "metadata": {},
   "source": [
    "# Expresiones regulares\n",
    "\n",
    "El primer acercamiento necesario para el procesamiento de texto se relaciona con las expresiones regulares, que corresponden a secuencias de caracteres que definen un patrón de búsqueda.  "
   ]
  },
  {
   "cell_type": "markdown",
   "metadata": {},
   "source": [
    "# Adicional\n",
    "\n",
    "Se recomienda la exploración por parte del estudiante de las herramientas de [Pandoc](http://pandoc.org/) y [NLTK](http://www.nltk.org/), como dos ejemplos de bastante interes en el procesamiento de texto y que pueden ser de gran utilidad en su proceso.  "
   ]
  },
  {
   "cell_type": "markdown",
   "metadata": {},
   "source": [
    "# Bibliografía  \n",
    "\n",
    "1. [Text processing](https://en.wikipedia.org/wiki/Text_processing). Wikipedia. Consultado el 18 de septiembre de 2016.  \n",
    "1. [Advanced Bash-Scripting Guide: External Filters, Programs and Commands](http://tldp.org/LDP/abs/html/textproc.html). Consultado el 18 de septiembre de 2016.  \n",
    "1. [The Python Standard Library: Text Processing Services](https://docs.python.org/3/library/text.html). Consultado el 18 de septiembre de 2016.  \n",
    "1. The Linux Command Line (Capitulos 19 a 22). William Shotts. 2012.  "
   ]
  }
 ],
 "metadata": {
  "kernelspec": {
   "display_name": "Python 3",
   "language": "python",
   "name": "python3"
  },
  "language_info": {
   "codemirror_mode": {
    "name": "ipython",
    "version": 3
   },
   "file_extension": ".py",
   "mimetype": "text/x-python",
   "name": "python",
   "nbconvert_exporter": "python",
   "pygments_lexer": "ipython3",
   "version": "3.5.2"
  }
 },
 "nbformat": 4,
 "nbformat_minor": 1
}
