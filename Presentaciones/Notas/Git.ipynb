{
 "cells": [
  {
   "cell_type": "markdown",
   "metadata": {},
   "source": [
    "Git es un sistema de manejo de versiones distribuido creado por Linus Torvalds.  \n",
    "\n",
    "Los sistemas de manejo de versiones permiten tener un control detallado sobre el historial de cambios de un archivo o conjunto de archivos creando instantaneas de estos conjuntos cada que se presenta un cambio. Estos sistemas de control de versiones pueden ser centralizados (ejemplo subversion) o distribuidos (ejemplo git), acorde a si existe un repositorio principal donde se maneja el historial y desde el cual todos los demas repositorios extraen las versiones requeridas, o si todo el historial se distribuye en cada repositorio.  \n",
    "\n",
    "Para el desarrollo de esta sesión se requiere la creación de cuenta en [github](https://github.com/) o [bitbucket](https://bitbucket.org/).  "
   ]
  },
  {
   "cell_type": "markdown",
   "metadata": {},
   "source": [
    "# Instalación  \n",
    "\n",
    "Para la [instalación de git](https://git-scm.com/downloads) use el siguiente procedimiento.\n",
    "\n",
    "## Windows  \n",
    "\n",
    "Si usa sistema operativo windows puede descargar los binarios del cliente de [_git for windows_](https://git-scm.com/download/win) y durante la instalación usar la configuración recomendada.  \n",
    "\n",
    "## Ubuntu Linux  \n",
    "\n",
    "En su sistema linux, muy probablemente encontrará el cliente de comandos para instalar desde el repositorio de su distribución.  \n",
    "\n",
    "    sudo apt install git\n",
    "    \n",
    "Si desea realizar la autenticación por medio de SSH requiere instalar los paquetes adicionales a SSH, sin embargo se recomienda la autenticación por medio de HTTP para reducir el número de pasos requeridos, y cuando se desea trabajar en equipos de uso no habitual o que siendo de uso frecuente podría ser usado por un tercero. Igualmente, al usar autenticación por HTTP es posible conectarse a pesar de los bloqueos que por seguridad establecen las politicas de muchas entidades.  \n",
    "\n",
    "## Mac  \n",
    "\n",
    "En mac, puede usar igualmente a linux la instalación por binarios disponibles en la página oficial, [_git_](https://git-scm.com/download/mac).  \n",
    "\n",
    "## Alternativas\n",
    "\n",
    "Puede usar un cliente multiplataforma y gráfico de fácil instalación como [gitkraken](https://www.gitkraken.com/features) o [github desktop](https://desktop.github.com/) (este último solo para windows o mac), sin embargo para fines de este curso se exigirá el manejo directo del cliente de comandos de git.  "
   ]
  },
  {
   "cell_type": "markdown",
   "metadata": {},
   "source": [
    "## Uso  \n",
    "\n",
    "Una vez instalado nuestro cliente `git` podemos consultar sus opciones y argumentos.  "
   ]
  },
  {
   "cell_type": "code",
   "execution_count": 1,
   "metadata": {
    "collapsed": false
   },
   "outputs": [
    {
     "name": "stdout",
     "output_type": "stream",
     "text": [
      "usage: git [--version] [--help] [-C <path>] [-c name=value]\n",
      "           [--exec-path[=<path>]] [--html-path] [--man-path] [--info-path]\n",
      "           [-p | --paginate | --no-pager] [--no-replace-objects] [--bare]\n",
      "           [--git-dir=<path>] [--work-tree=<path>] [--namespace=<name>]\n",
      "           <command> [<args>]\n",
      "\n",
      "These are common Git commands used in various situations:\n",
      "\n",
      "start a working area (see also: git help tutorial)\n",
      "   clone      Clone a repository into a new directory\n",
      "   init       Create an empty Git repository or reinitialize an existing one\n",
      "\n",
      "work on the current change (see also: git help everyday)\n",
      "   add        Add file contents to the index\n",
      "   mv         Move or rename a file, a directory, or a symlink\n",
      "   reset      Reset current HEAD to the specified state\n",
      "   rm         Remove files from the working tree and from the index\n",
      "\n",
      "examine the history and state (see also: git help revisions)\n",
      "   bisect     Use binary search to find the commit that introduced a bug\n",
      "   grep       Print lines matching a pattern\n",
      "   log        Show commit logs\n",
      "   show       Show various types of objects\n",
      "   status     Show the working tree status\n",
      "\n",
      "grow, mark and tweak your common history\n",
      "   branch     List, create, or delete branches\n",
      "   checkout   Switch branches or restore working tree files\n",
      "   commit     Record changes to the repository\n",
      "   diff       Show changes between commits, commit and working tree, etc\n",
      "   merge      Join two or more development histories together\n",
      "   rebase     Forward-port local commits to the updated upstream head\n",
      "   tag        Create, list, delete or verify a tag object signed with GPG\n",
      "\n",
      "collaborate (see also: git help workflows)\n",
      "   fetch      Download objects and refs from another repository\n",
      "   pull       Fetch from and integrate with another repository or a local branch\n",
      "   push       Update remote refs along with associated objects\n",
      "\n",
      "'git help -a' and 'git help -g' list available subcommands and some\n",
      "concept guides. See 'git help <command>' or 'git help <concept>'\n",
      "to read about a specific subcommand or concept.\n"
     ]
    }
   ],
   "source": [
    "%%bash\n",
    "git --help"
   ]
  },
  {
   "cell_type": "markdown",
   "metadata": {},
   "source": [
    "## Configuración  \n",
    "\n",
    "Para una adecuada identificación de nuestros aportes en los repositorios, es necesario configurar nuestro nombre y correo en git.  \n",
    "\n",
    "    git config --global user.name \"YOUR NAME\"\n",
    "    git config --global user.email \"YOUR EMAIL ADDRESS\""
   ]
  },
  {
   "cell_type": "markdown",
   "metadata": {},
   "source": [
    "## Creación de repositorios\n",
    "\n",
    "Una vez creada la cuenta github, debe crear un repositorio git en ella y copiar la dirección de clonado, la cual se usa con el fin de obtener una copia del repositorio localmente.  "
   ]
  },
  {
   "cell_type": "code",
   "execution_count": 2,
   "metadata": {
    "collapsed": false
   },
   "outputs": [
    {
     "name": "stderr",
     "output_type": "stream",
     "text": [
      "Cloning into 'herramientas'...\n"
     ]
    }
   ],
   "source": [
    "%%bash\n",
    "git clone https://github.com/cosmoscalibur/herramientas_computacionales.git herramientas"
   ]
  },
  {
   "cell_type": "markdown",
   "metadata": {},
   "source": [
    "De esta forma crearemos una copia del repositorio git `herramientas_computacionales` en el directorio `./herramientas`. Si no se indica el directorio, se crea un directorio nuevo en la posición actual.  \n",
    "\n",
    "Tras el clonado, tenemos a disposición todo el directorio del repositorio, incluido el directorio `.git` que almacena la información del historial y repositorios (para este momento, heredada del repositorio clonado).  "
   ]
  },
  {
   "cell_type": "code",
   "execution_count": 3,
   "metadata": {
    "collapsed": false
   },
   "outputs": [
    {
     "name": "stdout",
     "output_type": "stream",
     "text": [
      "total 1,2M\n",
      "drwxrwxr-x 3 cosmoscalibur 4,0K ago 21 19:49 .\n",
      "drwxrwxr-x 5 cosmoscalibur 4,0K ago 21 19:49 ..\n",
      "drwxrwxr-x 8 cosmoscalibur 4,0K ago 21 19:49 .git\n",
      "-rw-rw-r-- 1 cosmoscalibur   56 ago 21 19:49 .gitignore\n",
      "-rw-rw-r-- 1 cosmoscalibur  20K ago 21 19:49 Git.ipynb\n",
      "-rw-rw-r-- 1 cosmoscalibur  23K ago 21 19:49 Jupyter Notebook Basico.ipynb\n",
      "-rw-rw-r-- 1 cosmoscalibur 139K ago 21 19:49 Jupyter+Notebook+Basico.pdf\n",
      "-rw-rw-r-- 1 cosmoscalibur 5,6K ago 21 19:49 Jupyter Notebook Intermedio.ipynb\n",
      "-rw-rw-r-- 1 cosmoscalibur  92K ago 21 19:49 Jupyter+Notebook+Intermedio.pdf\n",
      "-rw-rw-r-- 1 cosmoscalibur  13K ago 21 19:49 jupyter.png\n",
      "-rw-rw-r-- 1 cosmoscalibur 182K ago 21 19:49 LaTeX_basico.pdf\n",
      "-rw-rw-r-- 1 cosmoscalibur  18K ago 21 19:49 LaTeX_basico.tex\n",
      "-rw-rw-r-- 1 cosmoscalibur 1,1K ago 21 19:49 LICENSE\n",
      "-rw-rw-r-- 1 cosmoscalibur  17K ago 21 19:49 Linux Bash.ipynb\n",
      "-rw-rw-r-- 1 cosmoscalibur  83K ago 21 19:49 Linux+Bash.pdf\n",
      "-rw-rw-r-- 1 cosmoscalibur  36K ago 21 19:49 Linux Basico.ipynb\n",
      "-rw-rw-r-- 1 cosmoscalibur  93K ago 21 19:49 Linux+Basico.pdf\n",
      "-rw-rw-r-- 1 cosmoscalibur 119K ago 21 19:49 minimo_taller1.pdf\n",
      "-rw-rw-r-- 1 cosmoscalibur  12K ago 21 19:49 presentacion_herramientas.md\n",
      "-rw-rw-r-- 1 cosmoscalibur 137K ago 21 19:49 presentacion_herramientas.pdf\n",
      "-rw-rw-r-- 1 cosmoscalibur 1005 ago 21 19:49 README.md\n",
      "-rw-rw-r-- 1 cosmoscalibur 7,1K ago 21 19:49 Taller_1.ipynb\n",
      "-rw-rw-r-- 1 cosmoscalibur 112K ago 21 19:49 Taller_1.pdf\n"
     ]
    }
   ],
   "source": [
    "%%bash\n",
    "cd herramientas\n",
    "ls -oha"
   ]
  },
  {
   "cell_type": "markdown",
   "metadata": {},
   "source": [
    "Se evidencia que tras el clonado, tenemos configurados los repositorios remotos por defecto.  "
   ]
  },
  {
   "cell_type": "code",
   "execution_count": 4,
   "metadata": {
    "collapsed": false
   },
   "outputs": [
    {
     "name": "stdout",
     "output_type": "stream",
     "text": [
      "origin\thttps://github.com/cosmoscalibur/herramientas_computacionales.git (fetch)\n",
      "origin\thttps://github.com/cosmoscalibur/herramientas_computacionales.git (push)\n"
     ]
    }
   ],
   "source": [
    "%%bash\n",
    "cd herramientas\n",
    "git remote -v"
   ]
  },
  {
   "cell_type": "markdown",
   "metadata": {},
   "source": [
    "En caso de ser un repositorio nuevo o desear reinicializar (aceptar nuevas plantillas o mover el directorio), debemos crear el directorio `.git` y agregar los elementos que teniamos en nuestro directorio. Siempre que se agreguen (o se realiza cualquier actualización de los archivos y directorios, se sugiere realizar un `commit` para la indicación de la acción en nuestro historial).  "
   ]
  },
  {
   "cell_type": "code",
   "execution_count": 5,
   "metadata": {
    "collapsed": false
   },
   "outputs": [
    {
     "name": "stdout",
     "output_type": "stream",
     "text": [
      "Reinitialized existing Git repository in /home/cosmoscalibur/Dropbox/UdeM/Herramientas Computacionales/Clases/herramientas/.git/\n"
     ]
    }
   ],
   "source": [
    "%%bash\n",
    "cd herramientas\n",
    "git init"
   ]
  },
  {
   "cell_type": "markdown",
   "metadata": {},
   "source": [
    "## Repositorios remotos\n",
    "\n",
    "Una vez se inicializa o se clona, podemos agregar nuestro reposotorio remoto, que previamente fue creado en github o bitbucket. Si solo se desea un uso local o si es justo el repositorio clonado no será necesario.  "
   ]
  },
  {
   "cell_type": "code",
   "execution_count": 6,
   "metadata": {
    "collapsed": false
   },
   "outputs": [
    {
     "name": "stdout",
     "output_type": "stream",
     "text": [
      "origin\thttps://github.com/cosmoscalibur/herramientas_computacionales.git (fetch)\n",
      "origin\thttps://github.com/cosmoscalibur/herramientas_computacionales.git (push)\n",
      "pruebas\thttps://github.com/cosmoscalibur/pruebas.git (fetch)\n",
      "pruebas\thttps://github.com/cosmoscalibur/pruebas.git (push)\n"
     ]
    }
   ],
   "source": [
    "%%bash\n",
    "cd herramientas\n",
    "git remote add pruebas https://github.com/cosmoscalibur/pruebas.git\n",
    "git remote -v"
   ]
  },
  {
   "cell_type": "markdown",
   "metadata": {},
   "source": [
    "Tambien es posible eliminar el acceso al servidor remoto, con `git remote rm`.  "
   ]
  },
  {
   "cell_type": "code",
   "execution_count": 7,
   "metadata": {
    "collapsed": false
   },
   "outputs": [
    {
     "name": "stdout",
     "output_type": "stream",
     "text": [
      "pruebas\thttps://github.com/cosmoscalibur/pruebas.git (fetch)\n",
      "pruebas\thttps://github.com/cosmoscalibur/pruebas.git (push)\n"
     ]
    }
   ],
   "source": [
    "%%bash\n",
    "cd herramientas\n",
    "git remote rm origin\n",
    "git remote -v"
   ]
  },
  {
   "cell_type": "markdown",
   "metadata": {},
   "source": [
    "## Objetos y referencias\n",
    "\n",
    "A continuación, y para evitar posibles conflictos de los archivos, es recomendable iniciar con un `fetch` o `pull` para obtener los objetos y referencias del repositorio remoto (esto si creamos el repositorio con los archivos de licencia y `README.md` que nos invita a crear el servicio git), y hacer la unión del contenido existente en el remoto con el local justo en el local.  \n",
    "\n",
    "    git pull pruebas master\n",
    "\n",
    "El paso anterior se evita si solo usamos el servicio para la creación del repositorio remoto vacio en lugar de poblarlo con los asistentes de archivo de licencia y archivo de descripción. Si en el paso anterior los archivos del repositorio remoto y el local poseen los mismos nombres pero son diferentes, pueden existir conflictos que deban resolverse de forma manual.  \n",
    "\n",
    "Crearemos archivos de prueba la adición al repositorio."
   ]
  },
  {
   "cell_type": "code",
   "execution_count": 9,
   "metadata": {
    "collapsed": true
   },
   "outputs": [],
   "source": [
    "%%bash\n",
    "cd herramientas\n",
    "echo \"linea 1\" > probar_1\n",
    "printf \"s\\n 5\" > probar_2"
   ]
  },
  {
   "cell_type": "markdown",
   "metadata": {},
   "source": [
    "Aunque en este caso es claro que nuestros archivos no se encuentran agregados al repositorio, consultaremos por el estado de los archivos frente a su registro en el repositorio.  "
   ]
  },
  {
   "cell_type": "code",
   "execution_count": 10,
   "metadata": {
    "collapsed": false
   },
   "outputs": [
    {
     "name": "stdout",
     "output_type": "stream",
     "text": [
      "On branch master\n",
      "Untracked files:\n",
      "  (use \"git add <file>...\" to include in what will be committed)\n",
      "\n",
      "\tprobar_1\n",
      "\tprobar_2\n",
      "\n",
      "nothing added to commit but untracked files present (use \"git add\" to track)\n"
     ]
    }
   ],
   "source": [
    "%%bash\n",
    "cd herramientas\n",
    "git status"
   ]
  },
  {
   "cell_type": "markdown",
   "metadata": {},
   "source": [
    "Ahora agregamos al registro los archivos de nuestro repositorio local."
   ]
  },
  {
   "cell_type": "code",
   "execution_count": 11,
   "metadata": {
    "collapsed": false,
    "scrolled": true
   },
   "outputs": [
    {
     "name": "stdout",
     "output_type": "stream",
     "text": [
      "[master d193ae6] Agregados archivos de prueba 1 y 2.\n",
      " 2 files changed, 3 insertions(+)\n",
      " create mode 100644 probar_1\n",
      " create mode 100644 probar_2\n"
     ]
    }
   ],
   "source": [
    "%%bash\n",
    "cd herramientas\n",
    "git add . # Con la indicación \".\" agrega todo.\n",
    "git commit -m \"Agregados archivos de prueba 1 y 2.\""
   ]
  },
  {
   "cell_type": "markdown",
   "metadata": {},
   "source": [
    "Realizaremos una modificación en uno de los archivos y agregaremos directamente a este."
   ]
  },
  {
   "cell_type": "code",
   "execution_count": 12,
   "metadata": {
    "collapsed": false
   },
   "outputs": [
    {
     "name": "stdout",
     "output_type": "stream",
     "text": [
      "[master 412aeb3] Actualizado prueba 1 y agregado prueba 3.\n",
      " 2 files changed, 4 insertions(+)\n",
      " create mode 100644 probar_3\n"
     ]
    }
   ],
   "source": [
    "%%bash\n",
    "cd herramientas\n",
    "echo \"linea 2\" >> probar_1\n",
    "printf \"otro\\narchivo\\npara probar.\" > probar_3\n",
    "git add probar_1 probar_3\n",
    "git commit -m \"Actualizado prueba 1 y agregado prueba 3.\""
   ]
  },
  {
   "cell_type": "markdown",
   "metadata": {},
   "source": [
    "Es posible indicar directamente a git la eliminación de archivos mediante\n",
    "\n",
    "    git rm archivo\n",
    "    \n",
    "o tambien al eliminar el archivo de manera directa, se incluye en git\n",
    "\n",
    "    git add -A\n",
    "    \n",
    "con el fin de actualizar el arbol de archivos y rastrear incluso los archivos eliminados. Sin embargo, es recomendable que la adición y remoción de archivos sea lo más especifica posible con el fin de tener un registro descriptivo que ayude a la adecuada solución de problemas o la descripción de cambios de una versión a otro de los códigos. Tengase en cuenta que en el caso de directorios, debe indicarse el argumento recursivo para el borrado.  \n",
    "\n",
    "Si se desea eliminar un archivo del repositorio pero no del disco, debe eliminarse de la _cache_ del repositorio.  \n",
    "\n",
    "    git rm --cached archivo\n",
    "\n",
    "Posterior a esto, realizamos el _commit_ asociado.  "
   ]
  },
  {
   "cell_type": "markdown",
   "metadata": {},
   "source": [
    "## Actualizar de/desde repositorios remotos  \n",
    "\n",
    "Ahora deseamos actualizar nuestro repositorio remoto con nuestro repositorio local, para lo cual debemos hacer un _push_ con el nombre del repositorio remoto y el nombre del _branch_ que por defecto si solo hay uno es _master_. Es posible configurar el _push_ para que su acción sea la de enviar todos los _branchs_ del repositorio pero es preferible un control más fino con el fin de reducir el trafico de datos en la red.  "
   ]
  },
  {
   "cell_type": "code",
   "execution_count": 13,
   "metadata": {
    "collapsed": false
   },
   "outputs": [
    {
     "name": "stderr",
     "output_type": "stream",
     "text": [
      "To https://github.com/cosmoscalibur/pruebas.git\n",
      " * [new branch]      master -> master\n"
     ]
    }
   ],
   "source": [
    "%%bash\n",
    "cd herramientas\n",
    "git push pruebas master"
   ]
  },
  {
   "cell_type": "markdown",
   "metadata": {},
   "source": [
    "Durante la ejecución del _push_ se nos solicitará el usuario y contraseña de nuestra cuenta en el servicio git. Al usar el protocolo https por defecto tendremos 3600 segundos tras cada autenticación, o si lo preferimos podemos usar ssh y crear la llave de autenticación con el fin de tener acceso permanente en nuestro equipo privado sin requerir de la autenticación continua.  \n",
    "\n",
    "Para la actualización de nuestro repositorio local con el repositorio remoto reaizamos una acción _pull_, tal cual se indico en la subsección anterior para actualizar el repositorio local con los archivos que posiblemente se crearon con el asistente del servicio git.  "
   ]
  },
  {
   "cell_type": "markdown",
   "metadata": {},
   "source": [
    "## Otras acciones  \n",
    "\n",
    "Se recomienda la lectura de otras acciones de git importantes, las cuales son: `branch` y `merge` para experimentar con modificaciones de un código base y su posterior unión al original, o `log`, `show` para la visualización del historial de modificaciones.  \n",
    "Si particularmente queremos ver el estado del repositorio en un _commit_ especifico, usamos `checkout` seguido del _commit_. Esta acción no genera ninguna modificación del repositorio y para continuar en el último estadosolo debemos volver a nuestro estado actual realizando el _checkout_ al _master_. Si deseamos conservar este estado consultado realizamos una reversión al _commit_ dado con `reverse`.  \n",
    "Si la acción anterior se realiza sobre un archivo, los cambios deben deshacerse con _checkout_ a `HEAD` seguido del archivo, de lo contrario el estado del archivo consultado estará como una modificación.  \n",
    "Igualmente existen acciones de interes en caso de usar los servicios git como la acción del `fork` que hace uso de la solicitud de _pull_ (acciones no incluidas en git pero que pueden ser usadas con clientes basados en las API de los servicios git).  \n",
    "Es posible tener submodules para lo cual git ofrece la utilidad `submodule` para su gestión.  "
   ]
  },
  {
   "cell_type": "code",
   "execution_count": 14,
   "metadata": {
    "collapsed": false
   },
   "outputs": [
    {
     "name": "stdout",
     "output_type": "stream",
     "text": [
      "412aeb3 Actualizado prueba 1 y agregado prueba 3.\n",
      "d193ae6 Agregados archivos de prueba 1 y 2.\n",
      "261c014 Notas de clase sobre git.\n",
      "2f875d7 Agregados elementos iniciales.\n",
      "c6c3472 Actualización del filtro para exclusión de archivos del repositorio. Error en secuencia.\n",
      "3d7ddbd Mejora de redacción punto 6. Redacción original implicaba algo que no es posible reportar en el notebook.\n",
      "b8175d2 Removido archivo auxiliar anterior a la adición del filtro en el .gitignore\n",
      "359315e Corrección nombre de archivo de imagen.\n",
      "bfb1c4e Agregado pdf de referencia para el taller 1 en el punto de LaTeX.\n",
      "1880047 Ampliación de notas de LaTeX. Versión mínima completa.\n",
      "78d2f53 Se inician las notas de clase de introducción a LaTeX.\n",
      "530f97d Incluido archivo .gitignore para exclusión de archivos auxiliares.\n",
      "c0c677b Actualización de horario de asesoría\n",
      "eafa1a1 Corrección de mención de vector a polinomio, y mejor descripción del punto de LaTeX y de zompresión.\n",
      "c7457f7 Agregado resumen de clase de scripting en bash en formato ipynb y pdf.\n",
      "2c2a162 Merge branch 'master' of https://github.com/cosmoscalibur/herramientas_computacionales\n",
      "0983215 Agregada descripción del repositorio.\n",
      "18ea606 Agregada Licencia MIT sobre el código existente en el repositorio.\n",
      "a7d666e Agregado primer taller evaluativo sobre Linux, Jupyter y LaTeX.\n",
      "6fadef3 Agregadas notas de clase sobre Linux básico en formato ipynb y pdf.\n",
      "6f9da7a Agregadas notas de clase sobre Jupyter Notebooks en formato ipynb y pdf.\n",
      "6149aaa Agregada presentación del curso.\n",
      "e4a4be5 Extendido README.md\n",
      "06cf9e4 Initial commit\n"
     ]
    }
   ],
   "source": [
    "%%bash\n",
    "cd herramientas\n",
    "git log --oneline"
   ]
  },
  {
   "cell_type": "code",
   "execution_count": 15,
   "metadata": {
    "collapsed": false,
    "scrolled": true
   },
   "outputs": [
    {
     "name": "stdout",
     "output_type": "stream",
     "text": [
      "commit d193ae6a32c2b2992a0e7e05b7f8f2f936a654eb\n",
      "Author: Edward Villegas <cosmoscalibur@gmail.com>\n",
      "Date:   Sun Aug 21 19:51:56 2016 -0500\n",
      "\n",
      "    Agregados archivos de prueba 1 y 2.\n",
      "\n",
      "diff --git a/probar_1 b/probar_1\n",
      "new file mode 100644\n",
      "index 0000000..2916432\n",
      "--- /dev/null\n",
      "+++ b/probar_1\n",
      "@@ -0,0 +1 @@\n",
      "+linea 1\n",
      "diff --git a/probar_2 b/probar_2\n",
      "new file mode 100644\n",
      "index 0000000..198adde\n",
      "--- /dev/null\n",
      "+++ b/probar_2\n",
      "@@ -0,0 +1,2 @@\n",
      "+s\n",
      "+ 5\n",
      "\\ No newline at end of file\n"
     ]
    }
   ],
   "source": [
    "%%bash\n",
    "cd herramientas\n",
    "git show d193ae6"
   ]
  },
  {
   "cell_type": "code",
   "execution_count": 16,
   "metadata": {
    "collapsed": false
   },
   "outputs": [
    {
     "name": "stdout",
     "output_type": "stream",
     "text": [
      "Actual\n",
      "Git.ipynb\n",
      "Jupyter Notebook Basico.ipynb\n",
      "Jupyter+Notebook+Basico.pdf\n",
      "Jupyter Notebook Intermedio.ipynb\n",
      "Jupyter+Notebook+Intermedio.pdf\n",
      "jupyter.png\n",
      "LaTeX_basico.pdf\n",
      "LaTeX_basico.tex\n",
      "LICENSE\n",
      "Linux Bash.ipynb\n",
      "Linux+Bash.pdf\n",
      "Linux Basico.ipynb\n",
      "Linux+Basico.pdf\n",
      "minimo_taller1.pdf\n",
      "presentacion_herramientas.md\n",
      "presentacion_herramientas.pdf\n",
      "probar_1\n",
      "probar_2\n",
      "probar_3\n",
      "README.md\n",
      "Taller_1.ipynb\n",
      "Taller_1.pdf\n",
      "Anterior\n",
      "LICENSE\n",
      "README.md\n"
     ]
    },
    {
     "name": "stderr",
     "output_type": "stream",
     "text": [
      "Note: checking out 'e4a4be5'.\n",
      "\n",
      "You are in 'detached HEAD' state. You can look around, make experimental\n",
      "changes and commit them, and you can discard any commits you make in this\n",
      "state without impacting any branches by performing another checkout.\n",
      "\n",
      "If you want to create a new branch to retain commits you create, you may\n",
      "do so (now or later) by using -b with the checkout command again. Example:\n",
      "\n",
      "  git checkout -b <new-branch-name>\n",
      "\n",
      "HEAD is now at e4a4be5... Extendido README.md\n",
      "Previous HEAD position was e4a4be5... Extendido README.md\n",
      "Switched to branch 'master'\n"
     ]
    }
   ],
   "source": [
    "%%bash\n",
    "cd herramientas\n",
    "echo \"Actual\"\n",
    "ls\n",
    "git checkout e4a4be5\n",
    "echo \"Anterior\"\n",
    "ls\n",
    "git checkout master"
   ]
  },
  {
   "cell_type": "code",
   "execution_count": 17,
   "metadata": {
    "collapsed": false
   },
   "outputs": [
    {
     "name": "stdout",
     "output_type": "stream",
     "text": [
      "Actual\n",
      "linea 1\n",
      "linea 2\n",
      "Anterior\n",
      "linea 1\n"
     ]
    }
   ],
   "source": [
    "%%bash\n",
    "cd herramientas\n",
    "echo \"Actual\"\n",
    "cat probar_1\n",
    "git checkout d193ae6 probar_1\n",
    "echo \"Anterior\"\n",
    "cat probar_1\n",
    "git checkout HEAD probar_1"
   ]
  },
  {
   "cell_type": "markdown",
   "metadata": {},
   "source": [
    "# Referencias\n",
    "\n",
    "1. [Git Downloads](https://git-scm.com/downloads). Git. Consultado el 19 de agosto de 2016.  \n",
    "1. [BootCamp](https://help.github.com/categories/bootcamp/). Github. Consultado el 20 de agosto de 2016.  \n",
    "1. [Git Doc](https://git-scm.com/doc). Git. Consultado el 20 de agosto de 2016.  \n",
    "1. [Git Tutorials](https://www.atlassian.com/git/tutorials/). Atlassian. Consultado el 20 de agosto de 2016.  \n",
    "1. [Version control with git](http://swcarpentry.github.io/git-novice/). Software Carpentry. Consultado el 20 de agosto de 2016.  \n",
    "1. [Managing remotes](https://help.github.com/categories/managing-remotes/). Github. Consultado el 21 de agosto de 2016.  \n",
    "1. [Basic Git Commands](https://confluence.atlassian.com/bitbucketserver/basic-git-commands-776639767.html). Atlassian. Consultado el 22 de agosto de 2016."
   ]
  }
 ],
 "metadata": {
  "kernelspec": {
   "display_name": "Python 3",
   "language": "python",
   "name": "python3"
  },
  "language_info": {
   "codemirror_mode": {
    "name": "ipython",
    "version": 3
   },
   "file_extension": ".py",
   "mimetype": "text/x-python",
   "name": "python",
   "nbconvert_exporter": "python",
   "pygments_lexer": "ipython3",
   "version": "3.5.2"
  }
 },
 "nbformat": 4,
 "nbformat_minor": 1
}
