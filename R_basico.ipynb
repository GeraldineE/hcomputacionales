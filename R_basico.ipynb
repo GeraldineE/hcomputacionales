{
 "cells": [
  {
   "cell_type": "markdown",
   "metadata": {},
   "source": [
    "# Uso básico de R  \n",
    "\n",
    "R es un lenguaje interpretado con orientación al computo estadistico y la realización de gráficos.  \n",
    "\n",
    "## Instalación  \n",
    "\n",
    "Para la instalación del interprete de R en ubuntu, usaremos el gestor de paquetes como administrador\n",
    "\n",
    "    apt install -y r-base\n",
    "\n",
    "Ahora debemos realizar la instalación de los complementos necesarios para su uso en los notebooks.  \n",
    "\n",
    "Para la instalación de paquetes desde R es necesario tener los siguientes paquetes:\n",
    "\n",
    "    apt install -y curl libssl-dev libcurl4-openssl-dev libxml2-dev\n",
    "\n",
    "En este paso requerimos iniciar R en la terminal (aun como administrador), lo cual hacemos con `R`. Una vez estamos en la consola de R realizamos lo siguiente:  \n",
    "\n",
    "    install.packages(c('repr', 'IRdisplay', 'crayon', 'pbdZMQ', 'devtools'))\n",
    "    devtools::install_github('IRkernel/IRkernel')\n",
    "\n",
    "Tras la primera linea es necesario (si es la primera vez que realizamos una instalación) configurar el servidor CRAN, de preferencia al lugar geografico más cercano. En este punto ya esta instalado el kernel, pero ahora debe registrarse para que sea reconocido por jupyter, proceso que se realiza en cada sesión de usuario que lo requiera.  \n",
    "\n",
    "    IRkernel::installspec()\n",
    "\n",
    "Ahora ya podemos salir del administrador, y ejecutar como usuario normal a `jupyter` seguido del comando de interes (`notebook`, `console`, `lab`) y finalmente `--kernel=ir`. La última parte indica el kernel asociado a R. Igualmente se puede hacer la selección del kernel de forma grafica con el gui de la interface que deseamos usar.  \n",
    "\n",
    "Si usamos Anaconda para la instalación de python, una forma simple de hacer este mismo proceso será:  \n",
    "\n",
    "    conda install -c r r-essentials\n",
    "\n",
    "Esto nos ofrece una gran ventaja si nuestra distribución de linux no contiene las dependecias en la versión requerida (incluyendo `R >= 3.2`) para que los paquetes que requerimos instalar con el gestor de R sean reconocidos en el repositorio o si estamos en windows. Otra opción si no queremos usar Anaconda en linux y tenemos una versión de R anterior, es especificar el repositorio de instalación:  \n",
    "\n",
    "    install.packages(c('rzmq','repr','IRkernel','IRdisplay'), repos = 'http://irkernel.github.io/', type = 'source')"
   ]
  },
  {
   "cell_type": "markdown",
   "metadata": {},
   "source": [
    "## Datos y funciones  \n",
    "\n",
    "Mediante ejemplificación se trabajarán algunos tipos de datos, sintaxis y funciones estadisticas básicas del lenaguaje `R`.  "
   ]
  },
  {
   "cell_type": "markdown",
   "metadata": {},
   "source": [
    "### Paquetes\n",
    "\n",
    "Para la instalación de paquetes adicionales, se usa tal como se indico al inicio, la instrucción `install.packages(PKGNAME)` donde `PKGNAME` se reemplaza por el nombre del paquete. Para cargar el paquete usamos `library(PKGNAME)`. Tambien es posible desasociar la carga de un paquete con el fin de reducir la memoria. Pruebe el siguiente código, usando la primera linea como administrador dentro de R.  \n",
    "\n",
    "    install.packages('fortunes')\n",
    "    library(fortunes)\n",
    "    fortunes()\n",
    "    detach(package:fortunes)\n",
    "    fortunes()\n",
    "\n",
    "Podemos consultar la ayuda sobre una función dada con `help` y hacer una busqueda de posibles funciones con base a una parte del nombre con `apropos`."
   ]
  },
  {
   "cell_type": "code",
   "execution_count": 1,
   "metadata": {
    "collapsed": false
   },
   "outputs": [],
   "source": [
    "help(\"library\")"
   ]
  },
  {
   "cell_type": "code",
   "execution_count": 2,
   "metadata": {
    "collapsed": false
   },
   "outputs": [
    {
     "data": {
      "text/html": [
       "<ol class=list-inline>\n",
       "\t<li>'installed.packages'</li>\n",
       "\t<li>'install.packages'</li>\n",
       "</ol>\n"
      ],
      "text/latex": [
       "\\begin{enumerate*}\n",
       "\\item 'installed.packages'\n",
       "\\item 'install.packages'\n",
       "\\end{enumerate*}\n"
      ],
      "text/markdown": [
       "1. 'installed.packages'\n",
       "2. 'install.packages'\n",
       "\n",
       "\n"
      ],
      "text/plain": [
       "[1] \"installed.packages\" \"install.packages\"  "
      ]
     },
     "metadata": {},
     "output_type": "display_data"
    }
   ],
   "source": [
    "apropos(\"install\")"
   ]
  },
  {
   "cell_type": "markdown",
   "metadata": {},
   "source": [
    "### Tipos de datos y aritmetica\n",
    "\n",
    "El lenguaje R soporte dos mecanismos equivalentes de asignación, uno mediante `=` y otro mediante `<-` o `->` donde la dirección de la flecha indica donde esta la variable en la cual se hará la asignación.  \n",
    "La asignación es de tipo dinamico, es decir, no se requiere indicar el tipo de dato para su asignación, sino que es inferido por el lenguaje.  \n",
    "La sintaxis aritmetica es de forma tradicional a la usada en python 3 (resaltando el uso de la división flotante) pero diferenciando en el operador modulo el cual requiere `%%` y no `%`. Al igual que octave, tiene soporte para el operador de potencia tradicional `^` y para el equivalente en python `**`. R viene con funciones matematicas accesibles de forma inmediata sin realizar la carga de paquetes."
   ]
  },
  {
   "cell_type": "code",
   "execution_count": 3,
   "metadata": {
    "collapsed": false
   },
   "outputs": [
    {
     "data": {
      "text/html": [
       "0.5"
      ],
      "text/latex": [
       "0.5"
      ],
      "text/markdown": [
       "0.5"
      ],
      "text/plain": [
       "[1] 0.5"
      ]
     },
     "metadata": {},
     "output_type": "display_data"
    },
    {
     "data": {
      "text/html": [
       "2"
      ],
      "text/latex": [
       "2"
      ],
      "text/markdown": [
       "2"
      ],
      "text/plain": [
       "[1] 2"
      ]
     },
     "metadata": {},
     "output_type": "display_data"
    },
    {
     "data": {
      "text/html": [
       "3"
      ],
      "text/latex": [
       "3"
      ],
      "text/markdown": [
       "3"
      ],
      "text/plain": [
       "[1] 3"
      ]
     },
     "metadata": {},
     "output_type": "display_data"
    },
    {
     "data": {
      "text/html": [
       "2.5"
      ],
      "text/latex": [
       "2.5"
      ],
      "text/markdown": [
       "2.5"
      ],
      "text/plain": [
       "[1] 2.5"
      ]
     },
     "metadata": {},
     "output_type": "display_data"
    },
    {
     "data": {
      "text/html": [
       "0.25"
      ],
      "text/latex": [
       "0.25"
      ],
      "text/markdown": [
       "0.25"
      ],
      "text/plain": [
       "[1] 0.25"
      ]
     },
     "metadata": {},
     "output_type": "display_data"
    },
    {
     "data": {
      "text/html": [
       "0.5"
      ],
      "text/latex": [
       "0.5"
      ],
      "text/markdown": [
       "0.5"
      ],
      "text/plain": [
       "[1] 0.5"
      ]
     },
     "metadata": {},
     "output_type": "display_data"
    },
    {
     "data": {
      "text/html": [
       "0.25"
      ],
      "text/latex": [
       "0.25"
      ],
      "text/markdown": [
       "0.25"
      ],
      "text/plain": [
       "[1] 0.25"
      ]
     },
     "metadata": {},
     "output_type": "display_data"
    },
    {
     "data": {
      "text/html": [
       "0.25"
      ],
      "text/latex": [
       "0.25"
      ],
      "text/markdown": [
       "0.25"
      ],
      "text/plain": [
       "[1] 0.25"
      ]
     },
     "metadata": {},
     "output_type": "display_data"
    },
    {
     "data": {
      "text/html": [
       "0+1.22474487139159i"
      ],
      "text/latex": [
       "0+1.22474487139159i"
      ],
      "text/markdown": [
       "0+1.22474487139159i"
      ],
      "text/plain": [
       "[1] 0+1.224745i"
      ]
     },
     "metadata": {},
     "output_type": "display_data"
    },
    {
     "data": {
      "text/html": [
       "2.82129398986428"
      ],
      "text/latex": [
       "2.82129398986428"
      ],
      "text/markdown": [
       "2.82129398986428"
      ],
      "text/plain": [
       "[1] 2.821294"
      ]
     },
     "metadata": {},
     "output_type": "display_data"
    },
    {
     "data": {
      "text/html": [
       "TRUE"
      ],
      "text/latex": [
       "TRUE"
      ],
      "text/markdown": [
       "TRUE"
      ],
      "text/plain": [
       "[1] TRUE"
      ]
     },
     "metadata": {},
     "output_type": "display_data"
    },
    {
     "data": {
      "text/html": [
       "'hola mundo'"
      ],
      "text/latex": [
       "'hola mundo'"
      ],
      "text/markdown": [
       "'hola mundo'"
      ],
      "text/plain": [
       "[1] \"hola mundo\""
      ]
     },
     "metadata": {},
     "output_type": "display_data"
    }
   ],
   "source": [
    "# Al igual que la mayor parte de lenguajes compatibles con los interpretes linux, los comentarios son con signo numero\n",
    "x = 1/2; x\n",
    "y <- 2; y\n",
    "3 -> z; z\n",
    "x + y\n",
    "x / y\n",
    "x %% y\n",
    "x ** y\n",
    "x ^ y\n",
    "sqrt(x - y + 0i)\n",
    "sin(x) + exp(x) - log(x)\n",
    "!((1 > 2) & FALSE)\n",
    "palabra = \"hola mundo\"; palabra"
   ]
  },
  {
   "cell_type": "markdown",
   "metadata": {},
   "source": [
    "### Funciones\n",
    "\n",
    "Al igual que otros lenguajes, la indicación de una función se realiza mediante su nombre clave seguido de parentesis y los argumentos en su interior. Un ejemplo de función es la construcción de vectores mediante la función `c`.  "
   ]
  },
  {
   "cell_type": "code",
   "execution_count": 4,
   "metadata": {
    "collapsed": false
   },
   "outputs": [
    {
     "data": {
      "text/html": [
       "<ol class=list-inline>\n",
       "\t<li>1</li>\n",
       "\t<li>9</li>\n",
       "\t<li>7</li>\n",
       "\t<li>8</li>\n",
       "</ol>\n"
      ],
      "text/latex": [
       "\\begin{enumerate*}\n",
       "\\item 1\n",
       "\\item 9\n",
       "\\item 7\n",
       "\\item 8\n",
       "\\end{enumerate*}\n"
      ],
      "text/markdown": [
       "1. 1\n",
       "2. 9\n",
       "3. 7\n",
       "4. 8\n",
       "\n",
       "\n"
      ],
      "text/plain": [
       "[1] 1 9 7 8"
      ]
     },
     "metadata": {},
     "output_type": "display_data"
    }
   ],
   "source": [
    "vector_a = c(0, 1, 5, 8)\n",
    "vector_b = c(1, 8, 2, 0)\n",
    "vector_c = vector_a + vector_b\n",
    "vector_c"
   ]
  },
  {
   "cell_type": "markdown",
   "metadata": {},
   "source": [
    "LLama la atención la forma de visualizar los resultados en R con información complementaria. Los arreglos en este caso se visualizan con la información asociada a la posición de cada valor. Tambien notamos que los arreglos de R soportan de forma nativa arreglos matematicos a diferencia de las listas de python, las cuales deben convertirse primero en objetos `array` de `numpy`.  \n",
    "\n",
    "Otra función de interes es como imprimir. Notamos que la visualización por defecto de arreglos con solo llamar la variable es mostrar los elementos de forma separada indicando sus posiciones en el arreglo. Notamos tambien a partir de esta visualización que el conteo de los elementos de los arreglos en R comienza en 1.  "
   ]
  },
  {
   "cell_type": "code",
   "execution_count": 5,
   "metadata": {
    "collapsed": false
   },
   "outputs": [
    {
     "name": "stdout",
     "output_type": "stream",
     "text": [
      "[1] 1 9 7 8\n",
      "[1] 3\n"
     ]
    }
   ],
   "source": [
    "print(vector_c)\n",
    "print(z)"
   ]
  },
  {
   "cell_type": "markdown",
   "metadata": {},
   "source": [
    "Para la construcción de matrices se usa la función `matrix`."
   ]
  },
  {
   "cell_type": "code",
   "execution_count": 6,
   "metadata": {
    "collapsed": false
   },
   "outputs": [
    {
     "name": "stdout",
     "output_type": "stream",
     "text": [
      "     [,1] [,2] [,3]\n",
      "[1,]    2    4    3\n",
      "[2,]    1    5    7\n"
     ]
    },
    {
     "data": {
      "text/html": [
       "<table>\n",
       "<tbody>\n",
       "\t<tr><td>2</td><td>4</td><td>3</td></tr>\n",
       "\t<tr><td>1</td><td>5</td><td>7</td></tr>\n",
       "</tbody>\n",
       "</table>\n"
      ],
      "text/latex": [
       "\\begin{tabular}{lll}\n",
       "\t 2 & 4 & 3\\\\\n",
       "\t 1 & 5 & 7\\\\\n",
       "\\end{tabular}\n"
      ],
      "text/markdown": [
       "1. 2\n",
       "2. 1\n",
       "3. 4\n",
       "4. 5\n",
       "5. 3\n",
       "6. 7\n",
       "\n",
       "\n"
      ],
      "text/plain": [
       "     [,1] [,2] [,3]\n",
       "[1,] 2    4    3   \n",
       "[2,] 1    5    7   "
      ]
     },
     "metadata": {},
     "output_type": "display_data"
    },
    {
     "name": "stdout",
     "output_type": "stream",
     "text": [
      "[1] 1 5 7\n",
      "[1] 2 1\n",
      "[1] 1\n",
      "     [,1] [,2]\n",
      "[1,]    2    3\n",
      "[2,]    1    7\n"
     ]
    }
   ],
   "source": [
    "a = matrix(c(2, 4, 3, 1, 5, 7), nrow=2, ncol=3, byrow = TRUE)\n",
    "print(a)\n",
    "a # Compare visualización por invocación con visualización con print.\n",
    "print(a[2,]) # Muestra fila 2\n",
    "print(a[,1]) # Muestra columna 1 (se pierde la propiedad de columna)\n",
    "print(a[2, 1]) # Muestra elemento de la fila 2 y columna 1\n",
    "print(a[, c(1,3)]) # Muestra submatriz formada por las columnas 1 y 3"
   ]
  },
  {
   "cell_type": "markdown",
   "metadata": {},
   "source": [
    "Notese que el formato de impresión directo es diferente al generado por el `print`, dado a que internamente las matrices son clases formadas por vectores con una propiedad de forma.  "
   ]
  },
  {
   "cell_type": "markdown",
   "metadata": {},
   "source": [
    "### Clases  \n",
    "\n",
    "El lenguaje R tambien permite trabajar bajo el paradigma POO. De hecho, al igual que python, encontramos que la mayor parte del soporte del lenguaje es realizado como objetos. Esto es el motivo por el cual tambien podemos notar que la impresión de los datos esta acompañada de una información adicional a la que esperamos que tenga la mayor parte de ocasiones."
   ]
  },
  {
   "cell_type": "code",
   "execution_count": 7,
   "metadata": {
    "collapsed": false
   },
   "outputs": [
    {
     "data": {
      "text/html": [
       "'numeric'"
      ],
      "text/latex": [
       "'numeric'"
      ],
      "text/markdown": [
       "'numeric'"
      ],
      "text/plain": [
       "[1] \"numeric\""
      ]
     },
     "metadata": {},
     "output_type": "display_data"
    },
    {
     "data": {
      "text/html": [
       "'numeric'"
      ],
      "text/latex": [
       "'numeric'"
      ],
      "text/markdown": [
       "'numeric'"
      ],
      "text/plain": [
       "[1] \"numeric\""
      ]
     },
     "metadata": {},
     "output_type": "display_data"
    },
    {
     "data": {
      "text/html": [
       "'character'"
      ],
      "text/latex": [
       "'character'"
      ],
      "text/markdown": [
       "'character'"
      ],
      "text/plain": [
       "[1] \"character\""
      ]
     },
     "metadata": {},
     "output_type": "display_data"
    },
    {
     "data": {
      "text/html": [
       "'logical'"
      ],
      "text/latex": [
       "'logical'"
      ],
      "text/markdown": [
       "'logical'"
      ],
      "text/plain": [
       "[1] \"logical\""
      ]
     },
     "metadata": {},
     "output_type": "display_data"
    },
    {
     "data": {
      "text/html": [
       "'complex'"
      ],
      "text/latex": [
       "'complex'"
      ],
      "text/markdown": [
       "'complex'"
      ],
      "text/plain": [
       "[1] \"complex\""
      ]
     },
     "metadata": {},
     "output_type": "display_data"
    }
   ],
   "source": [
    "class(vector_a)\n",
    "class(x)\n",
    "class(palabra)\n",
    "class(TRUE)\n",
    "class(1+2i)"
   ]
  },
  {
   "cell_type": "markdown",
   "metadata": {},
   "source": [
    "Un ejemplo de clase asociada a los calculos estadisticos son los minimos cuadrados. El objeto `lm` usa para su creación dos vectores que indican la variable dependiente y la variable independiente separadas por `~`.  "
   ]
  },
  {
   "cell_type": "code",
   "execution_count": 8,
   "metadata": {
    "collapsed": false
   },
   "outputs": [
    {
     "data": {
      "text/html": [
       "0.939623680622246"
      ],
      "text/latex": [
       "0.939623680622246"
      ],
      "text/markdown": [
       "0.939623680622246"
      ],
      "text/plain": [
       "[1] 0.9396237"
      ]
     },
     "metadata": {},
     "output_type": "display_data"
    },
    {
     "data": {
      "text/plain": [
       "\n",
       "Call:\n",
       "lm(formula = a ~ b)\n",
       "\n",
       "Coefficients:\n",
       "(Intercept)            b  \n",
       "     -2.696        4.434  \n"
      ]
     },
     "metadata": {},
     "output_type": "display_data"
    }
   ],
   "source": [
    "a = c(0.1, 1.2, 3.8, 8.7, 17.5)\n",
    "b = c(0.2, 0.9, 2.1, 3.0, 3.9)\n",
    "cor(b, a)\n",
    "c = lm(a ~ b)\n",
    "c"
   ]
  },
  {
   "cell_type": "markdown",
   "metadata": {},
   "source": [
    "La definición de una clase implica la existencia de métodos y/o atributos. No todas las clases definidas en R poseen atributos o métodos públicos, pero no es el caso general. Para conocer los atributos y métodos públicos podemos usar `attributes` y `methods`."
   ]
  },
  {
   "cell_type": "code",
   "execution_count": 9,
   "metadata": {
    "collapsed": false
   },
   "outputs": [
    {
     "data": {
      "text/html": [
       "<dl>\n",
       "\t<dt>$names</dt>\n",
       "\t\t<dd><ol class=list-inline>\n",
       "\t<li>'coefficients'</li>\n",
       "\t<li>'residuals'</li>\n",
       "\t<li>'effects'</li>\n",
       "\t<li>'rank'</li>\n",
       "\t<li>'fitted.values'</li>\n",
       "\t<li>'assign'</li>\n",
       "\t<li>'qr'</li>\n",
       "\t<li>'df.residual'</li>\n",
       "\t<li>'xlevels'</li>\n",
       "\t<li>'call'</li>\n",
       "\t<li>'terms'</li>\n",
       "\t<li>'model'</li>\n",
       "</ol>\n",
       "</dd>\n",
       "\t<dt>$class</dt>\n",
       "\t\t<dd>'lm'</dd>\n",
       "</dl>\n"
      ],
      "text/latex": [
       "\\begin{description}\n",
       "\\item[\\$names] \\begin{enumerate*}\n",
       "\\item 'coefficients'\n",
       "\\item 'residuals'\n",
       "\\item 'effects'\n",
       "\\item 'rank'\n",
       "\\item 'fitted.values'\n",
       "\\item 'assign'\n",
       "\\item 'qr'\n",
       "\\item 'df.residual'\n",
       "\\item 'xlevels'\n",
       "\\item 'call'\n",
       "\\item 'terms'\n",
       "\\item 'model'\n",
       "\\end{enumerate*}\n",
       "\n",
       "\\item[\\$class] 'lm'\n",
       "\\end{description}\n"
      ],
      "text/markdown": [
       "$names\n",
       ":   1. 'coefficients'\n",
       "2. 'residuals'\n",
       "3. 'effects'\n",
       "4. 'rank'\n",
       "5. 'fitted.values'\n",
       "6. 'assign'\n",
       "7. 'qr'\n",
       "8. 'df.residual'\n",
       "9. 'xlevels'\n",
       "10. 'call'\n",
       "11. 'terms'\n",
       "12. 'model'\n",
       "\n",
       "\n",
       "\n",
       "$class\n",
       ":   'lm'\n",
       "\n",
       "\n"
      ],
      "text/plain": [
       "$names\n",
       " [1] \"coefficients\"  \"residuals\"     \"effects\"       \"rank\"         \n",
       " [5] \"fitted.values\" \"assign\"        \"qr\"            \"df.residual\"  \n",
       " [9] \"xlevels\"       \"call\"          \"terms\"         \"model\"        \n",
       "\n",
       "$class\n",
       "[1] \"lm\"\n"
      ]
     },
     "metadata": {},
     "output_type": "display_data"
    },
    {
     "data": {
      "text/plain": [
       "[1] c.bibentry*       c.Date            c.noquote         c.numeric_version\n",
       "[5] c.person*         c.POSIXct         c.POSIXlt         c.warnings       \n",
       "see '?methods' for accessing help and source code"
      ]
     },
     "metadata": {},
     "output_type": "display_data"
    }
   ],
   "source": [
    "attributes(c)\n",
    "methods(c)"
   ]
  },
  {
   "cell_type": "markdown",
   "metadata": {},
   "source": [
    "Para consultar los valores de los atributos o ejecutar un método de la clase, ubicamos el signo `$` despues del objeto y luego el nombre del atributo o clase.  "
   ]
  },
  {
   "cell_type": "code",
   "execution_count": 10,
   "metadata": {
    "collapsed": false
   },
   "outputs": [
    {
     "data": {
      "text/html": [
       "<table>\n",
       "<thead><tr><th scope=col>a</th><th scope=col>b</th></tr></thead>\n",
       "<tbody>\n",
       "\t<tr><td> 0.1</td><td>0.2 </td></tr>\n",
       "\t<tr><td> 1.2</td><td>0.9 </td></tr>\n",
       "\t<tr><td> 3.8</td><td>2.1 </td></tr>\n",
       "\t<tr><td> 8.7</td><td>3.0 </td></tr>\n",
       "\t<tr><td>17.5</td><td>3.9 </td></tr>\n",
       "</tbody>\n",
       "</table>\n"
      ],
      "text/latex": [
       "\\begin{tabular}{r|ll}\n",
       " a & b\\\\\n",
       "\\hline\n",
       "\t  0.1 & 0.2 \\\\\n",
       "\t  1.2 & 0.9 \\\\\n",
       "\t  3.8 & 2.1 \\\\\n",
       "\t  8.7 & 3.0 \\\\\n",
       "\t 17.5 & 3.9 \\\\\n",
       "\\end{tabular}\n"
      ],
      "text/plain": [
       "  a    b  \n",
       "1  0.1 0.2\n",
       "2  1.2 0.9\n",
       "3  3.8 2.1\n",
       "4  8.7 3.0\n",
       "5 17.5 3.9"
      ]
     },
     "metadata": {},
     "output_type": "display_data"
    },
    {
     "data": {
      "text/html": [
       "<dl class=dl-horizontal>\n",
       "\t<dt>(Intercept)</dt>\n",
       "\t\t<dd>-2.69589766210851</dd>\n",
       "\t<dt>b</dt>\n",
       "\t\t<dd>4.43361270401412</dd>\n",
       "</dl>\n"
      ],
      "text/latex": [
       "\\begin{description*}\n",
       "\\item[(Intercept)] -2.69589766210851\n",
       "\\item[b] 4.43361270401412\n",
       "\\end{description*}\n"
      ],
      "text/markdown": [
       "(Intercept)\n",
       ":   -2.69589766210851b\n",
       ":   4.43361270401412\n",
       "\n"
      ],
      "text/plain": [
       "(Intercept)           b \n",
       "  -2.695898    4.433613 "
      ]
     },
     "metadata": {},
     "output_type": "display_data"
    },
    {
     "data": {
      "text/html": [
       "<strong>(Intercept):</strong> -2.69589766210851"
      ],
      "text/latex": [
       "\\textbf{(Intercept):} -2.69589766210851"
      ],
      "text/markdown": [
       "**(Intercept):** -2.69589766210851"
      ],
      "text/plain": [
       "(Intercept) \n",
       "  -2.695898 "
      ]
     },
     "metadata": {},
     "output_type": "display_data"
    },
    {
     "data": {
      "text/html": [
       "-2.69589766210851"
      ],
      "text/latex": [
       "-2.69589766210851"
      ],
      "text/markdown": [
       "-2.69589766210851"
      ],
      "text/plain": [
       "[1] -2.695898"
      ]
     },
     "metadata": {},
     "output_type": "display_data"
    }
   ],
   "source": [
    "c$model\n",
    "c$coefficients\n",
    "c$coefficients[1]\n",
    "c$coefficients[[1]]"
   ]
  },
  {
   "cell_type": "markdown",
   "metadata": {},
   "source": [
    "La función `summary` muestra toda la información relacionada a los objetos, en un formato de resumen."
   ]
  },
  {
   "cell_type": "code",
   "execution_count": 11,
   "metadata": {
    "collapsed": false
   },
   "outputs": [
    {
     "data": {
      "text/plain": [
       "\n",
       "Call:\n",
       "lm(formula = a ~ b)\n",
       "\n",
       "Residuals:\n",
       "       1        2        3        4        5 \n",
       " 1.90918 -0.09435 -2.81469 -1.90494  2.90481 \n",
       "\n",
       "Coefficients:\n",
       "            Estimate Std. Error t value Pr(>|t|)  \n",
       "(Intercept)  -2.6959     2.2633  -1.191   0.3192  \n",
       "b             4.4336     0.9323   4.756   0.0176 *\n",
       "---\n",
       "Signif. codes:  0 ‘***’ 0.001 ‘**’ 0.01 ‘*’ 0.05 ‘.’ 0.1 ‘ ’ 1\n",
       "\n",
       "Residual standard error: 2.807 on 3 degrees of freedom\n",
       "Multiple R-squared:  0.8829,\tAdjusted R-squared:  0.8439 \n",
       "F-statistic: 22.62 on 1 and 3 DF,  p-value: 0.01765\n"
      ]
     },
     "metadata": {},
     "output_type": "display_data"
    }
   ],
   "source": [
    "summary(c)"
   ]
  },
  {
   "cell_type": "markdown",
   "metadata": {},
   "source": [
    "En el caso anterior, con la indicación realizada se busco una relación lineal. Es posible buscar otros tipos de relación por linealización o por indicación explicita del modelo. Por ejemplo, por linealización, podríamos pensar en `a ~ b**2` para una relación cuadratica sin coeficientes lineales ni interceptos, o podemos pensar en un modelo polinomico como el ejemplo siguiente.  "
   ]
  },
  {
   "cell_type": "code",
   "execution_count": 12,
   "metadata": {
    "collapsed": false
   },
   "outputs": [
    {
     "data": {
      "text/plain": [
       "\n",
       "Call:\n",
       "lm(formula = a ~ poly(b, 2, raw = TRUE))\n",
       "\n",
       "Residuals:\n",
       "      1       2       3       4       5 \n",
       "-0.4425  0.7364 -0.0339 -0.5677  0.3077 \n",
       "\n",
       "Coefficients:\n",
       "                        Estimate Std. Error t value Pr(>|t|)  \n",
       "(Intercept)               0.8418     0.8352   1.008   0.4196  \n",
       "poly(b, 2, raw = TRUE)1  -1.8041     1.0315  -1.749   0.2224  \n",
       "poly(b, 2, raw = TRUE)2   1.5376     0.2465   6.237   0.0248 *\n",
       "---\n",
       "Signif. codes:  0 ‘***’ 0.001 ‘**’ 0.01 ‘*’ 0.05 ‘.’ 0.1 ‘ ’ 1\n",
       "\n",
       "Residual standard error: 0.7603 on 2 degrees of freedom\n",
       "Multiple R-squared:  0.9943,\tAdjusted R-squared:  0.9885 \n",
       "F-statistic: 173.6 on 2 and 2 DF,  p-value: 0.005727\n"
      ]
     },
     "metadata": {},
     "output_type": "display_data"
    }
   ],
   "source": [
    "d = lm(a ~ poly(b, 2, raw=TRUE))\n",
    "# poly crea el modelo polinomico\n",
    "# variable, grado, y polinomio tradicional\n",
    "summary(d)"
   ]
  },
  {
   "cell_type": "markdown",
   "metadata": {},
   "source": [
    "### Gráficos\n",
    "\n",
    "Los gráficos se pueden construir de una manera simple y tambien sin necesidad de cargar paquetes. La instrucción `plot` se encarga de esto. Existen más funciones de graficacion para incluir la forma tradicional de distinguir la incertidumbre de los datos o el trazado de tendencias, así como distintas personalizaciones del gráfico.  "
   ]
  },
  {
   "cell_type": "code",
   "execution_count": 13,
   "metadata": {
    "collapsed": false
   },
   "outputs": [
    {
     "data": {
      "image/png": "[encoded data removed]",
      "text/plain": [
       "plot without title"
      ]
     },
     "metadata": {},
     "output_type": "display_data"
    }
   ],
   "source": [
    "plot(b, a) # Cada llamado a plot crea un grafico nuevo\n",
    "abline(c) # Grafica la recta de un modelo lineal\n",
    "e = d$coefficients[[1]] + d$coefficients[[2]]*b + d$coefficients[[3]]*b**2\n",
    "lines(b, e) # Contruye lineas entre los pares de puntos"
   ]
  },
  {
   "cell_type": "markdown",
   "metadata": {},
   "source": [
    "R tiene soporte a la mano para la lectura de archivos con información numérica. Para archivos separados por espacios podemos usar `read.table` y si es un archivo separado por comas usamos `read.csv`."
   ]
  },
  {
   "cell_type": "code",
   "execution_count": 14,
   "metadata": {
    "collapsed": false
   },
   "outputs": [
    {
     "name": "stdout",
     "output_type": "stream",
     "text": [
      "   V1 V2 V3\n",
      "1   0  0  1\n",
      "2   1  1  3\n",
      "3   2  4  3\n",
      "4   3  8  6\n",
      "5   4  1  2\n",
      "6   5  2  5\n",
      "7   6  3  6\n",
      "8   7  4  7\n",
      "9   8  7  1\n",
      "10  9  8  2\n",
      "11 10  1 10\n",
      "12  2  0  5\n",
      "13  6  0  7\n"
     ]
    },
    {
     "data": {
      "text/html": [
       "<table>\n",
       "<thead><tr><th scope=col>V1</th><th scope=col>V2</th><th scope=col>V3</th></tr></thead>\n",
       "<tbody>\n",
       "\t<tr><td> 0</td><td>0 </td><td> 1</td></tr>\n",
       "\t<tr><td> 1</td><td>1 </td><td> 3</td></tr>\n",
       "\t<tr><td> 2</td><td>4 </td><td> 3</td></tr>\n",
       "\t<tr><td> 3</td><td>8 </td><td> 6</td></tr>\n",
       "\t<tr><td> 4</td><td>1 </td><td> 2</td></tr>\n",
       "\t<tr><td> 5</td><td>2 </td><td> 5</td></tr>\n",
       "\t<tr><td> 6</td><td>3 </td><td> 6</td></tr>\n",
       "\t<tr><td> 7</td><td>4 </td><td> 7</td></tr>\n",
       "\t<tr><td> 8</td><td>7 </td><td> 1</td></tr>\n",
       "\t<tr><td> 9</td><td>8 </td><td> 2</td></tr>\n",
       "\t<tr><td>10</td><td>1 </td><td>10</td></tr>\n",
       "\t<tr><td> 2</td><td>0 </td><td> 5</td></tr>\n",
       "\t<tr><td> 6</td><td>0 </td><td> 7</td></tr>\n",
       "</tbody>\n",
       "</table>\n"
      ],
      "text/latex": [
       "\\begin{tabular}{r|lll}\n",
       " V1 & V2 & V3\\\\\n",
       "\\hline\n",
       "\t  0 & 0  &  1\\\\\n",
       "\t  1 & 1  &  3\\\\\n",
       "\t  2 & 4  &  3\\\\\n",
       "\t  3 & 8  &  6\\\\\n",
       "\t  4 & 1  &  2\\\\\n",
       "\t  5 & 2  &  5\\\\\n",
       "\t  6 & 3  &  6\\\\\n",
       "\t  7 & 4  &  7\\\\\n",
       "\t  8 & 7  &  1\\\\\n",
       "\t  9 & 8  &  2\\\\\n",
       "\t 10 & 1  & 10\\\\\n",
       "\t  2 & 0  &  5\\\\\n",
       "\t  6 & 0  &  7\\\\\n",
       "\\end{tabular}\n"
      ],
      "text/plain": [
       "   V1 V2 V3\n",
       "1   0 0   1\n",
       "2   1 1   3\n",
       "3   2 4   3\n",
       "4   3 8   6\n",
       "5   4 1   2\n",
       "6   5 2   5\n",
       "7   6 3   6\n",
       "8   7 4   7\n",
       "9   8 7   1\n",
       "10  9 8   2\n",
       "11 10 1  10\n",
       "12  2 0   5\n",
       "13  6 0   7"
      ]
     },
     "metadata": {},
     "output_type": "display_data"
    },
    {
     "data": {
      "text/html": [
       "<dl>\n",
       "\t<dt>$names</dt>\n",
       "\t\t<dd><ol class=list-inline>\n",
       "\t<li>'V1'</li>\n",
       "\t<li>'V2'</li>\n",
       "\t<li>'V3'</li>\n",
       "</ol>\n",
       "</dd>\n",
       "\t<dt>$class</dt>\n",
       "\t\t<dd>'data.frame'</dd>\n",
       "\t<dt>$row.names</dt>\n",
       "\t\t<dd><ol class=list-inline>\n",
       "\t<li>1</li>\n",
       "\t<li>2</li>\n",
       "\t<li>3</li>\n",
       "\t<li>4</li>\n",
       "\t<li>5</li>\n",
       "\t<li>6</li>\n",
       "\t<li>7</li>\n",
       "\t<li>8</li>\n",
       "\t<li>9</li>\n",
       "\t<li>10</li>\n",
       "\t<li>11</li>\n",
       "\t<li>12</li>\n",
       "\t<li>13</li>\n",
       "</ol>\n",
       "</dd>\n",
       "</dl>\n"
      ],
      "text/latex": [
       "\\begin{description}\n",
       "\\item[\\$names] \\begin{enumerate*}\n",
       "\\item 'V1'\n",
       "\\item 'V2'\n",
       "\\item 'V3'\n",
       "\\end{enumerate*}\n",
       "\n",
       "\\item[\\$class] 'data.frame'\n",
       "\\item[\\$row.names] \\begin{enumerate*}\n",
       "\\item 1\n",
       "\\item 2\n",
       "\\item 3\n",
       "\\item 4\n",
       "\\item 5\n",
       "\\item 6\n",
       "\\item 7\n",
       "\\item 8\n",
       "\\item 9\n",
       "\\item 10\n",
       "\\item 11\n",
       "\\item 12\n",
       "\\item 13\n",
       "\\end{enumerate*}\n",
       "\n",
       "\\end{description}\n"
      ],
      "text/markdown": [
       "$names\n",
       ":   1. 'V1'\n",
       "2. 'V2'\n",
       "3. 'V3'\n",
       "\n",
       "\n",
       "\n",
       "$class\n",
       ":   'data.frame'\n",
       "$row.names\n",
       ":   1. 1\n",
       "2. 2\n",
       "3. 3\n",
       "4. 4\n",
       "5. 5\n",
       "6. 6\n",
       "7. 7\n",
       "8. 8\n",
       "9. 9\n",
       "10. 10\n",
       "11. 11\n",
       "12. 12\n",
       "13. 13\n",
       "\n",
       "\n",
       "\n",
       "\n",
       "\n"
      ],
      "text/plain": [
       "$names\n",
       "[1] \"V1\" \"V2\" \"V3\"\n",
       "\n",
       "$class\n",
       "[1] \"data.frame\"\n",
       "\n",
       "$row.names\n",
       " [1]  1  2  3  4  5  6  7  8  9 10 11 12 13\n"
      ]
     },
     "metadata": {},
     "output_type": "display_data"
    }
   ],
   "source": [
    "tabla = read.table(\"r_datos.txt\")\n",
    "print(tabla)\n",
    "tabla\n",
    "attributes(tabla)"
   ]
  },
  {
   "cell_type": "markdown",
   "metadata": {},
   "source": [
    "Otros tipos de gráficos se encuentras disponibles sin necesidad de paquetes especiales, tambien de interes estadistico, como lo son histogramas (`hist`) y los gráficos de cajas y bigotes (`boxplot`)."
   ]
  },
  {
   "cell_type": "code",
   "execution_count": 15,
   "metadata": {
    "collapsed": false
   },
   "outputs": [
    {
     "data": {
      "image/png": "[encoded data removed]",
      "text/plain": [
       "Plot with title “Distribución de V1”"
      ]
     },
     "metadata": {},
     "output_type": "display_data"
    }
   ],
   "source": [
    "hist(tabla$V1, main=\"Distribución de V1\", xlab=\"V1\")"
   ]
  },
  {
   "cell_type": "code",
   "execution_count": 16,
   "metadata": {
    "collapsed": false
   },
   "outputs": [
    {
     "data": {
      "image/png": "[encoded data removed]",
      "text/plain": [
       "plot without title"
      ]
     },
     "metadata": {},
     "output_type": "display_data"
    }
   ],
   "source": [
    "boxplot(tabla$V1)"
   ]
  },
  {
   "cell_type": "markdown",
   "metadata": {},
   "source": [
    "### Estadistica con R\n",
    "\n",
    "Múltiples funciones estadisticas se encuentran tambien disponibles con funciones precargadas (_built-in_) en R. Como ejemplo de calculos básicos tenemos:"
   ]
  },
  {
   "cell_type": "code",
   "execution_count": 17,
   "metadata": {
    "collapsed": false
   },
   "outputs": [
    {
     "data": {
      "text/html": [
       "4.84615384615385"
      ],
      "text/latex": [
       "4.84615384615385"
      ],
      "text/markdown": [
       "4.84615384615385"
      ],
      "text/plain": [
       "[1] 4.846154"
      ]
     },
     "metadata": {},
     "output_type": "display_data"
    },
    {
     "data": {
      "text/html": [
       "3.15822085585524"
      ],
      "text/latex": [
       "3.15822085585524"
      ],
      "text/markdown": [
       "3.15822085585524"
      ],
      "text/plain": [
       "[1] 3.158221"
      ]
     },
     "metadata": {},
     "output_type": "display_data"
    },
    {
     "data": {
      "text/html": [
       "0"
      ],
      "text/latex": [
       "0"
      ],
      "text/markdown": [
       "0"
      ],
      "text/plain": [
       "[1] 0"
      ]
     },
     "metadata": {},
     "output_type": "display_data"
    },
    {
     "data": {
      "text/html": [
       "10"
      ],
      "text/latex": [
       "10"
      ],
      "text/markdown": [
       "10"
      ],
      "text/plain": [
       "[1] 10"
      ]
     },
     "metadata": {},
     "output_type": "display_data"
    }
   ],
   "source": [
    "mean(tabla$V1) # Media\n",
    "sd(tabla$V1) # Desviación estandar\n",
    "min(tabla$V1) # Mínimo\n",
    "max(tabla$V1) # Máximo"
   ]
  },
  {
   "cell_type": "markdown",
   "metadata": {},
   "source": [
    "No solo encontramos funciones de estadistica descriptiva, sino tambien funciones asociadas a la estadistica inferencial, como las funciones de distribución. Podemos encontrar disponibles como ejemplo, algunas distribuciones de uso bastante común como la distribución normal, chi cuadrado  y binomial. Para más información sobre el uso de R con estas distribuciones consultar con `help` con los argumentos `Normal`, `Chisquare` y `Binomial`."
   ]
  },
  {
   "cell_type": "code",
   "execution_count": 18,
   "metadata": {
    "collapsed": false
   },
   "outputs": [],
   "source": [
    "help(Normal)"
   ]
  },
  {
   "cell_type": "markdown",
   "metadata": {},
   "source": [
    "### Programación  \n",
    "\n",
    "El lenguaje R permite la realización de algoritmos. Para mayor detalle sobre esto puede consultar la ayuda de R o la bibliografía.  "
   ]
  },
  {
   "cell_type": "code",
   "execution_count": 19,
   "metadata": {
    "collapsed": false
   },
   "outputs": [],
   "source": [
    "help(\"Control\")"
   ]
  },
  {
   "cell_type": "code",
   "execution_count": 20,
   "metadata": {
    "collapsed": false
   },
   "outputs": [],
   "source": [
    "help(source)"
   ]
  },
  {
   "cell_type": "code",
   "execution_count": 21,
   "metadata": {
    "collapsed": false
   },
   "outputs": [],
   "source": [
    "help(\"function\")"
   ]
  },
  {
   "cell_type": "markdown",
   "metadata": {},
   "source": [
    "## Bibliografía  \n",
    "\n",
    "1. [The R Project for Statistical Computing](https://www.r-project.org). Consultado el 10 de octubre de 2016.  \n",
    "1. [IRkernel](https://irkernel.github.io). Consultado el 10 de octubre de 2016.  \n",
    "1. [IRkernel github](https://github.com/IRkernel/IRkernel). consultado el 10 de octubre de 2016.  \n",
    "1. [Jupyter and Conda for R](https://www.continuum.io/blog/developer/jupyter-and-conda-r). Consultado el 13 de octubre de 2016.  \n",
    "1. [How to run R on Jupyter ipython Notebooks?](https://discuss.analyticsvidhya.com/t/how-to-run-r-on-jupyter-ipython-notebooks/5512). Consultado el 13 de octubre de 2016.  \n",
    "1. [R Tutor: Introduction](http://www.r-tutor.com/r-introduction). Consultado el 11 de octubre de 2016.  \n",
    "1. [R Tutorial](http://www.cyclismo.org/tutorial/R/), Cyclismo. Consultado el 11 de octubre de 2016.  \n",
    "1. [R Tutor: Probability distributions](http://www.r-tutor.com/elementary-statistics/probability-distributions). Consultado el 13 de octubre.  \n",
    "1. R in Action.  \n",
    "1. [Rseek](http://rseek.org). Buscados especializado de R.  "
   ]
  }
 ],
 "metadata": {
  "kernelspec": {
   "display_name": "R",
   "language": "R",
   "name": "ir"
  },
  "language_info": {
   "codemirror_mode": "r",
   "file_extension": ".r",
   "mimetype": "text/x-r-source",
   "name": "R",
   "pygments_lexer": "r",
   "version": "3.2.3"
  }
 },
 "nbformat": 4,
 "nbformat_minor": 1
}
