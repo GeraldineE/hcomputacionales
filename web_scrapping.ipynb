{
 "cells": [
  {
   "cell_type": "markdown",
   "metadata": {},
   "source": [
    "# Extracción de datos web (_Web scrapping_)  \n",
    "\n",
    "Ante la generación masiva a traves de la red es importante tener herramientas que permitan la extracción de datos a partir de fuentes cuya ubicación es esta. De esto se trata el _web scrapping_.  \n",
    "\n",
    "Se pueden tener elementos poco especificos mediante las mismas alternativas del procesamiento de texto para algunos casos, sin embargo esto no siempre será efectivo ni eficiente. Por ejemplo, podemos usar `wget` para descargar una página y hacer la búsqueda de elementos `html` en ella por medio de expresiones regulares, pero la descarga de la página implica que el contenido debio ser estatico. Igualmente, las expresiones regulares no son la mejor herramienta siempre, y es más eficiente usar elementos especialmente diseñados para recorrer la estructura html sin depender de la generación de expresiones de coincidencia sino obedeciendo exclusivamente a los patrones que ya sabemos que existirán por defecto.  \n",
    "\n",
    "## Herramientas (en python)\n",
    "\n",
    "Para esta labor contamos con algunas herramientas como lo son:  \n",
    "\n",
    "+ `urllib`: Modulo incluido en python para la recuperación de contenido de una url.  \n",
    "+ `webbrowser`: Modulo incluido en python para la apertura de url's en una instancia del navegador predefinido.  \n",
    "+ `html`: Modulo incluido en python para el analisis sintactico html.  \n",
    "+ Request: Reemplazo externo para `urllib` con mayores caracteristicas.  \n",
    "+ Beautiful Soup: Reemplazo externo para `html` con mayores caracteristicas.  \n",
    "+ Selenium: Reemplazo externo para `webbrowser` con mayores caracteristicas.  \n",
    "+ Wget: _Port_ de `wget` para python.  \n",
    "\n",
    "## Instalar requisitos\n",
    "\n",
    "Primero que todo, partimos que ya tenemos instalado al menos un navegador (firefox por defecto en la mayor parte de las distribuciones linux). Se puede trabajar con otros navegadores, y es de especial interes PhantomJS, una opción de navegador que no genera interface gráfica, ideal para pruebas o automatización (en caso de ser molesto que el navegador se vea abrir y cerrar, etc...).  \n",
    "\n",
    "    pip install selenium beautifulsoup4 Requests"
   ]
  },
  {
   "cell_type": "markdown",
   "metadata": {},
   "source": [
    "## Aplicando"
   ]
  },
  {
   "cell_type": "code",
   "execution_count": 19,
   "metadata": {
    "collapsed": true
   },
   "outputs": [],
   "source": [
    "import webbrowser"
   ]
  },
  {
   "cell_type": "code",
   "execution_count": 3,
   "metadata": {
    "collapsed": false
   },
   "outputs": [
    {
     "data": {
      "text/plain": [
       "True"
      ]
     },
     "execution_count": 3,
     "metadata": {},
     "output_type": "execute_result"
    }
   ],
   "source": [
    "webbrowser.open('http://github.com/')"
   ]
  },
  {
   "cell_type": "code",
   "execution_count": 5,
   "metadata": {
    "collapsed": false
   },
   "outputs": [
    {
     "name": "stdout",
     "output_type": "stream",
     "text": [
      "﻿Project Gutenberg's Latin for Beginners, by Benjamin Leonard D'Ooge\r\n",
      "\r\n",
      "This eBook is for the use of anyone anywhere at no cost and with\r\n",
      "almost no restrictions whatsoever.  You may copy it, give it away or\r\n",
      "re-use it under the terms of the Project G\n"
     ]
    }
   ],
   "source": [
    "import requests\n",
    "res = requests.get('http://www.gutenberg.org/files/18251/18251-0.txt')\n",
    "res.status_code == requests.codes.ok # Validar código 200 (ok)\n",
    "type(res)\n",
    "len(res.text)\n",
    "print(res.text[:250])"
   ]
  },
  {
   "cell_type": "code",
   "execution_count": 15,
   "metadata": {
    "collapsed": false
   },
   "outputs": [
    {
     "ename": "HTTPError",
     "evalue": "404 Client Error: Not Found for url: https://github.com/yomeinventoesto",
     "output_type": "error",
     "traceback": [
      "\u001b[0;31m---------------------------------------------------------------------------\u001b[0m",
      "\u001b[0;31mHTTPError\u001b[0m                                 Traceback (most recent call last)",
      "\u001b[0;32m<ipython-input-15-577eab1b3e67>\u001b[0m in \u001b[0;36m<module>\u001b[0;34m()\u001b[0m\n\u001b[1;32m      1\u001b[0m \u001b[0mres\u001b[0m \u001b[0;34m=\u001b[0m \u001b[0mrequests\u001b[0m\u001b[0;34m.\u001b[0m\u001b[0mget\u001b[0m\u001b[0;34m(\u001b[0m\u001b[0;34m'http://github.com/yomeinventoesto'\u001b[0m\u001b[0;34m)\u001b[0m\u001b[0;34m\u001b[0m\u001b[0m\n\u001b[0;32m----> 2\u001b[0;31m \u001b[0mres\u001b[0m\u001b[0;34m.\u001b[0m\u001b[0mraise_for_status\u001b[0m\u001b[0;34m(\u001b[0m\u001b[0;34m)\u001b[0m\u001b[0;34m\u001b[0m\u001b[0m\n\u001b[0m",
      "\u001b[0;32m/usr/local/lib/python3.5/dist-packages/requests/models.py\u001b[0m in \u001b[0;36mraise_for_status\u001b[0;34m(self)\u001b[0m\n\u001b[1;32m    860\u001b[0m \u001b[0;34m\u001b[0m\u001b[0m\n\u001b[1;32m    861\u001b[0m         \u001b[0;32mif\u001b[0m \u001b[0mhttp_error_msg\u001b[0m\u001b[0;34m:\u001b[0m\u001b[0;34m\u001b[0m\u001b[0m\n\u001b[0;32m--> 862\u001b[0;31m             \u001b[0;32mraise\u001b[0m \u001b[0mHTTPError\u001b[0m\u001b[0;34m(\u001b[0m\u001b[0mhttp_error_msg\u001b[0m\u001b[0;34m,\u001b[0m \u001b[0mresponse\u001b[0m\u001b[0;34m=\u001b[0m\u001b[0mself\u001b[0m\u001b[0;34m)\u001b[0m\u001b[0;34m\u001b[0m\u001b[0m\n\u001b[0m\u001b[1;32m    863\u001b[0m \u001b[0;34m\u001b[0m\u001b[0m\n\u001b[1;32m    864\u001b[0m     \u001b[0;32mdef\u001b[0m \u001b[0mclose\u001b[0m\u001b[0;34m(\u001b[0m\u001b[0mself\u001b[0m\u001b[0;34m)\u001b[0m\u001b[0;34m:\u001b[0m\u001b[0;34m\u001b[0m\u001b[0m\n",
      "\u001b[0;31mHTTPError\u001b[0m: 404 Client Error: Not Found for url: https://github.com/yomeinventoesto"
     ]
    }
   ],
   "source": [
    "res = requests.get('http://github.com/yomeinventoesto')\n",
    "res.raise_for_status()"
   ]
  },
  {
   "cell_type": "code",
   "execution_count": 18,
   "metadata": {
    "collapsed": false
   },
   "outputs": [],
   "source": [
    "res = requests.get('http://www.programmableweb.com/sites/default/files/github-jupyter.jpg')\n",
    "archivo_imagen = open('github-jupyter.jpg', 'wb')\n",
    "for bloques in res.iter_content(100000):\n",
    "    archivo_imagen.write(bloques)\n",
    "archivo_imagen.close()"
   ]
  },
  {
   "cell_type": "markdown",
   "metadata": {},
   "source": [
    "![github jupyter](github-jupyter.jpg)"
   ]
  },
  {
   "cell_type": "code",
   "execution_count": 20,
   "metadata": {
    "collapsed": true
   },
   "outputs": [],
   "source": [
    "import bs4"
   ]
  },
  {
   "cell_type": "code",
   "execution_count": 57,
   "metadata": {
    "collapsed": false
   },
   "outputs": [
    {
     "data": {
      "text/plain": [
       "bs4.BeautifulSoup"
      ]
     },
     "execution_count": 57,
     "metadata": {},
     "output_type": "execute_result"
    }
   ],
   "source": [
    "res = requests.get('https://github.com/cosmoscalibur/herramientas_computacionales')\n",
    "gh = bs4.BeautifulSoup(res.text, \"lxml\") # tambien es posible desde un archivo abierto\n",
    "type(gh)"
   ]
  },
  {
   "cell_type": "code",
   "execution_count": 51,
   "metadata": {
    "collapsed": false
   },
   "outputs": [
    {
     "data": {
      "text/plain": [
       "bs4.element.ResultSet"
      ]
     },
     "execution_count": 51,
     "metadata": {},
     "output_type": "execute_result"
    }
   ],
   "source": [
    "tabla_archivos = gh.find_all('td', {'class':'content'})\n",
    "type(tabla_archivos)"
   ]
  },
  {
   "cell_type": "code",
   "execution_count": 52,
   "metadata": {
    "collapsed": false
   },
   "outputs": [
    {
     "data": {
      "text/plain": [
       "23"
      ]
     },
     "execution_count": 52,
     "metadata": {},
     "output_type": "execute_result"
    }
   ],
   "source": [
    "len(tabla_archivos)"
   ]
  },
  {
   "cell_type": "code",
   "execution_count": 53,
   "metadata": {
    "collapsed": false,
    "scrolled": true
   },
   "outputs": [
    {
     "name": "stdout",
     "output_type": "stream",
     "text": [
      "[<td class=\"content\" colspan=\"3\">Failed to load latest commit information.</td>, <td class=\"content\">\n",
      "<span class=\"css-truncate css-truncate-target\"><a class=\"js-navigation-open\" href=\"/cosmoscalibur/herramientas_computacionales/blob/master/.gitignore\" id=\"a084b794bc0759e7a6b77810e01874f2-8cec0970c2bcc6a64ca702e6ace3072bec1db708\" title=\".gitignore\">.gitignore</a></span>\n",
      "</td>, <td class=\"content\">\n",
      "<span class=\"css-truncate css-truncate-target\"><a class=\"js-navigation-open\" href=\"/cosmoscalibur/herramientas_computacionales/blob/master/Git.ipynb\" id=\"c24916e53ed7ca5bfbd5552ec60b9864-c89b09c88c856d8d41558fa24d8da697173a834c\" title=\"Git.ipynb\">Git.ipynb</a></span>\n",
      "</td>, <td class=\"content\">\n",
      "<span class=\"css-truncate css-truncate-target\"><a class=\"js-navigation-open\" href=\"/cosmoscalibur/herramientas_computacionales/blob/master/Jupyter%20Notebook%20Basico.ipynb\" id=\"56994abf3c173eef1f731f415a113e73-649ceea4101089ff2d9e22c518e09e713604115a\" title=\"Jupyter Notebook Basico.ipynb\">Jupyter Notebook Basico.ipynb</a></span>\n",
      "</td>, <td class=\"content\">\n",
      "<span class=\"css-truncate css-truncate-target\"><a class=\"js-navigation-open\" href=\"/cosmoscalibur/herramientas_computacionales/blob/master/Jupyter%20Notebook%20Intermedio.ipynb\" id=\"ffc05e347c4818563b4f8fe19ecf90f5-639517140f687747088d911f602f1ed76aea5d13\" title=\"Jupyter Notebook Intermedio.ipynb\">Jupyter Notebook Intermedio.ipynb</a></span>\n",
      "</td>, <td class=\"content\">\n",
      "<span class=\"css-truncate css-truncate-target\"><a class=\"js-navigation-open\" href=\"/cosmoscalibur/herramientas_computacionales/blob/master/LICENSE\" id=\"9879d6db96fd29134fc802214163b95a-cd3541098e80cceefd8bca945781da52d50826ae\" itemprop=\"license\" title=\"LICENSE\">LICENSE</a></span>\n",
      "</td>, <td class=\"content\">\n",
      "<span class=\"css-truncate css-truncate-target\"><a class=\"js-navigation-open\" href=\"/cosmoscalibur/herramientas_computacionales/blob/master/LaTeX_basico.pdf\" id=\"445e300dd1ef8a87aca1c1f559f6d865-04e35031b5713ccaa5eca1aec68cee2fe0709006\" title=\"LaTeX_basico.pdf\">LaTeX_basico.pdf</a></span>\n",
      "</td>, <td class=\"content\">\n",
      "<span class=\"css-truncate css-truncate-target\"><a class=\"js-navigation-open\" href=\"/cosmoscalibur/herramientas_computacionales/blob/master/LaTeX_basico.tex\" id=\"d183b1b27b2723139e34a2c2c2563d3b-16930e488482ae4f67e88156c0e24c35b4d1a3c6\" title=\"LaTeX_basico.tex\">LaTeX_basico.tex</a></span>\n",
      "</td>, <td class=\"content\">\n",
      "<span class=\"css-truncate css-truncate-target\"><a class=\"js-navigation-open\" href=\"/cosmoscalibur/herramientas_computacionales/blob/master/Linux%20Bash.ipynb\" id=\"ae97da1784350f80f600c7a109ee6021-f5c0a06f7de9516a809c6978b59dd966d71015ed\" title=\"Linux Bash.ipynb\">Linux Bash.ipynb</a></span>\n",
      "</td>, <td class=\"content\">\n",
      "<span class=\"css-truncate css-truncate-target\"><a class=\"js-navigation-open\" href=\"/cosmoscalibur/herramientas_computacionales/blob/master/Linux%20Basico.ipynb\" id=\"67a20284f502e3f94cd48308516bece6-84b42c08ef7ecfa057f547a1b8aed4e7274b7665\" title=\"Linux Basico.ipynb\">Linux Basico.ipynb</a></span>\n",
      "</td>, <td class=\"content\">\n",
      "<span class=\"css-truncate css-truncate-target\"><a class=\"js-navigation-open\" href=\"/cosmoscalibur/herramientas_computacionales/blob/master/README.md\" id=\"04c6e90faac2675aa89e2176d2eec7d8-a7ef4975f70435aebf7a78f843df649b2006ac49\" title=\"README.md\">README.md</a></span>\n",
      "</td>, <td class=\"content\">\n",
      "<span class=\"css-truncate css-truncate-target\"><a class=\"js-navigation-open\" href=\"/cosmoscalibur/herramientas_computacionales/blob/master/Taller%202.ipynb\" id=\"c8c5c5d4c5e777f6e5c9afce0c93b914-74b7bfd7c84c3584a7705dcb65c039e4a52d44c7\" title=\"Taller 2.ipynb\">Taller 2.ipynb</a></span>\n",
      "</td>, <td class=\"content\">\n",
      "<span class=\"css-truncate css-truncate-target\"><a class=\"js-navigation-open\" href=\"/cosmoscalibur/herramientas_computacionales/blob/master/Taller_1.ipynb\" id=\"a2d98432a2dd74e6da65ef2b01d97d2b-7f87ae84127c54145c1b3aee94001a3a5aca174c\" title=\"Taller_1.ipynb\">Taller_1.ipynb</a></span>\n",
      "</td>, <td class=\"content\">\n",
      "<span class=\"css-truncate css-truncate-target\"><a class=\"js-navigation-open\" href=\"/cosmoscalibur/herramientas_computacionales/blob/master/Taller_2b.ipynb\" id=\"03c22421ec258450512d4e973041e20a-79612b0d65804f5e9803170f3b730bac87ffb890\" title=\"Taller_2b.ipynb\">Taller_2b.ipynb</a></span>\n",
      "</td>, <td class=\"content\">\n",
      "<span class=\"css-truncate css-truncate-target\"><a class=\"js-navigation-open\" href=\"/cosmoscalibur/herramientas_computacionales/blob/master/algebra_computacional.ipynb\" id=\"4484cecc709691bd6f7aa604fa5e619d-6990c171d5cfa11a4d226871f107a7ed02072ac3\" title=\"algebra_computacional.ipynb\">algebra_computacional.ipynb</a></span>\n",
      "</td>, <td class=\"content\">\n",
      "<span class=\"css-truncate css-truncate-target\"><a class=\"js-navigation-open\" href=\"/cosmoscalibur/herramientas_computacionales/blob/master/datos_abiertos.md\" id=\"11f66d58f88e6022a18fe1cbf9b3bbf4-674de9d4da47adb771217176e8d61bf4eba7b229\" title=\"datos_abiertos.md\">datos_abiertos.md</a></span>\n",
      "</td>, <td class=\"content\">\n",
      "<span class=\"css-truncate css-truncate-target\"><a class=\"js-navigation-open\" href=\"/cosmoscalibur/herramientas_computacionales/blob/master/historial_talleres.md\" id=\"3919bdb26f7850379608f0e7af744435-fc388602643c20e3ef3d7925aa09a7f3231e34d8\" title=\"historial_talleres.md\">historial_talleres.md</a></span>\n",
      "</td>, <td class=\"content\">\n",
      "<span class=\"css-truncate css-truncate-target\"><a class=\"js-navigation-open\" href=\"/cosmoscalibur/herramientas_computacionales/blob/master/hoja_de_ruta.md\" id=\"200c2939ccd869061076b9c85f6ab4e5-305785f623ff51f59ab2cbf1d300128c8adfed21\" title=\"hoja_de_ruta.md\">hoja_de_ruta.md</a></span>\n",
      "</td>, <td class=\"content\">\n",
      "<span class=\"css-truncate css-truncate-target\"><a class=\"js-navigation-open\" href=\"/cosmoscalibur/herramientas_computacionales/blob/master/jupyter.png\" id=\"965598871a36b41718db396637a2afe8-480932523cd389416c1b7dfffb8b0580616e9051\" title=\"jupyter.png\">jupyter.png</a></span>\n",
      "</td>, <td class=\"content\">\n",
      "<span class=\"css-truncate css-truncate-target\"><a class=\"js-navigation-open\" href=\"/cosmoscalibur/herramientas_computacionales/blob/master/parcial_20162.ipynb\" id=\"4245f6099a56e981bc61aca730750898-8fb3a0e2b63a9482a1e3bfe8c3489463176fb86f\" title=\"parcial_20162.ipynb\">parcial_20162.ipynb</a></span>\n",
      "</td>, <td class=\"content\">\n",
      "<span class=\"css-truncate css-truncate-target\"><a class=\"js-navigation-open\" href=\"/cosmoscalibur/herramientas_computacionales/blob/master/presentacion_herramientas.md\" id=\"aa6132db9bd8b7f9301a40f9347bacc3-817b6de1714a3015409eddbd7b4a25d0931600c4\" title=\"presentacion_herramientas.md\">presentacion_herramientas.md</a></span>\n",
      "</td>, <td class=\"content\">\n",
      "<span class=\"css-truncate css-truncate-target\"><a class=\"js-navigation-open\" href=\"/cosmoscalibur/herramientas_computacionales/blob/master/presentacion_herramientas.pdf\" id=\"ea954fc320ec5367eada917c2a7ea830-863d377c11b1f42916382e510ca853fa80371538\" title=\"presentacion_herramientas.pdf\">presentacion_herramientas.pdf</a></span>\n",
      "</td>, <td class=\"content\">\n",
      "<span class=\"css-truncate css-truncate-target\"><a class=\"js-navigation-open\" href=\"/cosmoscalibur/herramientas_computacionales/blob/master/procesamiento_de_texto.ipynb\" id=\"fa6d566a808c31e0fc9045b530040e88-a14c94d5ce44f69024491a037df19e7768f61d4b\" title=\"procesamiento_de_texto.ipynb\">procesamiento_de_texto.ipynb</a></span>\n",
      "</td>]\n"
     ]
    }
   ],
   "source": [
    "print(tabla_archivos)"
   ]
  },
  {
   "cell_type": "code",
   "execution_count": 104,
   "metadata": {
    "collapsed": false
   },
   "outputs": [
    {
     "name": "stdout",
     "output_type": "stream",
     "text": [
      ".gitignore\n",
      "Git.ipynb\n",
      "Jupyter Notebook Basico.ipynb\n",
      "Jupyter Notebook Intermedio.ipynb\n",
      "LICENSE\n",
      "LaTeX_basico.pdf\n",
      "LaTeX_basico.tex\n",
      "Linux Bash.ipynb\n",
      "Linux Basico.ipynb\n",
      "README.md\n",
      "Taller 2.ipynb\n",
      "Taller_1.ipynb\n",
      "Taller_2b.ipynb\n",
      "algebra_computacional.ipynb\n",
      "datos_abiertos.md\n",
      "historial_talleres.md\n",
      "hoja_de_ruta.md\n",
      "jupyter.png\n",
      "parcial_20162.ipynb\n",
      "presentacion_herramientas.md\n",
      "presentacion_herramientas.pdf\n",
      "procesamiento_de_texto.ipynb\n"
     ]
    }
   ],
   "source": [
    "for content in tabla_archivos:\n",
    "    lineas_a = content('a')\n",
    "    if lineas_a:\n",
    "        print(lineas_a[0].string)"
   ]
  },
  {
   "cell_type": "code",
   "execution_count": 111,
   "metadata": {
    "collapsed": true
   },
   "outputs": [],
   "source": [
    "from selenium import webdriver"
   ]
  },
  {
   "cell_type": "code",
   "execution_count": 112,
   "metadata": {
    "collapsed": false
   },
   "outputs": [
    {
     "name": "stdout",
     "output_type": "stream",
     "text": [
      "<!DOCTYPE html><html xmlns=\"http://www.w3.org/1999/xhtml\" lang=\"en\" class=\" is-copy-enabled is-u2f-enabled\"><head prefix=\"og: http://ogp.me/ns# fb: http://ogp.me/ns/fb# object: http://ogp.me/ns/object# article: http://ogp.me/ns/article# profile: http://ogp.me/ns/profile#\">\n",
      "    <meta charset=\"utf-8\" />\n",
      "    <meta content=\"origin-when-cross-origin\" name=\"referrer\" />\n",
      "\n",
      "    <link crossorigin=\"anonymous\" href=\"https://assets-cdn.github.com/assets/frameworks-4242846376d46c90f210115e02415cbb40cdaf46291ec9fff638250c75f1ce30.css\" integrity=\"sha256-QkKEY3bUbJDyEBFeAkFcu0DNr0YpHsn/9jglDHXxzjA=\" media=\"all\" rel=\"stylesheet\" />\n",
      "    <link crossorigin=\"anonymous\" href=\"https://assets-cdn.github.com/assets/github-9077fcc535b78561667f9bdd5d347613c01c8dbe201b295f4421de92d8b25c6e.css\" integrity=\"sha256-kHf8xTW3hWFmf5vdXTR2E8Acjb4gGylfRCHektiyXG4=\" media=\"all\" rel=\"stylesheet\" />\n",
      "    \n",
      "    \n",
      "    <link crossorigin=\"anonymous\" href=\"https://assets-cdn.github.com/assets/site-783af31b5d8193281cc058ff5104b6ae774ced24748f920e96e403caf37a4cde.css\" integrity=\"sha256-eDrzG12BkygcwFj/UQS2rndM7SR0j5IOluQDyvN6TN4=\" media=\"all\" rel=\"stylesheet\" />\n",
      "    \n",
      "\n",
      "    <link as=\"script\" href=\"https://assets-cdn.github.com/assets/frameworks-3d113c9478deeffb55d88e7d5729a679d5c9374d71a1e8525e0cd2ba5ac8afa2.js\" rel=\"preload\" />\n",
      "    \n",
      "    <link as=\"script\" href=\"https://assets-cdn.github.com/assets/github-1d58c98a1c41deade18d47097dd3d0a8a010a86e5bebcace37f1a752187eadcd.js\" rel=\"preload\" />\n",
      "\n",
      "    <meta http-equiv=\"X-UA-Compatible\" content=\"IE=edge\" />\n",
      "    <meta http-equiv=\"Content-Language\" content=\"en\" />\n",
      "    <meta name=\"viewport\" content=\"width=device-width\" />\n",
      "    \n",
      "    <title>How people build software · GitHub</title>\n",
      "    <link rel=\"search\" type=\"application/opensearchdescription+xml\" href=\"/opensearch.xml\" title=\"GitHub\" />\n",
      "    <link rel=\"fluid-icon\" href=\"https://github.com/fluidicon.png\" title=\"GitHub\" />\n",
      "    <link rel=\"apple-touch-icon\" href=\"/apple-touch-icon.png\" />\n",
      "    <link rel=\"apple-touch-icon\" sizes=\"57x57\" href=\"/apple-touch-icon-57x57.png\" />\n",
      "    <link rel=\"apple-touch-icon\" sizes=\"60x60\" href=\"/apple-touch-icon-60x60.png\" />\n",
      "    <link rel=\"apple-touch-icon\" sizes=\"72x72\" href=\"/apple-touch-icon-72x72.png\" />\n",
      "    <link rel=\"apple-touch-icon\" sizes=\"76x76\" href=\"/apple-touch-icon-76x76.png\" />\n",
      "    <link rel=\"apple-touch-icon\" sizes=\"114x114\" href=\"/apple-touch-icon-114x114.png\" />\n",
      "    <link rel=\"apple-touch-icon\" sizes=\"120x120\" href=\"/apple-touch-icon-120x120.png\" />\n",
      "    <link rel=\"apple-touch-icon\" sizes=\"144x144\" href=\"/apple-touch-icon-144x144.png\" />\n",
      "    <link rel=\"apple-touch-icon\" sizes=\"152x152\" href=\"/apple-touch-icon-152x152.png\" />\n",
      "    <link rel=\"apple-touch-icon\" sizes=\"180x180\" href=\"/apple-touch-icon-180x180.png\" />\n",
      "    <meta property=\"fb:app_id\" content=\"1401488693436528\" />\n",
      "\n",
      "      <meta property=\"og:url\" content=\"https://github.com\" />\n",
      "      <meta property=\"og:site_name\" content=\"GitHub\" />\n",
      "      <meta property=\"og:title\" content=\"Build software better, together\" />\n",
      "      <meta property=\"og:description\" content=\"GitHub is where people build software. More than 15 million people use GitHub to discover, fork, and contribute to over 38 million projects.\" />\n",
      "      <meta property=\"og:image\" content=\"https://assets-cdn.github.com/images/modules/open_graph/github-logo.png\" />\n",
      "      <meta property=\"og:image:type\" content=\"image/png\" />\n",
      "      <meta property=\"og:image:width\" content=\"1200\" />\n",
      "      <meta property=\"og:image:height\" content=\"1200\" />\n",
      "      <meta property=\"og:image\" content=\"https://assets-cdn.github.com/images/modules/open_graph/github-mark.png\" />\n",
      "      <meta property=\"og:image:type\" content=\"image/png\" />\n",
      "      <meta property=\"og:image:width\" content=\"1200\" />\n",
      "      <meta property=\"og:image:height\" content=\"620\" />\n",
      "      <meta property=\"og:image\" content=\"https://assets-cdn.github.com/images/modules/open_graph/github-octocat.png\" />\n",
      "      <meta property=\"og:image:type\" content=\"image/png\" />\n",
      "      <meta property=\"og:image:width\" content=\"1200\" />\n",
      "      <meta property=\"og:image:height\" content=\"620\" />\n",
      "      <meta property=\"twitter:site\" content=\"github\" />\n",
      "      <meta property=\"twitter:site:id\" content=\"13334762\" />\n",
      "      <meta property=\"twitter:creator\" content=\"github\" />\n",
      "      <meta property=\"twitter:creator:id\" content=\"13334762\" />\n",
      "      <meta property=\"twitter:card\" content=\"summary_large_image\" />\n",
      "      <meta property=\"twitter:title\" content=\"GitHub\" />\n",
      "      <meta property=\"twitter:description\" content=\"GitHub is where people build software. More than 15 million people use GitHub to discover, fork, and contribute to over 38 million projects.\" />\n",
      "      <meta property=\"twitter:image:src\" content=\"https://assets-cdn.github.com/images/modules/open_graph/github-logo.png\" />\n",
      "      <meta property=\"twitter:image:width\" content=\"1200\" />\n",
      "      <meta property=\"twitter:image:height\" content=\"1200\" />\n",
      "      <meta name=\"browser-stats-url\" content=\"https://api.github.com/_private/browser/stats\" />\n",
      "    <meta name=\"browser-errors-url\" content=\"https://api.github.com/_private/browser/errors\" />\n",
      "    <link rel=\"assets\" href=\"https://assets-cdn.github.com/\" />\n",
      "    \n",
      "    <meta name=\"pjax-timeout\" content=\"1000\" />\n",
      "    \n",
      "    <meta name=\"request-id\" content=\"C9E91253:5061:1780AA9:57F4FD68\" data-pjax-transient=\"\" />\n",
      "\n",
      "    <meta name=\"msapplication-TileImage\" content=\"/windows-tile.png\" />\n",
      "    <meta name=\"msapplication-TileColor\" content=\"#ffffff\" />\n",
      "    <meta name=\"selected-link\" value=\"/\" data-pjax-transient=\"\" />\n",
      "\n",
      "    <meta name=\"google-site-verification\" content=\"KT5gs8h0wvaagLKAVWq8bbeNwnZZK1r1XQysX3xurLU\" />\n",
      "<meta name=\"google-site-verification\" content=\"ZzhVyEFwb7w3e0-uOTltm8Jsck2F5StVihD0exw2fsA\" />\n",
      "    <meta name=\"google-analytics\" content=\"UA-3769691-2\" />\n",
      "\n",
      "<meta content=\"collector.githubapp.com\" name=\"octolytics-host\" /><meta content=\"github\" name=\"octolytics-app-id\" /><meta content=\"C9E91253:5061:1780AA9:57F4FD68\" name=\"octolytics-dimension-request_id\" />\n",
      "\n",
      "\n",
      "\n",
      "\n",
      "  <meta class=\"js-ga-set\" name=\"dimension1\" content=\"Logged Out\" />\n",
      "\n",
      "\n",
      "\n",
      "        <meta name=\"hostname\" content=\"github.com\" />\n",
      "    <meta name=\"user-login\" content=\"\" />\n",
      "\n",
      "        <meta name=\"expected-hostname\" content=\"github.com\" />\n",
      "      <meta name=\"js-proxy-site-detection-payload\" content=\"NmZlMzNiYTRhOTIzMzdiNDc1ZmQwYmQzYzMxZGVlZWZiMThhNzI5NjUyZjAzMTVlZmIyODI5MzRkZjBhMDM5Ynx7InJlbW90ZV9hZGRyZXNzIjoiMjAxLjIzMy4xOC44MyIsInJlcXVlc3RfaWQiOiJDOUU5MTI1Mzo1MDYxOjE3ODBBQTk6NTdGNEZENjgiLCJ0aW1lc3RhbXAiOjE0NzU2NzM0NDl9\" />\n",
      "\n",
      "\n",
      "      <link rel=\"mask-icon\" href=\"https://assets-cdn.github.com/pinned-octocat.svg\" color=\"#4078c0\" />\n",
      "      <link rel=\"icon\" type=\"image/x-icon\" href=\"https://assets-cdn.github.com/favicon.ico\" />\n",
      "\n",
      "    <meta name=\"html-safe-nonce\" content=\"13a8c136bc981ecda2c01e57454f424cc7a73d09\" />\n",
      "    <meta content=\"a5f74d53c85f6b4ea6f315e29b1c1d7392628b37\" name=\"form-nonce\" />\n",
      "\n",
      "    <meta http-equiv=\"x-pjax-version\" content=\"eef30995b62a9108e88c7066adc36ed8\" />\n",
      "    \n",
      "\n",
      "        <meta name=\"viewport\" content=\"width=device-width\" />\n",
      "  <link crossorigin=\"anonymous\" href=\"https://assets-cdn.github.com/assets/site-783af31b5d8193281cc058ff5104b6ae774ced24748f920e96e403caf37a4cde.css\" integrity=\"sha256-eDrzG12BkygcwFj/UQS2rndM7SR0j5IOluQDyvN6TN4=\" media=\"all\" rel=\"stylesheet\" />\n",
      "\n",
      "\n",
      "      <link rel=\"canonical\" href=\"https://github.com/\" data-pjax-transient=\"\" />\n",
      "  </head>\n",
      "\n",
      "\n",
      "  <body class=\"logged-out  env-production linux  page-responsive sn-grid min-width-0\">\n",
      "    <div id=\"js-pjax-loader-bar\" class=\"pjax-loader-bar\"><div class=\"progress\"></div></div>\n",
      "    <a href=\"#start-of-content\" tabindex=\"1\" class=\"accessibility-aid js-skip-to-content\">Skip to content</a>\n",
      "\n",
      "    \n",
      "    \n",
      "    \n",
      "\n",
      "\n",
      "\n",
      "          <header class=\"site-header js-details-container\" role=\"banner\">\n",
      "  <div class=\"container-responsive\">\n",
      "    <a class=\"header-logo-invertocat\" href=\"https://github.com/\" aria-label=\"Homepage\" data-ga-click=\"(Logged out) Header, go to homepage, icon:logo-wordmark\">\n",
      "      <svg xmlns=\"http://www.w3.org/2000/svg\" aria-hidden=\"true\" class=\"octicon octicon-mark-github\" height=\"32\" version=\"1.1\" viewBox=\"0 0 16 16\" width=\"32\"><path d=\"M8 0C3.58 0 0 3.58 0 8c0 3.54 2.29 6.53 5.47 7.59.4.07.55-.17.55-.38 0-.19-.01-.82-.01-1.49-2.01.37-2.53-.49-2.69-.94-.09-.23-.48-.94-.82-1.13-.28-.15-.68-.52-.01-.53.63-.01 1.08.58 1.23.82.72 1.21 1.87.87 2.33.66.07-.52.28-.87.51-1.07-1.78-.2-3.64-.89-3.64-3.95 0-.87.31-1.59.82-2.15-.08-.2-.36-1.02.08-2.12 0 0 .67-.21 2.2.82.64-.18 1.32-.27 2-.27.68 0 1.36.09 2 .27 1.53-1.04 2.2-.82 2.2-.82.44 1.1.16 1.92.08 2.12.51.56.82 1.27.82 2.15 0 3.07-1.87 3.75-3.65 3.95.29.25.54.73.54 1.48 0 1.07-.01 1.93-.01 2.2 0 .21.15.46.55.38A8.013 8.013 0 0 0 16 8c0-4.42-3.58-8-8-8z\"/></svg>\n",
      "    </a>\n",
      "\n",
      "    <button class=\"btn-link float-right site-header-toggle js-details-target\" type=\"button\" aria-label=\"Toggle navigation\">\n",
      "      <svg xmlns=\"http://www.w3.org/2000/svg\" aria-hidden=\"true\" class=\"octicon octicon-three-bars\" height=\"24\" version=\"1.1\" viewBox=\"0 0 12 16\" width=\"18\"><path d=\"M11.41 9H.59C0 9 0 8.59 0 8c0-.59 0-1 .59-1H11.4c.59 0 .59.41.59 1 0 .59 0 1-.59 1h.01zm0-4H.59C0 5 0 4.59 0 4c0-.59 0-1 .59-1H11.4c.59 0 .59.41.59 1 0 .59 0 1-.59 1h.01zM.59 11H11.4c.59 0 .59.41.59 1 0 .59 0 1-.59 1H.59C0 13 0 12.59 0 12c0-.59 0-1 .59-1z\"/></svg>\n",
      "    </button>\n",
      "\n",
      "    <div class=\"site-header-menu\">\n",
      "      <nav class=\"site-header-nav site-header-nav-main\">\n",
      "        <a href=\"/personal\" class=\"js-selected-navigation-item nav-item nav-item-personal\" data-ga-click=\"Header, click, Nav menu - item:personal\" data-selected-links=\"/personal /personal\">\n",
      "          Personal\n",
      "</a>        <a href=\"/open-source\" class=\"js-selected-navigation-item nav-item nav-item-opensource\" data-ga-click=\"Header, click, Nav menu - item:opensource\" data-selected-links=\"/open-source /open-source\">\n",
      "          Open source\n",
      "</a>        <a href=\"/business\" class=\"js-selected-navigation-item nav-item nav-item-business\" data-ga-click=\"Header, click, Nav menu - item:business\" data-selected-links=\"/business /business/partners /business/features /business/customers /business\">\n",
      "          Business\n",
      "</a>        <a href=\"/explore\" class=\"js-selected-navigation-item nav-item nav-item-explore\" data-ga-click=\"Header, click, Nav menu - item:explore\" data-selected-links=\"/explore /trending /trending/developers /integrations /integrations/feature/code /integrations/feature/collaborate /integrations/feature/ship /explore\">\n",
      "          Explore\n",
      "</a>      </nav>\n",
      "\n",
      "      <div class=\"site-header-actions\">\n",
      "            <a class=\"btn btn-primary site-header-actions-btn\" href=\"/join?source=header-home\" data-ga-click=\"(Logged out) Header, clicked Sign up, text:sign-up\">Sign up</a>\n",
      "          <a class=\"btn site-header-actions-btn mr-2\" href=\"/login\" data-ga-click=\"(Logged out) Header, clicked Sign in, text:sign-in\">Sign in</a>\n",
      "      </div>\n",
      "\n",
      "        <nav class=\"site-header-nav site-header-nav-secondary\">\n",
      "          <a class=\"nav-item\" href=\"/pricing\">Pricing</a>\n",
      "          <a class=\"nav-item\" href=\"/blog\">Blog</a>\n",
      "          <a class=\"nav-item\" href=\"https://help.github.com\">Support</a>\n",
      "          <a class=\"nav-item header-search-link\" href=\"https://github.com/search\">Search GitHub</a>\n",
      "              <div class=\"header-search   js-site-search\" role=\"search\">\n",
      "  <!-- </textarea> --><!-- '\"` --><form accept-charset=\"UTF-8\" action=\"/search\" class=\"js-site-search-form\" data-unscoped-search-url=\"/search\" method=\"get\"><div style=\"margin:0;padding:0;display:inline\"><input name=\"utf8\" type=\"hidden\" value=\"✓\" /></div>\n",
      "    <label class=\"form-control header-search-wrapper js-chromeless-input-container\">\n",
      "      <div class=\"header-search-scope\"></div>\n",
      "      <input type=\"text\" class=\"form-control header-search-input js-site-search-focus \" data-hotkey=\"s\" name=\"q\" placeholder=\"Search GitHub\" aria-label=\"Search GitHub\" data-unscoped-placeholder=\"Search GitHub\" data-scoped-placeholder=\"Search\" autocapitalize=\"off\" />\n",
      "    </label>\n",
      "</form></div>\n",
      "\n",
      "        </nav>\n",
      "    </div>\n",
      "  </div>\n",
      "</header>\n",
      "\n",
      "\n",
      "\n",
      "\n",
      "    <div id=\"start-of-content\" class=\"accessibility-aid\"></div>\n",
      "\n",
      "      <div id=\"js-flash-container\">\n",
      "</div>\n",
      "\n",
      "\n",
      "    <div role=\"main\">\n",
      "        \n",
      "<div class=\"sn-jumbotron jumbotron-home sn-jumbotron-inverse\">\n",
      "  <div class=\"container-responsive\">\n",
      "    <div class=\"columns\">\n",
      "      <div class=\"homepage-hero-intro column\">\n",
      "        <h1 class=\"display-heading-1 jumbotron-title\">How people build software</h1>\n",
      "        <p class=\"display-intro jumbotron-lead\">Millions of developers use GitHub to build personal projects, support their businesses, and work together on open source technologies.</p>\n",
      "      </div>\n",
      "      <div class=\"homepage-hero-signup column\">\n",
      "          <div class=\"d-none-sm-dn\">\n",
      "            <!-- </textarea> --><!-- '\"` --><form accept-charset=\"UTF-8\" action=\"/join\" autocomplete=\"off\" class=\"home-hero-signup js-signup-form\" data-form-nonce=\"a5f74d53c85f6b4ea6f315e29b1c1d7392628b37\" method=\"post\"><div style=\"margin:0;padding:0;display:inline\"><input name=\"utf8\" type=\"hidden\" value=\"✓\" /><input name=\"authenticity_token\" type=\"hidden\" value=\"HGGSQQJGZdVsIN2jPVK1oSwakItCQsxgWk1l+SnbFuaeFvzB2Y/PY/ZvEVTeUEwYAj8QjYY0PFcyiTJfqOud7A==\" /></div>              <dl class=\"form\">\n",
      "                <dd>\n",
      "                  <label class=\"form-label sr-only\" for=\"user[login]\">Pick a username</label>\n",
      "                  <input type=\"text\" name=\"user[login]\" id=\"user[login]\" class=\"form-control form-control-lg input-block is-autocheck-loading\" placeholder=\"Pick a username\" data-autocheck-url=\"/signup_check/username\" autofocus=\"\" />\n",
      "                </dd>\n",
      "              </dl>\n",
      "              <dl class=\"form\">\n",
      "                <dd>\n",
      "                  <label class=\"form-label sr-only\" for=\"user[email]\">Enter your email address</label>\n",
      "                  <input type=\"text\" name=\"user[email]\" id=\"user[email]\" class=\"form-control form-control-lg input-block js-email-notice-trigger\" placeholder=\"Your email address\" data-autocheck-url=\"/signup_check/email\" />\n",
      "                </dd>\n",
      "              </dl>\n",
      "              <dl class=\"form\">\n",
      "                <dd>\n",
      "                  <label class=\"form-label sr-only\" for=\"user[password]\">Create a password</label>\n",
      "                  <input type=\"password\" name=\"user[password]\" id=\"user[password]\" class=\"form-control form-control-lg input-block\" placeholder=\"Create a password\" data-autocheck-url=\"/signup_check/password\" />\n",
      "                </dd>\n",
      "                <p class=\"form-control-note\">Use at least one letter, one numeral, and seven characters.</p>\n",
      "              </dl>\n",
      "              <input type=\"hidden\" name=\"source\" class=\"js-signup-source\" value=\"form-home\" />\n",
      "              <button class=\"btn btn-theme-green btn-jumbotron btn-block\" type=\"submit\">Sign up for GitHub</button>\n",
      "              <p class=\"form-control-note text-center\">\n",
      "                By clicking \"Sign up for GitHub\", you agree to our\n",
      "                <a class=\"text-white\" href=\"https://help.github.com/terms\" target=\"_blank\">terms of service</a> and\n",
      "                <a class=\"text-white\" href=\"https://help.github.com/privacy\" target=\"_blank\">privacy policy</a>. <span class=\"js-email-notice\">We'll occasionally send you account related emails.</span>\n",
      "              </p>\n",
      "</form>          </div>\n",
      "          <div class=\"d-none-md-up\">\n",
      "            <a href=\"/join?source=button-home\" class=\"btn btn-theme-green btn-jumbotron\" rel=\"nofollow\">Sign up for GitHub</a>\n",
      "          </div>\n",
      "      </div>\n",
      "    </div>\n",
      "  </div>\n",
      "</div>\n",
      "\n",
      "<div class=\"featurette bg-white py-5\">\n",
      "  <div class=\"container-responsive\" style=\"max-width:600px;\">\n",
      "    <a href=\"/universe-2016\" class=\"d-block columns\">\n",
      "      <div class=\"one-fourth column\">\n",
      "        <img src=\"https://assets-cdn.github.com/images/modules/site/universe-logo.png\" alt=\"\" class=\"img-responsive mx-auto mb-3 mb-md-0\" style=\"max-width:110px;\" />\n",
      "      </div>\n",
      "      <div class=\"three-fourths column featurette-lead mb-0\">\n",
      "        <h3 class=\"display-heading-3 text-blue\">A whole new Universe</h3>\n",
      "        <p class=\"mb-0 text-gray\">\n",
      "          Learn about the exciting features and announcements revealed at this year's GitHub Universe conference.\n",
      "        </p>\n",
      "      </div>\n",
      "    </a>\n",
      "  </div>\n",
      "</div>\n",
      "\n",
      "<div class=\"featurette pb-0 pt-6 shade-gray border-top\">\n",
      "  <div class=\"container-responsive\">\n",
      "    <h2 class=\"featurette-heading display-heading-2 mt-3 text-center\">Welcome home, developers</h2>\n",
      "    <p class=\"featurette-lead featurette-lead-center display-intro mb-6 pb-4\">GitHub fosters a fast, flexible, and collaborative development process that lets you work on your own or with others.</p>\n",
      "  </div>\n",
      "  <div class=\"tile-block\">\n",
      "    <div class=\"tile-row\">\n",
      "      <div class=\"tile tile-bordered one-fourth text-center\">\n",
      "        <img src=\"https://assets-cdn.github.com/images/modules/site/home-ill-build.png?sn\" alt=\"\" class=\"img-responsive featurette-illo-sm mb-4 mt-4\" />\n",
      "        <h4 class=\"display-heading-4\">For everything you build</h4>\n",
      "        <p class=\"display-body-sm\">Host and manage your code on GitHub. You can keep your work private or share it with the world.</p>\n",
      "      </div>\n",
      "      <div class=\"tile tile-bordered one-fourth text-center\">\n",
      "        <img src=\"https://assets-cdn.github.com/images/modules/site/home-ill-work.png?sn\" alt=\"\" class=\"img-responsive featurette-illo-sm mb-4 mt-4\" />\n",
      "        <h4 class=\"display-heading-4\">A better way to work</h4>\n",
      "        <p class=\"display-body-sm\">From hobbyists to professionals, GitHub helps developers simplify the way they build software.</p>\n",
      "      </div>\n",
      "      <div class=\"tile tile-bordered one-fourth text-center\">\n",
      "        <img src=\"https://assets-cdn.github.com/images/modules/site/home-ill-projects.png?sn\" alt=\"\" class=\"img-responsive featurette-illo-sm mb-4 mt-4\" />\n",
      "        <h4 class=\"display-heading-4\">Millions of projects</h4>\n",
      "        <p class=\"display-body-sm\">GitHub is home to millions of open source projects. Try one out or get inspired to create your own.</p>\n",
      "      </div>\n",
      "      <div class=\"tile tile-bordered one-fourth text-center\">\n",
      "        <img src=\"https://assets-cdn.github.com/images/modules/site/home-ill-platform.png?sn\" alt=\"\" class=\"img-responsive featurette-illo-sm mb-4 mt-4\" />\n",
      "        <h4 class=\"display-heading-4\">One platform, from start to finish</h4>\n",
      "        <p class=\"display-body-sm\">With hundreds of integrations, GitHub is flexible enough to be at the center of your development process.</p>\n",
      "      </div>\n",
      "    </div>\n",
      "  </div>\n",
      "</div>\n",
      "\n",
      "<div class=\"featurette pb-0\">\n",
      "  <div class=\"container-responsive\">\n",
      "    <h2 class=\"display-heading-2\">Who uses GitHub?</h2>\n",
      "    <hr class=\"triband-hr mt-5 mb-0\" />\n",
      "    <div class=\"columns\">\n",
      "      <div class=\"one-third column my-4\">\n",
      "        <h3 class=\"display-heading-3 mt-2\"><a href=\"/personal\" class=\"text-blue octicon-middle\">Individuals <svg xmlns=\"http://www.w3.org/2000/svg\" aria-hidden=\"true\" class=\"octicon octicon-chevron-right\" height=\"22\" version=\"1.1\" viewBox=\"0 0 8 16\" width=\"11\"><path d=\"M7.5 8l-5 5L1 11.5 4.75 8 1 4.5 2.5 3z\"/></svg></a></h3>\n",
      "        <p>Use GitHub to create a personal project, whether you want to experiment with a new programming language or host your life’s work.</p>\n",
      "      </div>\n",
      "      <div class=\"one-third column my-4\">\n",
      "        <h3 class=\"display-heading-3 mt-2\"><a href=\"/open-source\" class=\"text-orange octicon-middle\">Communities <svg xmlns=\"http://www.w3.org/2000/svg\" aria-hidden=\"true\" class=\"octicon octicon-chevron-right\" height=\"22\" version=\"1.1\" viewBox=\"0 0 8 16\" width=\"11\"><path d=\"M7.5 8l-5 5L1 11.5 4.75 8 1 4.5 2.5 3z\"/></svg></a></h3>\n",
      "        <p>GitHub hosts one of the largest collections of open source software. Create, manage, and work on some of today’s most influential technologies.</p>\n",
      "      </div>\n",
      "      <div class=\"one-third column my-4\">\n",
      "        <h3 class=\"display-heading-3 mt-2\"><a href=\"/business\" class=\"text-purple octicon-middle\">Businesses <svg xmlns=\"http://www.w3.org/2000/svg\" aria-hidden=\"true\" class=\"octicon octicon-chevron-right\" height=\"22\" version=\"1.1\" viewBox=\"0 0 8 16\" width=\"11\"><path d=\"M7.5 8l-5 5L1 11.5 4.75 8 1 4.5 2.5 3z\"/></svg></a></h3>\n",
      "        <p>Businesses of all sizes use GitHub to support their development process and securely build software.</p>\n",
      "      </div>\n",
      "    </div>\n",
      "    <hr class=\"triband-hr mt-0\" />\n",
      "    <div class=\"columns columns-vertically-centered columns-reverse mt-6\">\n",
      "      <div class=\"one-third column\">\n",
      "        <p class=\"display-body-sm\">\n",
      "          GitHub is proud to host projects and organizations like <a href=\"//github.com/nasa\">NASA</a>.\n",
      "        </p>\n",
      "      </div>\n",
      "      <div class=\"two-thirds column\">\n",
      "        <img src=\"https://assets-cdn.github.com/images/modules/site/org_example_nasa.png?sn\" class=\"img-responsive org-example-drop-shadow\" alt=\"NASA is on GitHub\" />\n",
      "      </div>\n",
      "    </div>\n",
      "  </div>\n",
      "</div>\n",
      "\n",
      "<div class=\"featurette shade-gradient pb-4\">\n",
      "  <div class=\"container-responsive\">\n",
      "    <div class=\"pricing-card pricing-card-horizontal\">\n",
      "      <div class=\"pricing-card-cta\">\n",
      "        <a href=\"/join?source=button-home\" class=\"btn btn-block btn-theme-green btn-jumbotron\" rel=\"nofollow\">Sign up for GitHub</a>\n",
      "      </div>\n",
      "      <div class=\"pricing-card-text display-heading-3 mb-0 text-thin\">\n",
      "        Public projects are always free. Work together across unlimited private repositories for $7 / month.\n",
      "      </div>\n",
      "    </div>\n",
      "  </div>\n",
      "</div>\n",
      "\n",
      "  <div class=\"modal-backdrop js-touch-events\"></div>\n",
      "\n",
      "    </div>\n",
      "\n",
      "        <div class=\"container site-footer-container\">\n",
      "  <div class=\"site-footer\" role=\"contentinfo\">\n",
      "    <ul class=\"site-footer-links float-right\">\n",
      "        <li><a href=\"https://github.com/contact\" data-ga-click=\"Footer, go to contact, text:contact\">Contact GitHub</a></li>\n",
      "      <li><a href=\"https://developer.github.com\" data-ga-click=\"Footer, go to api, text:api\">API</a></li>\n",
      "      <li><a href=\"https://training.github.com\" data-ga-click=\"Footer, go to training, text:training\">Training</a></li>\n",
      "      <li><a href=\"https://shop.github.com\" data-ga-click=\"Footer, go to shop, text:shop\">Shop</a></li>\n",
      "        <li><a href=\"https://github.com/blog\" data-ga-click=\"Footer, go to blog, text:blog\">Blog</a></li>\n",
      "        <li><a href=\"https://github.com/about\" data-ga-click=\"Footer, go to about, text:about\">About</a></li>\n",
      "\n",
      "    </ul>\n",
      "\n",
      "    <a href=\"https://github.com\" aria-label=\"Homepage\" class=\"site-footer-mark\" title=\"GitHub\">\n",
      "      <svg xmlns=\"http://www.w3.org/2000/svg\" aria-hidden=\"true\" class=\"octicon octicon-mark-github\" height=\"24\" version=\"1.1\" viewBox=\"0 0 16 16\" width=\"24\"><path d=\"M8 0C3.58 0 0 3.58 0 8c0 3.54 2.29 6.53 5.47 7.59.4.07.55-.17.55-.38 0-.19-.01-.82-.01-1.49-2.01.37-2.53-.49-2.69-.94-.09-.23-.48-.94-.82-1.13-.28-.15-.68-.52-.01-.53.63-.01 1.08.58 1.23.82.72 1.21 1.87.87 2.33.66.07-.52.28-.87.51-1.07-1.78-.2-3.64-.89-3.64-3.95 0-.87.31-1.59.82-2.15-.08-.2-.36-1.02.08-2.12 0 0 .67-.21 2.2.82.64-.18 1.32-.27 2-.27.68 0 1.36.09 2 .27 1.53-1.04 2.2-.82 2.2-.82.44 1.1.16 1.92.08 2.12.51.56.82 1.27.82 2.15 0 3.07-1.87 3.75-3.65 3.95.29.25.54.73.54 1.48 0 1.07-.01 1.93-.01 2.2 0 .21.15.46.55.38A8.013 8.013 0 0 0 16 8c0-4.42-3.58-8-8-8z\"/></svg>\n",
      "</a>\n",
      "    <ul class=\"site-footer-links\">\n",
      "      <li>© 2016 <span title=\"0.01314s from github-fe-651e69d.cp1-iad.github.net\">GitHub</span>, Inc.</li>\n",
      "        <li><a href=\"https://github.com/site/terms\" data-ga-click=\"Footer, go to terms, text:terms\">Terms</a></li>\n",
      "        <li><a href=\"https://github.com/site/privacy\" data-ga-click=\"Footer, go to privacy, text:privacy\">Privacy</a></li>\n",
      "        <li><a href=\"https://github.com/security\" data-ga-click=\"Footer, go to security, text:security\">Security</a></li>\n",
      "        <li><a href=\"https://status.github.com/\" data-ga-click=\"Footer, go to status, text:status\">Status</a></li>\n",
      "        <li><a href=\"https://help.github.com\" data-ga-click=\"Footer, go to help, text:help\">Help</a></li>\n",
      "    </ul>\n",
      "  </div>\n",
      "</div>\n",
      "\n",
      "\n",
      "\n",
      "    \n",
      "\n",
      "    <div id=\"ajax-error-message\" class=\"ajax-error-message flash flash-error\">\n",
      "      <svg xmlns=\"http://www.w3.org/2000/svg\" aria-hidden=\"true\" class=\"octicon octicon-alert\" height=\"16\" version=\"1.1\" viewBox=\"0 0 16 16\" width=\"16\"><path d=\"M8.865 1.52c-.18-.31-.51-.5-.87-.5s-.69.19-.87.5L.275 13.5c-.18.31-.18.69 0 1 .19.31.52.5.87.5h13.7c.36 0 .69-.19.86-.5.17-.31.18-.69.01-1L8.865 1.52zM8.995 13h-2v-2h2v2zm0-3h-2V6h2v4z\"/></svg>\n",
      "      <button type=\"button\" class=\"flash-close js-flash-close js-ajax-error-dismiss\" aria-label=\"Dismiss error\">\n",
      "        <svg xmlns=\"http://www.w3.org/2000/svg\" aria-hidden=\"true\" class=\"octicon octicon-x\" height=\"16\" version=\"1.1\" viewBox=\"0 0 12 16\" width=\"12\"><path d=\"M7.48 8l3.75 3.75-1.48 1.48L6 9.48l-3.75 3.75-1.48-1.48L4.52 8 .77 4.25l1.48-1.48L6 6.52l3.75-3.75 1.48 1.48z\"/></svg>\n",
      "      </button>\n",
      "      You can't perform that action at this time.\n",
      "    </div>\n",
      "\n",
      "\n",
      "      \n",
      "      <script crossorigin=\"anonymous\" integrity=\"sha256-PRE8lHje7/tV2I59VymmedXJN01xoehSXgzSulrIr6I=\" src=\"https://assets-cdn.github.com/assets/frameworks-3d113c9478deeffb55d88e7d5729a679d5c9374d71a1e8525e0cd2ba5ac8afa2.js\"></script>\n",
      "      <script async=\"async\" crossorigin=\"anonymous\" integrity=\"sha256-HVjJihxB3q3hjUcJfdPQqKAQqG5b68rON/GnUhh+rc0=\" src=\"https://assets-cdn.github.com/assets/github-1d58c98a1c41deade18d47097dd3d0a8a010a86e5bebcace37f1a752187eadcd.js\"></script>\n",
      "      \n",
      "      \n",
      "      \n",
      "      \n",
      "      \n",
      "      \n",
      "    <div class=\"js-stale-session-flash stale-session-flash flash flash-warn flash-banner d-none\">\n",
      "      <svg xmlns=\"http://www.w3.org/2000/svg\" aria-hidden=\"true\" class=\"octicon octicon-alert\" height=\"16\" version=\"1.1\" viewBox=\"0 0 16 16\" width=\"16\"><path d=\"M8.865 1.52c-.18-.31-.51-.5-.87-.5s-.69.19-.87.5L.275 13.5c-.18.31-.18.69 0 1 .19.31.52.5.87.5h13.7c.36 0 .69-.19.86-.5.17-.31.18-.69.01-1L8.865 1.52zM8.995 13h-2v-2h2v2zm0-3h-2V6h2v4z\"/></svg>\n",
      "      <span class=\"signed-in-tab-flash\">You signed in with another tab or window. <a href=\"\">Reload</a> to refresh your session.</span>\n",
      "      <span class=\"signed-out-tab-flash\">You signed out in another tab or window. <a href=\"\">Reload</a> to refresh your session.</span>\n",
      "    </div>\n",
      "    <div class=\"facebox\" id=\"facebox\" style=\"display:none;\">\n",
      "  <div class=\"facebox-popup\">\n",
      "    <div class=\"facebox-content\" role=\"dialog\" aria-labelledby=\"facebox-header\" aria-describedby=\"facebox-description\">\n",
      "    </div>\n",
      "    <button type=\"button\" class=\"facebox-close js-facebox-close\" aria-label=\"Close modal\">\n",
      "      <svg xmlns=\"http://www.w3.org/2000/svg\" aria-hidden=\"true\" class=\"octicon octicon-x\" height=\"16\" version=\"1.1\" viewBox=\"0 0 12 16\" width=\"12\"><path d=\"M7.48 8l3.75 3.75-1.48 1.48L6 9.48l-3.75 3.75-1.48-1.48L4.52 8 .77 4.25l1.48-1.48L6 6.52l3.75-3.75 1.48 1.48z\"/></svg>\n",
      "    </button>\n",
      "  </div>\n",
      "</div>\n",
      "\n",
      "  \n",
      "\n",
      "\n",
      "</body></html>\n"
     ]
    }
   ],
   "source": [
    "browser = webdriver.Chrome(\"/home/cosmoscalibur/Downloads/chromedriver\")\n",
    "browser.get('http://github.com')\n",
    "username = browser.find_element_by_id(\"user[login]\")\n",
    "username.send_keys(\"cosmoscalibur@gmail.com\")\n",
    "dar_click = browser.find_element_by_link_text(\"privacy policy\")\n",
    "dar_click.click()\n",
    "codigo = browser.page_source\n",
    "print(codigo)"
   ]
  },
  {
   "cell_type": "markdown",
   "metadata": {},
   "source": [
    "## Bibliografía\n",
    "\n",
    "+ [How to fetch Internet Resources Using The urllib Package](https://docs.python.org/3/howto/urllib2.html).  \n",
    "+ [Structured Markup Processing Tools](Structured Markup Processing Tools).  \n",
    "+ [Internet Protocols and Support](https://docs.python.org/3/library/internet.html).  \n",
    "+ Automate the boring stuff. [Chapter 11 – Web Scraping](https://automatetheboringstuff.com/chapter11/).  \n",
    "+ [First web scraper](https://first-web-scraper.readthedocs.io/en/latest/#act-3-web-scraping).  \n",
    "+ [HOW TO DOWNLOAD DYNAMICALLY LOADED CONTENT USING PYTHON](https://dvenkatsagar.github.io/tutorials/python/2015/10/26/ddlv/).  "
   ]
  }
 ],
 "metadata": {
  "kernelspec": {
   "display_name": "Python 3",
   "language": "python",
   "name": "python3"
  },
  "language_info": {
   "codemirror_mode": {
    "name": "ipython",
    "version": 3
   },
   "file_extension": ".py",
   "mimetype": "text/x-python",
   "name": "python",
   "nbconvert_exporter": "python",
   "pygments_lexer": "ipython3",
   "version": "3.5.2"
  }
 },
 "nbformat": 4,
 "nbformat_minor": 1
}
