{
 "cells": [
  {
   "cell_type": "markdown",
   "metadata": {},
   "source": [
    "# Jupyter Notebooks: Intermedio  \n",
    "\n",
    "Jupyter permite integrar sus capacidades de visualización html con el modulo `IPython.display`. De esta forma se puede generar la visualización de texto, imagen, video y ecuaciones de una forma sistematica al integrarlo con patrones generados mediante código.  "
   ]
  },
  {
   "cell_type": "code",
   "execution_count": 1,
   "metadata": {
    "collapsed": false
   },
   "outputs": [],
   "source": [
    "from IPython.display import display, Latex, Markdown"
   ]
  },
  {
   "cell_type": "markdown",
   "metadata": {},
   "source": [
    "A continuación usaremos una celda de código en la cual guardaremos una expresión markdown en una variable python para su posterior visualización.  "
   ]
  },
  {
   "cell_type": "code",
   "execution_count": 2,
   "metadata": {
    "collapsed": false
   },
   "outputs": [
    {
     "data": {
      "text/markdown": [
       "_Ejemplo_ de **markdown**  \n",
       "Hola mundo"
      ],
      "text/plain": [
       "<IPython.core.display.Markdown object>"
      ]
     },
     "metadata": {},
     "output_type": "display_data"
    }
   ],
   "source": [
    "mark_text = \"_Ejemplo_ de **markdown**  \\nHola mundo\"\n",
    "display(Markdown(mark_text))"
   ]
  },
  {
   "cell_type": "markdown",
   "metadata": {},
   "source": [
    "El método `display` cumple la función de renderización de código html en el navegador, donde dicho código es generado por otro método, en este caso por el método `markdown` que convierte markdown a html y si almacena en un objeto de ipython para dicho fin.  \n",
    "\n",
    "De esta misma forma se pueden generar elementos de documento más complejos de forma automatica, como tablas.  "
   ]
  },
  {
   "cell_type": "code",
   "execution_count": 3,
   "metadata": {
    "collapsed": false
   },
   "outputs": [
    {
     "data": {
      "text/markdown": [
       "|columna 1|columna 2|\n",
       "|---:|:---:|\n",
       "|der|cen|"
      ],
      "text/plain": [
       "<IPython.core.display.Markdown object>"
      ]
     },
     "metadata": {},
     "output_type": "display_data"
    }
   ],
   "source": [
    "fila1 = \"|columna 1|columna 2|\"\n",
    "filaalineacion = \"|---:|:---:|\"\n",
    "fila2 = \"|der|cen|\"\n",
    "display(Markdown(fila1+\"\\n\"+filaalineacion+\"\\n\"+fila2))"
   ]
  },
  {
   "cell_type": "markdown",
   "metadata": {},
   "source": [
    "En este ejemplo las variables fueron asignadas de manera estatica, pero usted puede generar un código que cree el contenido de cada celda, y uniendo su representación en _string_ a las cadenas necesarias para formar el patron markdown de una tabla.  \n",
    "\n",
    "De igual manera es posible generar renderizado de ecuaciones de forma sistematica (elemento aprovechado por paquetes de algebra como Sympy).  "
   ]
  },
  {
   "cell_type": "code",
   "execution_count": 4,
   "metadata": {
    "collapsed": false
   },
   "outputs": [
    {
     "data": {
      "text/latex": [
       "$$\\frac{mc^2}{2}$$"
      ],
      "text/plain": [
       "<IPython.core.display.Latex object>"
      ]
     },
     "metadata": {},
     "output_type": "display_data"
    }
   ],
   "source": [
    "latexexp = \"$$\\\\frac{mc^2}{2}$$\"\n",
    "display(Latex(latexexp))"
   ]
  },
  {
   "cell_type": "markdown",
   "metadata": {},
   "source": [
    "Otras opciones de visualización soportadas son:"
   ]
  },
  {
   "cell_type": "code",
   "execution_count": 5,
   "metadata": {
    "collapsed": false
   },
   "outputs": [
    {
     "data": {
      "text/plain": [
       "['Audio',\n",
       " 'DisplayObject',\n",
       " 'FileLink',\n",
       " 'FileLinks',\n",
       " 'HTML',\n",
       " 'IFrame',\n",
       " 'Image',\n",
       " 'JSON',\n",
       " 'Javascript',\n",
       " 'Latex',\n",
       " 'Markdown',\n",
       " 'Math',\n",
       " 'Pretty',\n",
       " 'SVG',\n",
       " 'ScribdDocument',\n",
       " 'TextDisplayObject',\n",
       " 'VimeoVideo',\n",
       " 'YouTubeVideo',\n",
       " '__builtins__',\n",
       " '__cached__',\n",
       " '__doc__',\n",
       " '__file__',\n",
       " '__loader__',\n",
       " '__name__',\n",
       " '__package__',\n",
       " '__spec__',\n",
       " 'clear_output',\n",
       " 'display',\n",
       " 'display_html',\n",
       " 'display_javascript',\n",
       " 'display_jpeg',\n",
       " 'display_json',\n",
       " 'display_latex',\n",
       " 'display_markdown',\n",
       " 'display_pdf',\n",
       " 'display_png',\n",
       " 'display_pretty',\n",
       " 'display_svg',\n",
       " 'publish_display_data',\n",
       " 'set_matplotlib_close',\n",
       " 'set_matplotlib_formats']"
      ]
     },
     "execution_count": 5,
     "metadata": {},
     "output_type": "execute_result"
    }
   ],
   "source": [
    "import IPython.display as Display\n",
    "dir(Display)"
   ]
  },
  {
   "cell_type": "markdown",
   "metadata": {},
   "source": [
    "Para consultar sobre las distintas opciones posibles a traves de la API de IPython, dirijase a su [documentación](http://ipython.readthedocs.io/en/stable/index.html).  "
   ]
  }
 ],
 "metadata": {
  "kernelspec": {
   "display_name": "Python 3",
   "language": "python",
   "name": "python3"
  },
  "language_info": {
   "codemirror_mode": {
    "name": "ipython",
    "version": 3
   },
   "file_extension": ".py",
   "mimetype": "text/x-python",
   "name": "python",
   "nbconvert_exporter": "python",
   "pygments_lexer": "ipython3",
   "version": "3.5.2"
  }
 },
 "nbformat": 4,
 "nbformat_minor": 0
}
