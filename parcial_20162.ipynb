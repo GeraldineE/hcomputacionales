{
 "cells": [
  {
   "cell_type": "markdown",
   "metadata": {},
   "source": [
    "# Parcial\n",
    "\n",
    "El examen posee duración de 2 horas máximo, de 10:00 A.M. a 12 M.  \n",
    "Puede usar sus notas de clase si estas son en formato Notebook `ipynb`, o cualquier material disponible en el repositorio del curso.  \n",
    "Use las celdas `markdown` y `code` corresponda para la solución de cada punto.  \n",
    "\n",
    "Para la entrega del examen, en caso de contar con internet, debe adjuntar el archivo en este [enlace](https://www.dropbox.com/request/39AOM7WT7EvVc5NHjpMc), de lo contrario solicite la USB al docente para almacenar su entrega.  "
   ]
  },
  {
   "cell_type": "markdown",
   "metadata": {},
   "source": [
    "## Conceptual\n",
    "1. ($0{,}5$) Para una función bash, explique como se indica el uso de argumentos (ingreso de argumentos y recuperación del valor).  \n",
    "1. ($0{,}6$) LaTeX:  \n",
    "    1. Si se desea que la expresión de LaTeX `$5.2x^2$` muestre en el pdf el separador decimal coma, indique la línea que debe existir en el preámbulo del documento LaTeX.  \n",
    "    1. Si usamos `\\usepackage[utf8]{inputenc}` pero no usamos el paquete fontenc, ¿Puede digitarse la letra ‘ñ’ y obtener la correcta visualización en el pdf del carácter? Explique.  \n",
    "1. ($0{,}4$) Realice un cuadro markdown en el cual la columna izquierda indique las siguientes instrucciones con alineación central, y en la columna derecha con alineación izquierda indique la descripción de la instrucción.  \n",
    "    + git clone  \n",
    "    + git rebase  \n",
    "    + git log  \n",
    "    + git branch  \n",
    "1. ($0{,}6$) Indique en forma de ecuación las expresiones matematicas para los siguientes arboles:\n",
    "![Arboles parcial](http://www.math.wpi.edu/IQP/BVCalcHist/Image170.gif)\n",
    "1. ($0{,}5$) Sabemos de las identidades trigonométricas que $1 - sen^2(a)-cos^2(a) = 0$. Sin embargo al usar la biblioteca `math` para su verificación en un ángulo de $\\frac{\\pi}{6}$, presentamos que:"
   ]
  },
  {
   "cell_type": "code",
   "execution_count": 1,
   "metadata": {
    "collapsed": false
   },
   "outputs": [
    {
     "data": {
      "text/plain": [
       "'-0.00000000000000006'"
      ]
     },
     "execution_count": 1,
     "metadata": {},
     "output_type": "execute_result"
    }
   ],
   "source": [
    "from math import sin, cos, pi\n",
    "uno = 1- cos(pi/6)**2 - sin(pi/6)**2\n",
    "format(uno, '.17f')"
   ]
  },
  {
   "cell_type": "markdown",
   "metadata": {},
   "source": [
    "Explique que sucede y como se solventa con el algebra computacional."
   ]
  },
  {
   "cell_type": "markdown",
   "metadata": {},
   "source": [
    "## Práctico  \n",
    "\n",
    "1. ($0{,}5$) Construya un _script_ bash de nombre `concatenar.sh` que reciba dos argumentos e imprima como salida la concatenación (unión de caracteres) de estos finalizando en `_parcial.zip`. Pruebe el funcionamiento en una celda de código.  \n",
    "1. ($1{,}2$) Cree un pdf con LaTeX que reproduzca las primeras 3 celdas de este documento con sus respectivos equivalentes. Compile el archivo desde una celda de código.  \n",
    "1. ($0{,}2$) Comprima desde una celda de código este notebook, con el pdf y tex del punto anterior y usando como secuencia de nombre la salida de su _script_ al usar como primer argumento su documento de identidad y como segundo argumento su primer apellido (es decir, el nombre del zip es dado de forma automatica y no manual). Si no soluciona este punto, aún asi cumpla con el requerimiento de la secuencia de nombre y archivos comprimidos de manera manual (sin ponderación de nota).  \n",
    "1. ($0{,}5$) El correcto uso de markdown y celdas de código ponderara este punto.  "
   ]
  }
 ],
 "metadata": {
  "kernelspec": {
   "display_name": "Python 3",
   "language": "python",
   "name": "python3"
  },
  "language_info": {
   "codemirror_mode": {
    "name": "ipython",
    "version": 3
   },
   "file_extension": ".py",
   "mimetype": "text/x-python",
   "name": "python",
   "nbconvert_exporter": "python",
   "pygments_lexer": "ipython3",
   "version": "3.5.2"
  }
 },
 "nbformat": 4,
 "nbformat_minor": 1
}
